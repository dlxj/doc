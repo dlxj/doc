{
 "metadata": {
  "language_info": {
   "codemirror_mode": {
    "name": "ipython",
    "version": 3
   },
   "file_extension": ".py",
   "mimetype": "text/x-python",
   "name": "python",
   "nbconvert_exporter": "python",
   "pygments_lexer": "ipython3",
   "version": "3.8.3-final"
  },
  "orig_nbformat": 2,
  "kernelspec": {
   "name": "python3",
   "display_name": "Python 3",
   "language": "python"
  }
 },
 "nbformat": 4,
 "nbformat_minor": 2,
 "cells": [
  {
   "source": [
    "# 从Titanic生存率预测问题入门Kaggle [u](https://zhuanlan.zhihu.com/p/53176091)\n"
   ],
   "cell_type": "markdown",
   "metadata": {}
  },
  {
   "source": [
    "## 数据\n",
    "\n",
    "下载数据。https://www.kaggle.com/c/titanic\n",
    "\n",
    "其中\n",
    "\n",
    "gender_submission.csv 文件记录真实的存活情况，1表示存活，0表示不幸遇难；  \n",
    "test.csv 为测试数据集；  \n",
    "train.csv 为训练数据集。\n",
    "\n",
    "```\n",
    "Age 年龄\n",
    "Cabin 船舱号\n",
    "Embarked 登船港口\n",
    "Fare 票价\n",
    "Name 乘客姓名\n",
    "Parch 不同代直系亲属人数\n",
    "SibSp 同代直系亲属人数\n",
    "PassengerId 乘客ID\n",
    "Pclass 客舱等级\n",
    "Sex 性别\n",
    "Ticket 船票编号\n",
    "Survived 存活情况\n",
    "```\n",
    "\n"
   ],
   "cell_type": "markdown",
   "metadata": {}
  },
  {
   "cell_type": "code",
   "execution_count": 107,
   "metadata": {},
   "outputs": [
    {
     "output_type": "stream",
     "name": "stdout",
     "text": [
      "训练数据大小: (891, 12)\n测试数据大小: (418, 11)\nIndex(['PassengerId', 'Survived', 'Pclass', 'Name', 'Sex', 'Age', 'SibSp',\n       'Parch', 'Ticket', 'Fare', 'Cabin', 'Embarked'],\n      dtype='object')\nIndex(['PassengerId', 'Pclass', 'Name', 'Sex', 'Age', 'SibSp', 'Parch',\n       'Ticket', 'Fare', 'Cabin', 'Embarked'],\n      dtype='object')\nIndex(['PassengerId', 'Survived', 'Pclass', 'Name', 'Sex', 'Age', 'SibSp',\n       'Parch', 'Ticket', 'Fare', 'Cabin', 'Embarked'],\n      dtype='object')\n<class 'pandas.core.frame.DataFrame'>\nRangeIndex: 1309 entries, 0 to 1308\nData columns (total 12 columns):\n #   Column       Non-Null Count  Dtype  \n---  ------       --------------  -----  \n 0   PassengerId  1309 non-null   int64  \n 1   Survived     891 non-null    float64\n 2   Pclass       1309 non-null   int64  \n 3   Name         1309 non-null   object \n 4   Sex          1309 non-null   object \n 5   Age          1046 non-null   float64\n 6   SibSp        1309 non-null   int64  \n 7   Parch        1309 non-null   int64  \n 8   Ticket       1309 non-null   object \n 9   Fare         1308 non-null   float64\n 10  Cabin        295 non-null    object \n 11  Embarked     1307 non-null   object \ndtypes: float64(3), int64(4), object(5)\nmemory usage: 122.8+ KB\n"
     ]
    }
   ],
   "source": [
    "#导入包\n",
    "import numpy as np\n",
    "import pandas as pd\n",
    "import os\n",
    "\n",
    "#导入数据\n",
    "train = pd.read_csv(\"./data/train.csv\")\n",
    "test = pd.read_csv(\"./data/test.csv\")\n",
    "\n",
    "# 训练数据集大小： (891, 12)\n",
    "# 测试数据集大小： (418, 11)\n",
    "print('训练数据大小:',train.shape)\n",
    "print('测试数据大小:',test.shape)\n",
    "\n",
    "# 训练数据比预测数据多了一列：即标签\"result\"\n",
    "print( train.columns )\n",
    "print( test.columns )\n",
    "\n",
    "\n",
    "#训练数据集比测试数据集多一列结果列\n",
    "#现在将数据集进行合并，方便进行数据清洗和特征提取\n",
    "full = pd.DataFrame()\n",
    "full = pd.concat([train,test],ignore_index=True)  # 列数不一至的数据帧合并，缺失列的一方会添加空列(所有数据为空白)\n",
    "print(full.columns)\n",
    "\n",
    "full.head()\n",
    "#查看描述统计和信息\n",
    "full.describe()\n",
    "#根据描述统计没有观察到异常值\n",
    "full.info()\n",
    "'''\n",
    "通过info可以看出总共有1309条数据，其中Age，Cabin，Embarked，Fare，Survived均有不同程度的数据缺失，包含数值型数据（Age，Fare和Survived）\n",
    "和字符型数值（Cabin和Embarked），这就需要我们根据不同的数据类型进行相应的数据预处理。\n",
    "'''\n",
    "\n",
    "\n",
    "currDir = os.getcwd() # os.path.dirname(os.path.abspath(__file__))\n",
    "fname_full = os.path.join(currDir, 'full.csv')\n",
    "full.to_csv(fname_full, index=False ,encoding=\"utf-8\")"
   ]
  },
  {
   "source": [
    "## 数据清洗（Data Preparaion）\n",
    "\n",
    "### 补全缺失值\n",
    "\n",
    "```\n",
    "对于数值型数据(Age,Fare)缺失值，我们采用平均值来填充；\n",
    "对于分类数据(Cabin,Embarked)，我们采用众数填充；\n",
    "```\n",
    "\n"
   ],
   "cell_type": "markdown",
   "metadata": {}
  },
  {
   "cell_type": "code",
   "execution_count": 108,
   "metadata": {},
   "outputs": [
    {
     "output_type": "stream",
     "name": "stdout",
     "text": [
      "<class 'pandas.core.frame.DataFrame'>\nRangeIndex: 1309 entries, 0 to 1308\nData columns (total 12 columns):\n #   Column       Non-Null Count  Dtype  \n---  ------       --------------  -----  \n 0   PassengerId  1309 non-null   int64  \n 1   Survived     891 non-null    float64\n 2   Pclass       1309 non-null   int64  \n 3   Name         1309 non-null   object \n 4   Sex          1309 non-null   object \n 5   Age          1309 non-null   float64\n 6   SibSp        1309 non-null   int64  \n 7   Parch        1309 non-null   int64  \n 8   Ticket       1309 non-null   object \n 9   Fare         1308 non-null   float64\n 10  Cabin        295 non-null    object \n 11  Embarked     1307 non-null   object \ndtypes: float64(3), int64(4), object(5)\nmemory usage: 122.8+ KB\n"
     ]
    }
   ],
   "source": [
    "from pandas import DataFrame\n",
    "full['Age']  = full['Age'].fillna(full['Age'].mean())\n",
    "#年龄因为不可从其他途径得知，采用平均年龄填充，此步骤对最终预测结果有影响。\n",
    "full.info()"
   ]
  },
  {
   "cell_type": "code",
   "execution_count": 109,
   "metadata": {},
   "outputs": [
    {
     "output_type": "stream",
     "name": "stdout",
     "text": [
      "<class 'pandas.core.frame.DataFrame'>\nRangeIndex: 1309 entries, 0 to 1308\nData columns (total 12 columns):\n #   Column       Non-Null Count  Dtype  \n---  ------       --------------  -----  \n 0   PassengerId  1309 non-null   int64  \n 1   Survived     891 non-null    float64\n 2   Pclass       1309 non-null   int64  \n 3   Name         1309 non-null   object \n 4   Sex          1309 non-null   object \n 5   Age          1309 non-null   float64\n 6   SibSp        1309 non-null   int64  \n 7   Parch        1309 non-null   int64  \n 8   Ticket       1309 non-null   object \n 9   Fare         1309 non-null   float64\n 10  Cabin        295 non-null    object \n 11  Embarked     1307 non-null   object \ndtypes: float64(3), int64(4), object(5)\nmemory usage: 122.8+ KB\n"
     ]
    }
   ],
   "source": [
    "\"\"\"\n",
    "船票价格\n",
    "\"\"\"\n",
    "full['Fare'] = full['Fare'].fillna(full['Fare'].mean()) #船票价格用平均值填充\n",
    "full.info()"
   ]
  },
  {
   "cell_type": "code",
   "execution_count": 110,
   "metadata": {},
   "outputs": [
    {
     "output_type": "execute_result",
     "data": {
      "text/plain": [
       "S    914\n",
       "C    270\n",
       "Q    123\n",
       "Name: Embarked, dtype: int64"
      ]
     },
     "metadata": {},
     "execution_count": 110
    }
   ],
   "source": [
    "\"\"\"\n",
    "登船港口\n",
    "\"\"\"\n",
    "full['Embarked'].value_counts() #查看登船港口的分布"
   ]
  },
  {
   "cell_type": "code",
   "execution_count": 111,
   "metadata": {},
   "outputs": [],
   "source": [
    "full['Embarked'] = full['Embarked'].fillna('S') #S港登船的人最多，对空值使用S港填充"
   ]
  },
  {
   "cell_type": "code",
   "execution_count": 112,
   "metadata": {},
   "outputs": [
    {
     "output_type": "execute_result",
     "data": {
      "text/plain": [
       "0     NaN\n",
       "1     C85\n",
       "2     NaN\n",
       "3    C123\n",
       "4     NaN\n",
       "Name: Cabin, dtype: object"
      ]
     },
     "metadata": {},
     "execution_count": 112
    }
   ],
   "source": [
    "full['Cabin'].head()"
   ]
  },
  {
   "cell_type": "code",
   "execution_count": 113,
   "metadata": {},
   "outputs": [
    {
     "output_type": "execute_result",
     "data": {
      "text/plain": [
       "   PassengerId  Survived  Pclass  \\\n",
       "0            1       0.0       3   \n",
       "1            2       1.0       1   \n",
       "2            3       1.0       3   \n",
       "3            4       1.0       1   \n",
       "4            5       0.0       3   \n",
       "5            6       0.0       3   \n",
       "6            7       0.0       1   \n",
       "7            8       0.0       3   \n",
       "8            9       1.0       3   \n",
       "9           10       1.0       2   \n",
       "\n",
       "                                                Name     Sex        Age  \\\n",
       "0                            Braund, Mr. Owen Harris    male  22.000000   \n",
       "1  Cumings, Mrs. John Bradley (Florence Briggs Th...  female  38.000000   \n",
       "2                             Heikkinen, Miss. Laina  female  26.000000   \n",
       "3       Futrelle, Mrs. Jacques Heath (Lily May Peel)  female  35.000000   \n",
       "4                           Allen, Mr. William Henry    male  35.000000   \n",
       "5                                   Moran, Mr. James    male  29.881138   \n",
       "6                            McCarthy, Mr. Timothy J    male  54.000000   \n",
       "7                     Palsson, Master. Gosta Leonard    male   2.000000   \n",
       "8  Johnson, Mrs. Oscar W (Elisabeth Vilhelmina Berg)  female  27.000000   \n",
       "9                Nasser, Mrs. Nicholas (Adele Achem)  female  14.000000   \n",
       "\n",
       "   SibSp  Parch            Ticket     Fare Cabin Embarked  \n",
       "0      1      0         A/5 21171   7.2500     U        S  \n",
       "1      1      0          PC 17599  71.2833   C85        C  \n",
       "2      0      0  STON/O2. 3101282   7.9250     U        S  \n",
       "3      1      0            113803  53.1000  C123        S  \n",
       "4      0      0            373450   8.0500     U        S  \n",
       "5      0      0            330877   8.4583     U        Q  \n",
       "6      0      0             17463  51.8625   E46        S  \n",
       "7      3      1            349909  21.0750     U        S  \n",
       "8      0      2            347742  11.1333     U        S  \n",
       "9      1      0            237736  30.0708     U        C  "
      ],
      "text/html": "<div>\n<style scoped>\n    .dataframe tbody tr th:only-of-type {\n        vertical-align: middle;\n    }\n\n    .dataframe tbody tr th {\n        vertical-align: top;\n    }\n\n    .dataframe thead th {\n        text-align: right;\n    }\n</style>\n<table border=\"1\" class=\"dataframe\">\n  <thead>\n    <tr style=\"text-align: right;\">\n      <th></th>\n      <th>PassengerId</th>\n      <th>Survived</th>\n      <th>Pclass</th>\n      <th>Name</th>\n      <th>Sex</th>\n      <th>Age</th>\n      <th>SibSp</th>\n      <th>Parch</th>\n      <th>Ticket</th>\n      <th>Fare</th>\n      <th>Cabin</th>\n      <th>Embarked</th>\n    </tr>\n  </thead>\n  <tbody>\n    <tr>\n      <th>0</th>\n      <td>1</td>\n      <td>0.0</td>\n      <td>3</td>\n      <td>Braund, Mr. Owen Harris</td>\n      <td>male</td>\n      <td>22.000000</td>\n      <td>1</td>\n      <td>0</td>\n      <td>A/5 21171</td>\n      <td>7.2500</td>\n      <td>U</td>\n      <td>S</td>\n    </tr>\n    <tr>\n      <th>1</th>\n      <td>2</td>\n      <td>1.0</td>\n      <td>1</td>\n      <td>Cumings, Mrs. John Bradley (Florence Briggs Th...</td>\n      <td>female</td>\n      <td>38.000000</td>\n      <td>1</td>\n      <td>0</td>\n      <td>PC 17599</td>\n      <td>71.2833</td>\n      <td>C85</td>\n      <td>C</td>\n    </tr>\n    <tr>\n      <th>2</th>\n      <td>3</td>\n      <td>1.0</td>\n      <td>3</td>\n      <td>Heikkinen, Miss. Laina</td>\n      <td>female</td>\n      <td>26.000000</td>\n      <td>0</td>\n      <td>0</td>\n      <td>STON/O2. 3101282</td>\n      <td>7.9250</td>\n      <td>U</td>\n      <td>S</td>\n    </tr>\n    <tr>\n      <th>3</th>\n      <td>4</td>\n      <td>1.0</td>\n      <td>1</td>\n      <td>Futrelle, Mrs. Jacques Heath (Lily May Peel)</td>\n      <td>female</td>\n      <td>35.000000</td>\n      <td>1</td>\n      <td>0</td>\n      <td>113803</td>\n      <td>53.1000</td>\n      <td>C123</td>\n      <td>S</td>\n    </tr>\n    <tr>\n      <th>4</th>\n      <td>5</td>\n      <td>0.0</td>\n      <td>3</td>\n      <td>Allen, Mr. William Henry</td>\n      <td>male</td>\n      <td>35.000000</td>\n      <td>0</td>\n      <td>0</td>\n      <td>373450</td>\n      <td>8.0500</td>\n      <td>U</td>\n      <td>S</td>\n    </tr>\n    <tr>\n      <th>5</th>\n      <td>6</td>\n      <td>0.0</td>\n      <td>3</td>\n      <td>Moran, Mr. James</td>\n      <td>male</td>\n      <td>29.881138</td>\n      <td>0</td>\n      <td>0</td>\n      <td>330877</td>\n      <td>8.4583</td>\n      <td>U</td>\n      <td>Q</td>\n    </tr>\n    <tr>\n      <th>6</th>\n      <td>7</td>\n      <td>0.0</td>\n      <td>1</td>\n      <td>McCarthy, Mr. Timothy J</td>\n      <td>male</td>\n      <td>54.000000</td>\n      <td>0</td>\n      <td>0</td>\n      <td>17463</td>\n      <td>51.8625</td>\n      <td>E46</td>\n      <td>S</td>\n    </tr>\n    <tr>\n      <th>7</th>\n      <td>8</td>\n      <td>0.0</td>\n      <td>3</td>\n      <td>Palsson, Master. Gosta Leonard</td>\n      <td>male</td>\n      <td>2.000000</td>\n      <td>3</td>\n      <td>1</td>\n      <td>349909</td>\n      <td>21.0750</td>\n      <td>U</td>\n      <td>S</td>\n    </tr>\n    <tr>\n      <th>8</th>\n      <td>9</td>\n      <td>1.0</td>\n      <td>3</td>\n      <td>Johnson, Mrs. Oscar W (Elisabeth Vilhelmina Berg)</td>\n      <td>female</td>\n      <td>27.000000</td>\n      <td>0</td>\n      <td>2</td>\n      <td>347742</td>\n      <td>11.1333</td>\n      <td>U</td>\n      <td>S</td>\n    </tr>\n    <tr>\n      <th>9</th>\n      <td>10</td>\n      <td>1.0</td>\n      <td>2</td>\n      <td>Nasser, Mrs. Nicholas (Adele Achem)</td>\n      <td>female</td>\n      <td>14.000000</td>\n      <td>1</td>\n      <td>0</td>\n      <td>237736</td>\n      <td>30.0708</td>\n      <td>U</td>\n      <td>C</td>\n    </tr>\n  </tbody>\n</table>\n</div>"
     },
     "metadata": {},
     "execution_count": 113
    }
   ],
   "source": [
    "full['Cabin']=full['Cabin'].fillna('U')#船舱号Cabin的缺失值比较多，我们对于空值填充U（Unknow）\n",
    "full.head(10)"
   ]
  },
  {
   "source": [
    "## 特征提取"
   ],
   "cell_type": "markdown",
   "metadata": {}
  },
  {
   "cell_type": "code",
   "execution_count": 114,
   "metadata": {},
   "outputs": [
    {
     "output_type": "execute_result",
     "data": {
      "text/plain": [
       "0    1\n",
       "1    0\n",
       "2    0\n",
       "3    0\n",
       "4    1\n",
       "Name: Sex, dtype: int64"
      ]
     },
     "metadata": {},
     "execution_count": 114
    }
   ],
   "source": [
    "#将男女这种简单的类比区分直接用数值代替，‘male’为1，‘female’为0\n",
    "full['Sex']=full['Sex'].map(lambda x: 1 if x==\"male\" else 0)#Series的map方法可以接受一个函数或含有映射关系的字典型对象\n",
    "full['Sex'].head()"
   ]
  },
  {
   "source": [
    "### One hot encode"
   ],
   "cell_type": "markdown",
   "metadata": {}
  },
  {
   "cell_type": "code",
   "execution_count": 115,
   "metadata": {},
   "outputs": [
    {
     "output_type": "execute_result",
     "data": {
      "text/plain": [
       "   Embarked_C  Embarked_Q  Embarked_S\n",
       "0           0           0           1\n",
       "1           1           0           0\n",
       "2           0           0           1\n",
       "3           0           0           1\n",
       "4           0           0           1"
      ],
      "text/html": "<div>\n<style scoped>\n    .dataframe tbody tr th:only-of-type {\n        vertical-align: middle;\n    }\n\n    .dataframe tbody tr th {\n        vertical-align: top;\n    }\n\n    .dataframe thead th {\n        text-align: right;\n    }\n</style>\n<table border=\"1\" class=\"dataframe\">\n  <thead>\n    <tr style=\"text-align: right;\">\n      <th></th>\n      <th>Embarked_C</th>\n      <th>Embarked_Q</th>\n      <th>Embarked_S</th>\n    </tr>\n  </thead>\n  <tbody>\n    <tr>\n      <th>0</th>\n      <td>0</td>\n      <td>0</td>\n      <td>1</td>\n    </tr>\n    <tr>\n      <th>1</th>\n      <td>1</td>\n      <td>0</td>\n      <td>0</td>\n    </tr>\n    <tr>\n      <th>2</th>\n      <td>0</td>\n      <td>0</td>\n      <td>1</td>\n    </tr>\n    <tr>\n      <th>3</th>\n      <td>0</td>\n      <td>0</td>\n      <td>1</td>\n    </tr>\n    <tr>\n      <th>4</th>\n      <td>0</td>\n      <td>0</td>\n      <td>1</td>\n    </tr>\n  </tbody>\n</table>\n</div>"
     },
     "metadata": {},
     "execution_count": 115
    }
   ],
   "source": [
    "embarkedDf = pd.get_dummies(full['Embarked'],prefix='Embarked')#predix参数用于指定类别标签\n",
    "embarkedDf.head()"
   ]
  },
  {
   "cell_type": "code",
   "execution_count": 116,
   "metadata": {},
   "outputs": [
    {
     "output_type": "execute_result",
     "data": {
      "text/plain": [
       "   PassengerId  Survived  Pclass  \\\n",
       "0            1       0.0       3   \n",
       "1            2       1.0       1   \n",
       "2            3       1.0       3   \n",
       "3            4       1.0       1   \n",
       "4            5       0.0       3   \n",
       "\n",
       "                                                Name  Sex   Age  SibSp  Parch  \\\n",
       "0                            Braund, Mr. Owen Harris    1  22.0      1      0   \n",
       "1  Cumings, Mrs. John Bradley (Florence Briggs Th...    0  38.0      1      0   \n",
       "2                             Heikkinen, Miss. Laina    0  26.0      0      0   \n",
       "3       Futrelle, Mrs. Jacques Heath (Lily May Peel)    0  35.0      1      0   \n",
       "4                           Allen, Mr. William Henry    1  35.0      0      0   \n",
       "\n",
       "             Ticket     Fare Cabin  Embarked_C  Embarked_Q  Embarked_S  \n",
       "0         A/5 21171   7.2500     U           0           0           1  \n",
       "1          PC 17599  71.2833   C85           1           0           0  \n",
       "2  STON/O2. 3101282   7.9250     U           0           0           1  \n",
       "3            113803  53.1000  C123           0           0           1  \n",
       "4            373450   8.0500     U           0           0           1  "
      ],
      "text/html": "<div>\n<style scoped>\n    .dataframe tbody tr th:only-of-type {\n        vertical-align: middle;\n    }\n\n    .dataframe tbody tr th {\n        vertical-align: top;\n    }\n\n    .dataframe thead th {\n        text-align: right;\n    }\n</style>\n<table border=\"1\" class=\"dataframe\">\n  <thead>\n    <tr style=\"text-align: right;\">\n      <th></th>\n      <th>PassengerId</th>\n      <th>Survived</th>\n      <th>Pclass</th>\n      <th>Name</th>\n      <th>Sex</th>\n      <th>Age</th>\n      <th>SibSp</th>\n      <th>Parch</th>\n      <th>Ticket</th>\n      <th>Fare</th>\n      <th>Cabin</th>\n      <th>Embarked_C</th>\n      <th>Embarked_Q</th>\n      <th>Embarked_S</th>\n    </tr>\n  </thead>\n  <tbody>\n    <tr>\n      <th>0</th>\n      <td>1</td>\n      <td>0.0</td>\n      <td>3</td>\n      <td>Braund, Mr. Owen Harris</td>\n      <td>1</td>\n      <td>22.0</td>\n      <td>1</td>\n      <td>0</td>\n      <td>A/5 21171</td>\n      <td>7.2500</td>\n      <td>U</td>\n      <td>0</td>\n      <td>0</td>\n      <td>1</td>\n    </tr>\n    <tr>\n      <th>1</th>\n      <td>2</td>\n      <td>1.0</td>\n      <td>1</td>\n      <td>Cumings, Mrs. John Bradley (Florence Briggs Th...</td>\n      <td>0</td>\n      <td>38.0</td>\n      <td>1</td>\n      <td>0</td>\n      <td>PC 17599</td>\n      <td>71.2833</td>\n      <td>C85</td>\n      <td>1</td>\n      <td>0</td>\n      <td>0</td>\n    </tr>\n    <tr>\n      <th>2</th>\n      <td>3</td>\n      <td>1.0</td>\n      <td>3</td>\n      <td>Heikkinen, Miss. Laina</td>\n      <td>0</td>\n      <td>26.0</td>\n      <td>0</td>\n      <td>0</td>\n      <td>STON/O2. 3101282</td>\n      <td>7.9250</td>\n      <td>U</td>\n      <td>0</td>\n      <td>0</td>\n      <td>1</td>\n    </tr>\n    <tr>\n      <th>3</th>\n      <td>4</td>\n      <td>1.0</td>\n      <td>1</td>\n      <td>Futrelle, Mrs. Jacques Heath (Lily May Peel)</td>\n      <td>0</td>\n      <td>35.0</td>\n      <td>1</td>\n      <td>0</td>\n      <td>113803</td>\n      <td>53.1000</td>\n      <td>C123</td>\n      <td>0</td>\n      <td>0</td>\n      <td>1</td>\n    </tr>\n    <tr>\n      <th>4</th>\n      <td>5</td>\n      <td>0.0</td>\n      <td>3</td>\n      <td>Allen, Mr. William Henry</td>\n      <td>1</td>\n      <td>35.0</td>\n      <td>0</td>\n      <td>0</td>\n      <td>373450</td>\n      <td>8.0500</td>\n      <td>U</td>\n      <td>0</td>\n      <td>0</td>\n      <td>1</td>\n    </tr>\n  </tbody>\n</table>\n</div>"
     },
     "metadata": {},
     "execution_count": 116
    }
   ],
   "source": [
    "full = pd.concat([full,embarkedDf],axis=1)\n",
    "full.drop('Embarked',axis=1,inplace=True)#删除‘Embarked’列\n",
    "full.head()"
   ]
  },
  {
   "cell_type": "code",
   "execution_count": 117,
   "metadata": {},
   "outputs": [
    {
     "output_type": "execute_result",
     "data": {
      "text/plain": [
       "   PassengerId  Survived                                               Name  \\\n",
       "0            1       0.0                            Braund, Mr. Owen Harris   \n",
       "1            2       1.0  Cumings, Mrs. John Bradley (Florence Briggs Th...   \n",
       "2            3       1.0                             Heikkinen, Miss. Laina   \n",
       "3            4       1.0       Futrelle, Mrs. Jacques Heath (Lily May Peel)   \n",
       "4            5       0.0                           Allen, Mr. William Henry   \n",
       "\n",
       "   Sex   Age  SibSp  Parch            Ticket     Fare Cabin  Embarked_C  \\\n",
       "0    1  22.0      1      0         A/5 21171   7.2500     U           0   \n",
       "1    0  38.0      1      0          PC 17599  71.2833   C85           1   \n",
       "2    0  26.0      0      0  STON/O2. 3101282   7.9250     U           0   \n",
       "3    0  35.0      1      0            113803  53.1000  C123           0   \n",
       "4    1  35.0      0      0            373450   8.0500     U           0   \n",
       "\n",
       "   Embarked_Q  Embarked_S  Pclass_1  Pclass_2  Pclass_3  \n",
       "0           0           1         0         0         1  \n",
       "1           0           0         1         0         0  \n",
       "2           0           1         0         0         1  \n",
       "3           0           1         1         0         0  \n",
       "4           0           1         0         0         1  "
      ],
      "text/html": "<div>\n<style scoped>\n    .dataframe tbody tr th:only-of-type {\n        vertical-align: middle;\n    }\n\n    .dataframe tbody tr th {\n        vertical-align: top;\n    }\n\n    .dataframe thead th {\n        text-align: right;\n    }\n</style>\n<table border=\"1\" class=\"dataframe\">\n  <thead>\n    <tr style=\"text-align: right;\">\n      <th></th>\n      <th>PassengerId</th>\n      <th>Survived</th>\n      <th>Name</th>\n      <th>Sex</th>\n      <th>Age</th>\n      <th>SibSp</th>\n      <th>Parch</th>\n      <th>Ticket</th>\n      <th>Fare</th>\n      <th>Cabin</th>\n      <th>Embarked_C</th>\n      <th>Embarked_Q</th>\n      <th>Embarked_S</th>\n      <th>Pclass_1</th>\n      <th>Pclass_2</th>\n      <th>Pclass_3</th>\n    </tr>\n  </thead>\n  <tbody>\n    <tr>\n      <th>0</th>\n      <td>1</td>\n      <td>0.0</td>\n      <td>Braund, Mr. Owen Harris</td>\n      <td>1</td>\n      <td>22.0</td>\n      <td>1</td>\n      <td>0</td>\n      <td>A/5 21171</td>\n      <td>7.2500</td>\n      <td>U</td>\n      <td>0</td>\n      <td>0</td>\n      <td>1</td>\n      <td>0</td>\n      <td>0</td>\n      <td>1</td>\n    </tr>\n    <tr>\n      <th>1</th>\n      <td>2</td>\n      <td>1.0</td>\n      <td>Cumings, Mrs. John Bradley (Florence Briggs Th...</td>\n      <td>0</td>\n      <td>38.0</td>\n      <td>1</td>\n      <td>0</td>\n      <td>PC 17599</td>\n      <td>71.2833</td>\n      <td>C85</td>\n      <td>1</td>\n      <td>0</td>\n      <td>0</td>\n      <td>1</td>\n      <td>0</td>\n      <td>0</td>\n    </tr>\n    <tr>\n      <th>2</th>\n      <td>3</td>\n      <td>1.0</td>\n      <td>Heikkinen, Miss. Laina</td>\n      <td>0</td>\n      <td>26.0</td>\n      <td>0</td>\n      <td>0</td>\n      <td>STON/O2. 3101282</td>\n      <td>7.9250</td>\n      <td>U</td>\n      <td>0</td>\n      <td>0</td>\n      <td>1</td>\n      <td>0</td>\n      <td>0</td>\n      <td>1</td>\n    </tr>\n    <tr>\n      <th>3</th>\n      <td>4</td>\n      <td>1.0</td>\n      <td>Futrelle, Mrs. Jacques Heath (Lily May Peel)</td>\n      <td>0</td>\n      <td>35.0</td>\n      <td>1</td>\n      <td>0</td>\n      <td>113803</td>\n      <td>53.1000</td>\n      <td>C123</td>\n      <td>0</td>\n      <td>0</td>\n      <td>1</td>\n      <td>1</td>\n      <td>0</td>\n      <td>0</td>\n    </tr>\n    <tr>\n      <th>4</th>\n      <td>5</td>\n      <td>0.0</td>\n      <td>Allen, Mr. William Henry</td>\n      <td>1</td>\n      <td>35.0</td>\n      <td>0</td>\n      <td>0</td>\n      <td>373450</td>\n      <td>8.0500</td>\n      <td>U</td>\n      <td>0</td>\n      <td>0</td>\n      <td>1</td>\n      <td>0</td>\n      <td>0</td>\n      <td>1</td>\n    </tr>\n  </tbody>\n</table>\n</div>"
     },
     "metadata": {},
     "execution_count": 117
    }
   ],
   "source": [
    "# 客舱等级（Pcalss）\n",
    "pclassDf = pd.get_dummies(full['Pclass'],prefix='Pclass')\n",
    "full = pd.concat([full,pclassDf],axis=1)\n",
    "full.drop('Pclass',axis=1,inplace=True)\n",
    "full.head()"
   ]
  },
  {
   "cell_type": "code",
   "execution_count": 118,
   "metadata": {},
   "outputs": [
    {
     "output_type": "execute_result",
     "data": {
      "text/plain": [
       "Mr              757\n",
       "Miss            260\n",
       "Mrs             197\n",
       "Master           61\n",
       "Dr                8\n",
       "Rev               8\n",
       "Col               4\n",
       "Major             2\n",
       "Ms                2\n",
       "Mlle              2\n",
       "Dona              1\n",
       "Capt              1\n",
       "Lady              1\n",
       "Mme               1\n",
       "Sir               1\n",
       "Jonkheer          1\n",
       "the Countess      1\n",
       "Don               1\n",
       "Name: Title, dtype: int64"
      ]
     },
     "metadata": {},
     "execution_count": 118
    }
   ],
   "source": [
    "def get_title(name):#定义称谓提取函数\n",
    "    str1=name.split(',')[1]#提取，后边的字符串\n",
    "    str2=str1.split('.')[0]#提取.前面的字符串\n",
    "    str3=str2.strip()#用于去除空格\n",
    "    return str3\n",
    "titleDf = pd.DataFrame()\n",
    "titleDf['Title'] = full['Name'].map(get_title)\n",
    "titleDf['Title'].value_counts()"
   ]
  },
  {
   "cell_type": "code",
   "execution_count": 119,
   "metadata": {},
   "outputs": [
    {
     "output_type": "execute_result",
     "data": {
      "text/plain": [
       "Mr         757\n",
       "Miss       262\n",
       "Mrs        200\n",
       "Master      61\n",
       "Officer     23\n",
       "Royalty      6\n",
       "Name: Title, dtype: int64"
      ]
     },
     "metadata": {},
     "execution_count": 119
    }
   ],
   "source": [
    "#头衔类别有很多，我们需要对其进行进一步的分类映射\n",
    "title_mapDict = {\n",
    "                    \"Capt\":       \"Officer\",\n",
    "                    \"Col\":        \"Officer\",\n",
    "                    \"Major\":      \"Officer\",\n",
    "                    \"Jonkheer\":   \"Royalty\",\n",
    "                    \"Don\":        \"Royalty\",\n",
    "                    \"Sir\" :       \"Royalty\",\n",
    "                    \"Dr\":         \"Officer\",\n",
    "                    \"Rev\":        \"Officer\",\n",
    "                    \"the Countess\":\"Royalty\",\n",
    "                    \"Dona\":       \"Royalty\",\n",
    "                    \"Mme\":        \"Mrs\",\n",
    "                    \"Mlle\":       \"Miss\",\n",
    "                    \"Ms\":         \"Mrs\",\n",
    "                    \"Mr\" :        \"Mr\",\n",
    "                    \"Mrs\" :       \"Mrs\",\n",
    "                    \"Miss\" :      \"Miss\",\n",
    "                    \"Master\" :    \"Master\",\n",
    "                    \"Lady\" :      \"Royalty\"\n",
    "                    }\n",
    "titleDf['Title'] = titleDf['Title'].map(title_mapDict)\n",
    "titleDf['Title'].value_counts()"
   ]
  },
  {
   "cell_type": "code",
   "execution_count": 120,
   "metadata": {},
   "outputs": [
    {
     "output_type": "execute_result",
     "data": {
      "text/plain": [
       "   Master  Miss  Mr  Mrs  Officer  Royalty\n",
       "0       0     0   1    0        0        0\n",
       "1       0     0   0    1        0        0\n",
       "2       0     1   0    0        0        0\n",
       "3       0     0   0    1        0        0\n",
       "4       0     0   1    0        0        0"
      ],
      "text/html": "<div>\n<style scoped>\n    .dataframe tbody tr th:only-of-type {\n        vertical-align: middle;\n    }\n\n    .dataframe tbody tr th {\n        vertical-align: top;\n    }\n\n    .dataframe thead th {\n        text-align: right;\n    }\n</style>\n<table border=\"1\" class=\"dataframe\">\n  <thead>\n    <tr style=\"text-align: right;\">\n      <th></th>\n      <th>Master</th>\n      <th>Miss</th>\n      <th>Mr</th>\n      <th>Mrs</th>\n      <th>Officer</th>\n      <th>Royalty</th>\n    </tr>\n  </thead>\n  <tbody>\n    <tr>\n      <th>0</th>\n      <td>0</td>\n      <td>0</td>\n      <td>1</td>\n      <td>0</td>\n      <td>0</td>\n      <td>0</td>\n    </tr>\n    <tr>\n      <th>1</th>\n      <td>0</td>\n      <td>0</td>\n      <td>0</td>\n      <td>1</td>\n      <td>0</td>\n      <td>0</td>\n    </tr>\n    <tr>\n      <th>2</th>\n      <td>0</td>\n      <td>1</td>\n      <td>0</td>\n      <td>0</td>\n      <td>0</td>\n      <td>0</td>\n    </tr>\n    <tr>\n      <th>3</th>\n      <td>0</td>\n      <td>0</td>\n      <td>0</td>\n      <td>1</td>\n      <td>0</td>\n      <td>0</td>\n    </tr>\n    <tr>\n      <th>4</th>\n      <td>0</td>\n      <td>0</td>\n      <td>1</td>\n      <td>0</td>\n      <td>0</td>\n      <td>0</td>\n    </tr>\n  </tbody>\n</table>\n</div>"
     },
     "metadata": {},
     "execution_count": 120
    }
   ],
   "source": [
    "titleDf = pd.get_dummies(titleDf['Title'])\n",
    "titleDf.head()"
   ]
  },
  {
   "cell_type": "code",
   "execution_count": 121,
   "metadata": {},
   "outputs": [
    {
     "output_type": "execute_result",
     "data": {
      "text/plain": [
       "   PassengerId  Survived  Sex   Age  SibSp  Parch            Ticket     Fare  \\\n",
       "0            1       0.0    1  22.0      1      0         A/5 21171   7.2500   \n",
       "1            2       1.0    0  38.0      1      0          PC 17599  71.2833   \n",
       "2            3       1.0    0  26.0      0      0  STON/O2. 3101282   7.9250   \n",
       "3            4       1.0    0  35.0      1      0            113803  53.1000   \n",
       "4            5       0.0    1  35.0      0      0            373450   8.0500   \n",
       "\n",
       "  Cabin  Embarked_C  ...  Embarked_S  Pclass_1  Pclass_2  Pclass_3  Master  \\\n",
       "0     U           0  ...           1         0         0         1       0   \n",
       "1   C85           1  ...           0         1         0         0       0   \n",
       "2     U           0  ...           1         0         0         1       0   \n",
       "3  C123           0  ...           1         1         0         0       0   \n",
       "4     U           0  ...           1         0         0         1       0   \n",
       "\n",
       "   Miss  Mr  Mrs  Officer  Royalty  \n",
       "0     0   1    0        0        0  \n",
       "1     0   0    1        0        0  \n",
       "2     1   0    0        0        0  \n",
       "3     0   0    1        0        0  \n",
       "4     0   1    0        0        0  \n",
       "\n",
       "[5 rows x 21 columns]"
      ],
      "text/html": "<div>\n<style scoped>\n    .dataframe tbody tr th:only-of-type {\n        vertical-align: middle;\n    }\n\n    .dataframe tbody tr th {\n        vertical-align: top;\n    }\n\n    .dataframe thead th {\n        text-align: right;\n    }\n</style>\n<table border=\"1\" class=\"dataframe\">\n  <thead>\n    <tr style=\"text-align: right;\">\n      <th></th>\n      <th>PassengerId</th>\n      <th>Survived</th>\n      <th>Sex</th>\n      <th>Age</th>\n      <th>SibSp</th>\n      <th>Parch</th>\n      <th>Ticket</th>\n      <th>Fare</th>\n      <th>Cabin</th>\n      <th>Embarked_C</th>\n      <th>...</th>\n      <th>Embarked_S</th>\n      <th>Pclass_1</th>\n      <th>Pclass_2</th>\n      <th>Pclass_3</th>\n      <th>Master</th>\n      <th>Miss</th>\n      <th>Mr</th>\n      <th>Mrs</th>\n      <th>Officer</th>\n      <th>Royalty</th>\n    </tr>\n  </thead>\n  <tbody>\n    <tr>\n      <th>0</th>\n      <td>1</td>\n      <td>0.0</td>\n      <td>1</td>\n      <td>22.0</td>\n      <td>1</td>\n      <td>0</td>\n      <td>A/5 21171</td>\n      <td>7.2500</td>\n      <td>U</td>\n      <td>0</td>\n      <td>...</td>\n      <td>1</td>\n      <td>0</td>\n      <td>0</td>\n      <td>1</td>\n      <td>0</td>\n      <td>0</td>\n      <td>1</td>\n      <td>0</td>\n      <td>0</td>\n      <td>0</td>\n    </tr>\n    <tr>\n      <th>1</th>\n      <td>2</td>\n      <td>1.0</td>\n      <td>0</td>\n      <td>38.0</td>\n      <td>1</td>\n      <td>0</td>\n      <td>PC 17599</td>\n      <td>71.2833</td>\n      <td>C85</td>\n      <td>1</td>\n      <td>...</td>\n      <td>0</td>\n      <td>1</td>\n      <td>0</td>\n      <td>0</td>\n      <td>0</td>\n      <td>0</td>\n      <td>0</td>\n      <td>1</td>\n      <td>0</td>\n      <td>0</td>\n    </tr>\n    <tr>\n      <th>2</th>\n      <td>3</td>\n      <td>1.0</td>\n      <td>0</td>\n      <td>26.0</td>\n      <td>0</td>\n      <td>0</td>\n      <td>STON/O2. 3101282</td>\n      <td>7.9250</td>\n      <td>U</td>\n      <td>0</td>\n      <td>...</td>\n      <td>1</td>\n      <td>0</td>\n      <td>0</td>\n      <td>1</td>\n      <td>0</td>\n      <td>1</td>\n      <td>0</td>\n      <td>0</td>\n      <td>0</td>\n      <td>0</td>\n    </tr>\n    <tr>\n      <th>3</th>\n      <td>4</td>\n      <td>1.0</td>\n      <td>0</td>\n      <td>35.0</td>\n      <td>1</td>\n      <td>0</td>\n      <td>113803</td>\n      <td>53.1000</td>\n      <td>C123</td>\n      <td>0</td>\n      <td>...</td>\n      <td>1</td>\n      <td>1</td>\n      <td>0</td>\n      <td>0</td>\n      <td>0</td>\n      <td>0</td>\n      <td>0</td>\n      <td>1</td>\n      <td>0</td>\n      <td>0</td>\n    </tr>\n    <tr>\n      <th>4</th>\n      <td>5</td>\n      <td>0.0</td>\n      <td>1</td>\n      <td>35.0</td>\n      <td>0</td>\n      <td>0</td>\n      <td>373450</td>\n      <td>8.0500</td>\n      <td>U</td>\n      <td>0</td>\n      <td>...</td>\n      <td>1</td>\n      <td>0</td>\n      <td>0</td>\n      <td>1</td>\n      <td>0</td>\n      <td>0</td>\n      <td>1</td>\n      <td>0</td>\n      <td>0</td>\n      <td>0</td>\n    </tr>\n  </tbody>\n</table>\n<p>5 rows × 21 columns</p>\n</div>"
     },
     "metadata": {},
     "execution_count": 121
    }
   ],
   "source": [
    "full = pd.concat([full,titleDf],axis=1)\n",
    "full.drop('Name',axis=1,inplace=True)\n",
    "full.head()"
   ]
  },
  {
   "cell_type": "code",
   "execution_count": 122,
   "metadata": {},
   "outputs": [
    {
     "output_type": "execute_result",
     "data": {
      "text/plain": [
       "0    U\n",
       "1    C\n",
       "2    U\n",
       "3    C\n",
       "4    U\n",
       "Name: Cabin, dtype: object"
      ]
     },
     "metadata": {},
     "execution_count": 122
    }
   ],
   "source": [
    "cabinDf = pd.DataFrame()\n",
    "full['Cabin'] = full['Cabin'].map(lambda c:c[0])#客舱首字母即为类别\n",
    "full['Cabin'].head()"
   ]
  },
  {
   "cell_type": "code",
   "execution_count": 123,
   "metadata": {},
   "outputs": [
    {
     "output_type": "execute_result",
     "data": {
      "text/plain": [
       "   PassengerId  Survived  Sex   Age  SibSp  Parch            Ticket     Fare  \\\n",
       "0            1       0.0    1  22.0      1      0         A/5 21171   7.2500   \n",
       "1            2       1.0    0  38.0      1      0          PC 17599  71.2833   \n",
       "2            3       1.0    0  26.0      0      0  STON/O2. 3101282   7.9250   \n",
       "3            4       1.0    0  35.0      1      0            113803  53.1000   \n",
       "4            5       0.0    1  35.0      0      0            373450   8.0500   \n",
       "\n",
       "   Embarked_C  Embarked_Q  ...  Royalty  Cabin_A  Cabin_B  Cabin_C  Cabin_D  \\\n",
       "0           0           0  ...        0        0        0        0        0   \n",
       "1           1           0  ...        0        0        0        1        0   \n",
       "2           0           0  ...        0        0        0        0        0   \n",
       "3           0           0  ...        0        0        0        1        0   \n",
       "4           0           0  ...        0        0        0        0        0   \n",
       "\n",
       "   Cabin_E  Cabin_F  Cabin_G  Cabin_T  Cabin_U  \n",
       "0        0        0        0        0        1  \n",
       "1        0        0        0        0        0  \n",
       "2        0        0        0        0        1  \n",
       "3        0        0        0        0        0  \n",
       "4        0        0        0        0        1  \n",
       "\n",
       "[5 rows x 29 columns]"
      ],
      "text/html": "<div>\n<style scoped>\n    .dataframe tbody tr th:only-of-type {\n        vertical-align: middle;\n    }\n\n    .dataframe tbody tr th {\n        vertical-align: top;\n    }\n\n    .dataframe thead th {\n        text-align: right;\n    }\n</style>\n<table border=\"1\" class=\"dataframe\">\n  <thead>\n    <tr style=\"text-align: right;\">\n      <th></th>\n      <th>PassengerId</th>\n      <th>Survived</th>\n      <th>Sex</th>\n      <th>Age</th>\n      <th>SibSp</th>\n      <th>Parch</th>\n      <th>Ticket</th>\n      <th>Fare</th>\n      <th>Embarked_C</th>\n      <th>Embarked_Q</th>\n      <th>...</th>\n      <th>Royalty</th>\n      <th>Cabin_A</th>\n      <th>Cabin_B</th>\n      <th>Cabin_C</th>\n      <th>Cabin_D</th>\n      <th>Cabin_E</th>\n      <th>Cabin_F</th>\n      <th>Cabin_G</th>\n      <th>Cabin_T</th>\n      <th>Cabin_U</th>\n    </tr>\n  </thead>\n  <tbody>\n    <tr>\n      <th>0</th>\n      <td>1</td>\n      <td>0.0</td>\n      <td>1</td>\n      <td>22.0</td>\n      <td>1</td>\n      <td>0</td>\n      <td>A/5 21171</td>\n      <td>7.2500</td>\n      <td>0</td>\n      <td>0</td>\n      <td>...</td>\n      <td>0</td>\n      <td>0</td>\n      <td>0</td>\n      <td>0</td>\n      <td>0</td>\n      <td>0</td>\n      <td>0</td>\n      <td>0</td>\n      <td>0</td>\n      <td>1</td>\n    </tr>\n    <tr>\n      <th>1</th>\n      <td>2</td>\n      <td>1.0</td>\n      <td>0</td>\n      <td>38.0</td>\n      <td>1</td>\n      <td>0</td>\n      <td>PC 17599</td>\n      <td>71.2833</td>\n      <td>1</td>\n      <td>0</td>\n      <td>...</td>\n      <td>0</td>\n      <td>0</td>\n      <td>0</td>\n      <td>1</td>\n      <td>0</td>\n      <td>0</td>\n      <td>0</td>\n      <td>0</td>\n      <td>0</td>\n      <td>0</td>\n    </tr>\n    <tr>\n      <th>2</th>\n      <td>3</td>\n      <td>1.0</td>\n      <td>0</td>\n      <td>26.0</td>\n      <td>0</td>\n      <td>0</td>\n      <td>STON/O2. 3101282</td>\n      <td>7.9250</td>\n      <td>0</td>\n      <td>0</td>\n      <td>...</td>\n      <td>0</td>\n      <td>0</td>\n      <td>0</td>\n      <td>0</td>\n      <td>0</td>\n      <td>0</td>\n      <td>0</td>\n      <td>0</td>\n      <td>0</td>\n      <td>1</td>\n    </tr>\n    <tr>\n      <th>3</th>\n      <td>4</td>\n      <td>1.0</td>\n      <td>0</td>\n      <td>35.0</td>\n      <td>1</td>\n      <td>0</td>\n      <td>113803</td>\n      <td>53.1000</td>\n      <td>0</td>\n      <td>0</td>\n      <td>...</td>\n      <td>0</td>\n      <td>0</td>\n      <td>0</td>\n      <td>1</td>\n      <td>0</td>\n      <td>0</td>\n      <td>0</td>\n      <td>0</td>\n      <td>0</td>\n      <td>0</td>\n    </tr>\n    <tr>\n      <th>4</th>\n      <td>5</td>\n      <td>0.0</td>\n      <td>1</td>\n      <td>35.0</td>\n      <td>0</td>\n      <td>0</td>\n      <td>373450</td>\n      <td>8.0500</td>\n      <td>0</td>\n      <td>0</td>\n      <td>...</td>\n      <td>0</td>\n      <td>0</td>\n      <td>0</td>\n      <td>0</td>\n      <td>0</td>\n      <td>0</td>\n      <td>0</td>\n      <td>0</td>\n      <td>0</td>\n      <td>1</td>\n    </tr>\n  </tbody>\n</table>\n<p>5 rows × 29 columns</p>\n</div>"
     },
     "metadata": {},
     "execution_count": 123
    }
   ],
   "source": [
    "cabinDf = pd.get_dummies(full['Cabin'],prefix='Cabin')\n",
    "full = pd.concat([full,cabinDf],axis=1)\n",
    "full.drop('Cabin',axis=1,inplace=True)\n",
    "full.head()"
   ]
  },
  {
   "cell_type": "code",
   "execution_count": 124,
   "metadata": {},
   "outputs": [
    {
     "output_type": "execute_result",
     "data": {
      "text/plain": [
       "   PassengerId  Survived  Sex   Age  SibSp  Parch            Ticket     Fare  \\\n",
       "0            1       0.0    1  22.0      1      0         A/5 21171   7.2500   \n",
       "1            2       1.0    0  38.0      1      0          PC 17599  71.2833   \n",
       "2            3       1.0    0  26.0      0      0  STON/O2. 3101282   7.9250   \n",
       "3            4       1.0    0  35.0      1      0            113803  53.1000   \n",
       "4            5       0.0    1  35.0      0      0            373450   8.0500   \n",
       "\n",
       "   Embarked_C  Embarked_Q  ...  Cabin_D  Cabin_E  Cabin_F  Cabin_G  Cabin_T  \\\n",
       "0           0           0  ...        0        0        0        0        0   \n",
       "1           1           0  ...        0        0        0        0        0   \n",
       "2           0           0  ...        0        0        0        0        0   \n",
       "3           0           0  ...        0        0        0        0        0   \n",
       "4           0           0  ...        0        0        0        0        0   \n",
       "\n",
       "   Cabin_U  FamilySize  Family_Single  Family_Small  Family_Large  \n",
       "0        1           2              0             1             0  \n",
       "1        0           2              0             1             0  \n",
       "2        1           1              1             0             0  \n",
       "3        0           2              0             1             0  \n",
       "4        1           1              1             0             0  \n",
       "\n",
       "[5 rows x 33 columns]"
      ],
      "text/html": "<div>\n<style scoped>\n    .dataframe tbody tr th:only-of-type {\n        vertical-align: middle;\n    }\n\n    .dataframe tbody tr th {\n        vertical-align: top;\n    }\n\n    .dataframe thead th {\n        text-align: right;\n    }\n</style>\n<table border=\"1\" class=\"dataframe\">\n  <thead>\n    <tr style=\"text-align: right;\">\n      <th></th>\n      <th>PassengerId</th>\n      <th>Survived</th>\n      <th>Sex</th>\n      <th>Age</th>\n      <th>SibSp</th>\n      <th>Parch</th>\n      <th>Ticket</th>\n      <th>Fare</th>\n      <th>Embarked_C</th>\n      <th>Embarked_Q</th>\n      <th>...</th>\n      <th>Cabin_D</th>\n      <th>Cabin_E</th>\n      <th>Cabin_F</th>\n      <th>Cabin_G</th>\n      <th>Cabin_T</th>\n      <th>Cabin_U</th>\n      <th>FamilySize</th>\n      <th>Family_Single</th>\n      <th>Family_Small</th>\n      <th>Family_Large</th>\n    </tr>\n  </thead>\n  <tbody>\n    <tr>\n      <th>0</th>\n      <td>1</td>\n      <td>0.0</td>\n      <td>1</td>\n      <td>22.0</td>\n      <td>1</td>\n      <td>0</td>\n      <td>A/5 21171</td>\n      <td>7.2500</td>\n      <td>0</td>\n      <td>0</td>\n      <td>...</td>\n      <td>0</td>\n      <td>0</td>\n      <td>0</td>\n      <td>0</td>\n      <td>0</td>\n      <td>1</td>\n      <td>2</td>\n      <td>0</td>\n      <td>1</td>\n      <td>0</td>\n    </tr>\n    <tr>\n      <th>1</th>\n      <td>2</td>\n      <td>1.0</td>\n      <td>0</td>\n      <td>38.0</td>\n      <td>1</td>\n      <td>0</td>\n      <td>PC 17599</td>\n      <td>71.2833</td>\n      <td>1</td>\n      <td>0</td>\n      <td>...</td>\n      <td>0</td>\n      <td>0</td>\n      <td>0</td>\n      <td>0</td>\n      <td>0</td>\n      <td>0</td>\n      <td>2</td>\n      <td>0</td>\n      <td>1</td>\n      <td>0</td>\n    </tr>\n    <tr>\n      <th>2</th>\n      <td>3</td>\n      <td>1.0</td>\n      <td>0</td>\n      <td>26.0</td>\n      <td>0</td>\n      <td>0</td>\n      <td>STON/O2. 3101282</td>\n      <td>7.9250</td>\n      <td>0</td>\n      <td>0</td>\n      <td>...</td>\n      <td>0</td>\n      <td>0</td>\n      <td>0</td>\n      <td>0</td>\n      <td>0</td>\n      <td>1</td>\n      <td>1</td>\n      <td>1</td>\n      <td>0</td>\n      <td>0</td>\n    </tr>\n    <tr>\n      <th>3</th>\n      <td>4</td>\n      <td>1.0</td>\n      <td>0</td>\n      <td>35.0</td>\n      <td>1</td>\n      <td>0</td>\n      <td>113803</td>\n      <td>53.1000</td>\n      <td>0</td>\n      <td>0</td>\n      <td>...</td>\n      <td>0</td>\n      <td>0</td>\n      <td>0</td>\n      <td>0</td>\n      <td>0</td>\n      <td>0</td>\n      <td>2</td>\n      <td>0</td>\n      <td>1</td>\n      <td>0</td>\n    </tr>\n    <tr>\n      <th>4</th>\n      <td>5</td>\n      <td>0.0</td>\n      <td>1</td>\n      <td>35.0</td>\n      <td>0</td>\n      <td>0</td>\n      <td>373450</td>\n      <td>8.0500</td>\n      <td>0</td>\n      <td>0</td>\n      <td>...</td>\n      <td>0</td>\n      <td>0</td>\n      <td>0</td>\n      <td>0</td>\n      <td>0</td>\n      <td>1</td>\n      <td>1</td>\n      <td>1</td>\n      <td>0</td>\n      <td>0</td>\n    </tr>\n  </tbody>\n</table>\n<p>5 rows × 33 columns</p>\n</div>"
     },
     "metadata": {},
     "execution_count": 124
    }
   ],
   "source": [
    "#存放家庭信息\n",
    "familyDf = pd.DataFrame()\n",
    "'''\n",
    "家庭人数=同代直系亲属数（Parch）+不同代直系亲属数（SibSp）+乘客自己\n",
    "（因为乘客自己也是家庭成员的一个，所以这里加1）\n",
    "'''\n",
    "familyDf[ 'FamilySize' ] = full[ 'Parch' ] + full[ 'SibSp' ] + 1\n",
    "\n",
    "'''\n",
    "家庭类别：\n",
    "小家庭Family_Single：家庭人数=1\n",
    "中等家庭Family_Small: 2<=家庭人数<=4\n",
    "大家庭Family_Large: 家庭人数>=5\n",
    "'''\n",
    "#if 条件为真的时候返回if前面内容，否则返回0\n",
    "familyDf[ 'Family_Single' ] = familyDf[ 'FamilySize' ].map( lambda s : 1 if s == 1 else 0 )\n",
    "familyDf[ 'Family_Small' ]  = familyDf[ 'FamilySize' ].map( lambda s : 1 if 2 <= s <= 4 else 0 )\n",
    "familyDf[ 'Family_Large' ]  = familyDf[ 'FamilySize' ].map( lambda s : 1 if 5 <= s else 0 )\n",
    "familyDf.head()\n",
    "full = pd.concat([full,familyDf],axis=1)\n",
    "full.shape\n",
    "full.head()"
   ]
  },
  {
   "source": [
    "## 特征选择"
   ],
   "cell_type": "markdown",
   "metadata": {}
  },
  {
   "cell_type": "code",
   "execution_count": 125,
   "metadata": {},
   "outputs": [
    {
     "output_type": "execute_result",
     "data": {
      "text/plain": [
       "               PassengerId  Survived       Sex       Age     SibSp     Parch  \\\n",
       "PassengerId       1.000000 -0.005007  0.013406  0.025731 -0.055224  0.008942   \n",
       "Survived         -0.005007  1.000000 -0.543351 -0.070323 -0.035322  0.081629   \n",
       "Sex               0.013406 -0.543351  1.000000  0.057397 -0.109609 -0.213125   \n",
       "Age               0.025731 -0.070323  0.057397  1.000000 -0.190747 -0.130872   \n",
       "SibSp            -0.055224 -0.035322 -0.109609 -0.190747  1.000000  0.373587   \n",
       "Parch             0.008942  0.081629 -0.213125 -0.130872  0.373587  1.000000   \n",
       "Fare              0.031416  0.257307 -0.185484  0.171521  0.160224  0.221522   \n",
       "Embarked_C        0.048101  0.168240 -0.066564  0.076179 -0.048396 -0.008635   \n",
       "Embarked_Q        0.011585  0.003650 -0.088651 -0.012718 -0.048678 -0.100943   \n",
       "Embarked_S       -0.049836 -0.149683  0.115193 -0.059153  0.073709  0.071881   \n",
       "Pclass_1          0.026495  0.285904 -0.107371  0.362587 -0.034256 -0.013033   \n",
       "Pclass_2          0.022714  0.093349 -0.028862 -0.014193 -0.052419 -0.010057   \n",
       "Pclass_3         -0.041544 -0.322308  0.116562 -0.302093  0.072610  0.019521   \n",
       "Master            0.002254  0.085221  0.164375 -0.363923  0.329171  0.253482   \n",
       "Miss             -0.050027  0.332795 -0.672819 -0.254146  0.077564  0.066473   \n",
       "Mr                0.014116 -0.549199  0.870678  0.165476 -0.243104 -0.304780   \n",
       "Mrs               0.033299  0.344935 -0.571176  0.198091  0.061643  0.213491   \n",
       "Officer           0.002231 -0.031316  0.087288  0.162818 -0.013813 -0.032631   \n",
       "Royalty           0.004400  0.033391 -0.020408  0.059466 -0.010787 -0.030197   \n",
       "Cabin_A          -0.002831  0.022287  0.047561  0.125177 -0.039808 -0.030707   \n",
       "Cabin_B           0.015895  0.175095 -0.094453  0.113458 -0.011569  0.073051   \n",
       "Cabin_C           0.006092  0.114652 -0.077473  0.167993  0.048616  0.009601   \n",
       "Cabin_D           0.000549  0.150716 -0.057396  0.132886 -0.015727 -0.027385   \n",
       "Cabin_E          -0.008136  0.145321 -0.040340  0.106600 -0.027180  0.001084   \n",
       "Cabin_F           0.000306  0.057935 -0.006655 -0.072644 -0.008619  0.020481   \n",
       "Cabin_G          -0.045949  0.016040 -0.083285 -0.085977  0.006015  0.058325   \n",
       "Cabin_T          -0.023049 -0.026456  0.020558  0.032461 -0.013247 -0.012304   \n",
       "Cabin_U           0.000208 -0.316912  0.137396 -0.271918  0.009064 -0.036806   \n",
       "FamilySize       -0.031437  0.016639 -0.188583 -0.196996  0.861952  0.792296   \n",
       "Family_Single     0.028546 -0.203367  0.284537  0.116675 -0.591077 -0.549022   \n",
       "Family_Small      0.002975  0.279855 -0.255196 -0.038189  0.253590  0.248532   \n",
       "Family_Large     -0.063415 -0.125147 -0.077748 -0.161210  0.699681  0.624627   \n",
       "\n",
       "                   Fare  Embarked_C  Embarked_Q  Embarked_S  ...   Cabin_D  \\\n",
       "PassengerId    0.031416    0.048101    0.011585   -0.049836  ...  0.000549   \n",
       "Survived       0.257307    0.168240    0.003650   -0.149683  ...  0.150716   \n",
       "Sex           -0.185484   -0.066564   -0.088651    0.115193  ... -0.057396   \n",
       "Age            0.171521    0.076179   -0.012718   -0.059153  ...  0.132886   \n",
       "SibSp          0.160224   -0.048396   -0.048678    0.073709  ... -0.015727   \n",
       "Parch          0.221522   -0.008635   -0.100943    0.071881  ... -0.027385   \n",
       "Fare           1.000000    0.286241   -0.130054   -0.169894  ...  0.072737   \n",
       "Embarked_C     0.286241    1.000000   -0.164166   -0.778262  ...  0.107782   \n",
       "Embarked_Q    -0.130054   -0.164166    1.000000   -0.491656  ... -0.061459   \n",
       "Embarked_S    -0.169894   -0.778262   -0.491656    1.000000  ... -0.056023   \n",
       "Pclass_1       0.599956    0.325722   -0.166101   -0.181800  ...  0.275698   \n",
       "Pclass_2      -0.121372   -0.134675   -0.121973    0.196532  ... -0.037929   \n",
       "Pclass_3      -0.419616   -0.171430    0.243706   -0.003805  ... -0.207455   \n",
       "Master         0.011596   -0.014172   -0.009091    0.018297  ... -0.042192   \n",
       "Miss           0.092051   -0.014351    0.198804   -0.113886  ... -0.012516   \n",
       "Mr            -0.192192   -0.065538   -0.080224    0.108924  ... -0.030261   \n",
       "Mrs            0.139235    0.098379   -0.100374   -0.022950  ...  0.080393   \n",
       "Officer        0.028696    0.003678   -0.003212   -0.001202  ...  0.006055   \n",
       "Royalty        0.026214    0.077213   -0.021853   -0.054250  ... -0.012950   \n",
       "Cabin_A        0.020094    0.094914   -0.042105   -0.056984  ... -0.024952   \n",
       "Cabin_B        0.393743    0.161595   -0.073613   -0.095790  ... -0.043624   \n",
       "Cabin_C        0.401370    0.158043   -0.059151   -0.101861  ... -0.053083   \n",
       "Cabin_D        0.072737    0.107782   -0.061459   -0.056023  ...  1.000000   \n",
       "Cabin_E        0.073949    0.027566   -0.042877    0.002960  ... -0.034317   \n",
       "Cabin_F       -0.037567   -0.020010   -0.020282    0.030575  ... -0.024369   \n",
       "Cabin_G       -0.022857   -0.031566   -0.019941    0.040560  ... -0.011817   \n",
       "Cabin_T        0.001179   -0.014095   -0.008904    0.018111  ... -0.005277   \n",
       "Cabin_U       -0.507197   -0.258257    0.142369    0.137351  ... -0.353822   \n",
       "FamilySize     0.226465   -0.036553   -0.087190    0.087771  ... -0.025313   \n",
       "Family_Single -0.274826   -0.107874    0.127214    0.014246  ... -0.074310   \n",
       "Family_Small   0.197281    0.159594   -0.122491   -0.062909  ...  0.102432   \n",
       "Family_Large   0.170853   -0.092825   -0.018423    0.093671  ... -0.049336   \n",
       "\n",
       "                Cabin_E   Cabin_F   Cabin_G   Cabin_T   Cabin_U  FamilySize  \\\n",
       "PassengerId   -0.008136  0.000306 -0.045949 -0.023049  0.000208   -0.031437   \n",
       "Survived       0.145321  0.057935  0.016040 -0.026456 -0.316912    0.016639   \n",
       "Sex           -0.040340 -0.006655 -0.083285  0.020558  0.137396   -0.188583   \n",
       "Age            0.106600 -0.072644 -0.085977  0.032461 -0.271918   -0.196996   \n",
       "SibSp         -0.027180 -0.008619  0.006015 -0.013247  0.009064    0.861952   \n",
       "Parch          0.001084  0.020481  0.058325 -0.012304 -0.036806    0.792296   \n",
       "Fare           0.073949 -0.037567 -0.022857  0.001179 -0.507197    0.226465   \n",
       "Embarked_C     0.027566 -0.020010 -0.031566 -0.014095 -0.258257   -0.036553   \n",
       "Embarked_Q    -0.042877 -0.020282 -0.019941 -0.008904  0.142369   -0.087190   \n",
       "Embarked_S     0.002960  0.030575  0.040560  0.018111  0.137351    0.087771   \n",
       "Pclass_1       0.242963 -0.073083 -0.035441  0.048310 -0.776987   -0.029656   \n",
       "Pclass_2      -0.050210  0.127371 -0.032081 -0.014325  0.176485   -0.039976   \n",
       "Pclass_3      -0.169063 -0.041178  0.056964 -0.030057  0.527614    0.058430   \n",
       "Master         0.001860  0.058311 -0.013690 -0.006113  0.041178    0.355061   \n",
       "Miss           0.008700 -0.003088  0.061881 -0.013832 -0.004364    0.087350   \n",
       "Mr            -0.032953 -0.026403 -0.072514  0.023611  0.131807   -0.326487   \n",
       "Mrs            0.045538  0.013376  0.042547 -0.011742 -0.162253    0.157233   \n",
       "Officer       -0.024048 -0.017076 -0.008281 -0.003698 -0.067030   -0.026921   \n",
       "Royalty       -0.012202 -0.008665 -0.004202 -0.001876 -0.071672   -0.023600   \n",
       "Cabin_A       -0.023510 -0.016695 -0.008096 -0.003615 -0.242399   -0.042967   \n",
       "Cabin_B       -0.041103 -0.029188 -0.014154 -0.006320 -0.423794    0.032318   \n",
       "Cabin_C       -0.050016 -0.035516 -0.017224 -0.007691 -0.515684    0.037226   \n",
       "Cabin_D       -0.034317 -0.024369 -0.011817 -0.005277 -0.353822   -0.025313   \n",
       "Cabin_E        1.000000 -0.022961 -0.011135 -0.004972 -0.333381   -0.017285   \n",
       "Cabin_F       -0.022961  1.000000 -0.007907 -0.003531 -0.236733    0.005525   \n",
       "Cabin_G       -0.011135 -0.007907  1.000000 -0.001712 -0.114803    0.035835   \n",
       "Cabin_T       -0.004972 -0.003531 -0.001712  1.000000 -0.051263   -0.015438   \n",
       "Cabin_U       -0.333381 -0.236733 -0.114803 -0.051263  1.000000   -0.014155   \n",
       "FamilySize    -0.017285  0.005525  0.035835 -0.015438 -0.014155    1.000000   \n",
       "Family_Single -0.042535  0.004055 -0.076397  0.022411  0.175812   -0.688864   \n",
       "Family_Small   0.068007  0.012756  0.087471 -0.019574 -0.211367    0.302640   \n",
       "Family_Large  -0.046485 -0.033009 -0.016008 -0.007148  0.056438    0.801623   \n",
       "\n",
       "               Family_Single  Family_Small  Family_Large  \n",
       "PassengerId         0.028546      0.002975     -0.063415  \n",
       "Survived           -0.203367      0.279855     -0.125147  \n",
       "Sex                 0.284537     -0.255196     -0.077748  \n",
       "Age                 0.116675     -0.038189     -0.161210  \n",
       "SibSp              -0.591077      0.253590      0.699681  \n",
       "Parch              -0.549022      0.248532      0.624627  \n",
       "Fare               -0.274826      0.197281      0.170853  \n",
       "Embarked_C         -0.107874      0.159594     -0.092825  \n",
       "Embarked_Q          0.127214     -0.122491     -0.018423  \n",
       "Embarked_S          0.014246     -0.062909      0.093671  \n",
       "Pclass_1           -0.126551      0.165965     -0.067523  \n",
       "Pclass_2           -0.035075      0.097270     -0.118495  \n",
       "Pclass_3            0.138250     -0.223338      0.155560  \n",
       "Master             -0.265355      0.120166      0.301809  \n",
       "Miss               -0.023890     -0.018085      0.083422  \n",
       "Mr                  0.386262     -0.300872     -0.194207  \n",
       "Mrs                -0.354649      0.361247      0.012893  \n",
       "Officer             0.013303      0.003966     -0.034572  \n",
       "Royalty             0.008761     -0.000073     -0.017542  \n",
       "Cabin_A             0.045227     -0.029546     -0.033799  \n",
       "Cabin_B            -0.087912      0.084268      0.013470  \n",
       "Cabin_C            -0.137498      0.141925      0.001362  \n",
       "Cabin_D            -0.074310      0.102432     -0.049336  \n",
       "Cabin_E            -0.042535      0.068007     -0.046485  \n",
       "Cabin_F             0.004055      0.012756     -0.033009  \n",
       "Cabin_G            -0.076397      0.087471     -0.016008  \n",
       "Cabin_T             0.022411     -0.019574     -0.007148  \n",
       "Cabin_U             0.175812     -0.211367      0.056438  \n",
       "FamilySize         -0.688864      0.302640      0.801623  \n",
       "Family_Single       1.000000     -0.873398     -0.318944  \n",
       "Family_Small       -0.873398      1.000000     -0.183007  \n",
       "Family_Large       -0.318944     -0.183007      1.000000  \n",
       "\n",
       "[32 rows x 32 columns]"
      ],
      "text/html": "<div>\n<style scoped>\n    .dataframe tbody tr th:only-of-type {\n        vertical-align: middle;\n    }\n\n    .dataframe tbody tr th {\n        vertical-align: top;\n    }\n\n    .dataframe thead th {\n        text-align: right;\n    }\n</style>\n<table border=\"1\" class=\"dataframe\">\n  <thead>\n    <tr style=\"text-align: right;\">\n      <th></th>\n      <th>PassengerId</th>\n      <th>Survived</th>\n      <th>Sex</th>\n      <th>Age</th>\n      <th>SibSp</th>\n      <th>Parch</th>\n      <th>Fare</th>\n      <th>Embarked_C</th>\n      <th>Embarked_Q</th>\n      <th>Embarked_S</th>\n      <th>...</th>\n      <th>Cabin_D</th>\n      <th>Cabin_E</th>\n      <th>Cabin_F</th>\n      <th>Cabin_G</th>\n      <th>Cabin_T</th>\n      <th>Cabin_U</th>\n      <th>FamilySize</th>\n      <th>Family_Single</th>\n      <th>Family_Small</th>\n      <th>Family_Large</th>\n    </tr>\n  </thead>\n  <tbody>\n    <tr>\n      <th>PassengerId</th>\n      <td>1.000000</td>\n      <td>-0.005007</td>\n      <td>0.013406</td>\n      <td>0.025731</td>\n      <td>-0.055224</td>\n      <td>0.008942</td>\n      <td>0.031416</td>\n      <td>0.048101</td>\n      <td>0.011585</td>\n      <td>-0.049836</td>\n      <td>...</td>\n      <td>0.000549</td>\n      <td>-0.008136</td>\n      <td>0.000306</td>\n      <td>-0.045949</td>\n      <td>-0.023049</td>\n      <td>0.000208</td>\n      <td>-0.031437</td>\n      <td>0.028546</td>\n      <td>0.002975</td>\n      <td>-0.063415</td>\n    </tr>\n    <tr>\n      <th>Survived</th>\n      <td>-0.005007</td>\n      <td>1.000000</td>\n      <td>-0.543351</td>\n      <td>-0.070323</td>\n      <td>-0.035322</td>\n      <td>0.081629</td>\n      <td>0.257307</td>\n      <td>0.168240</td>\n      <td>0.003650</td>\n      <td>-0.149683</td>\n      <td>...</td>\n      <td>0.150716</td>\n      <td>0.145321</td>\n      <td>0.057935</td>\n      <td>0.016040</td>\n      <td>-0.026456</td>\n      <td>-0.316912</td>\n      <td>0.016639</td>\n      <td>-0.203367</td>\n      <td>0.279855</td>\n      <td>-0.125147</td>\n    </tr>\n    <tr>\n      <th>Sex</th>\n      <td>0.013406</td>\n      <td>-0.543351</td>\n      <td>1.000000</td>\n      <td>0.057397</td>\n      <td>-0.109609</td>\n      <td>-0.213125</td>\n      <td>-0.185484</td>\n      <td>-0.066564</td>\n      <td>-0.088651</td>\n      <td>0.115193</td>\n      <td>...</td>\n      <td>-0.057396</td>\n      <td>-0.040340</td>\n      <td>-0.006655</td>\n      <td>-0.083285</td>\n      <td>0.020558</td>\n      <td>0.137396</td>\n      <td>-0.188583</td>\n      <td>0.284537</td>\n      <td>-0.255196</td>\n      <td>-0.077748</td>\n    </tr>\n    <tr>\n      <th>Age</th>\n      <td>0.025731</td>\n      <td>-0.070323</td>\n      <td>0.057397</td>\n      <td>1.000000</td>\n      <td>-0.190747</td>\n      <td>-0.130872</td>\n      <td>0.171521</td>\n      <td>0.076179</td>\n      <td>-0.012718</td>\n      <td>-0.059153</td>\n      <td>...</td>\n      <td>0.132886</td>\n      <td>0.106600</td>\n      <td>-0.072644</td>\n      <td>-0.085977</td>\n      <td>0.032461</td>\n      <td>-0.271918</td>\n      <td>-0.196996</td>\n      <td>0.116675</td>\n      <td>-0.038189</td>\n      <td>-0.161210</td>\n    </tr>\n    <tr>\n      <th>SibSp</th>\n      <td>-0.055224</td>\n      <td>-0.035322</td>\n      <td>-0.109609</td>\n      <td>-0.190747</td>\n      <td>1.000000</td>\n      <td>0.373587</td>\n      <td>0.160224</td>\n      <td>-0.048396</td>\n      <td>-0.048678</td>\n      <td>0.073709</td>\n      <td>...</td>\n      <td>-0.015727</td>\n      <td>-0.027180</td>\n      <td>-0.008619</td>\n      <td>0.006015</td>\n      <td>-0.013247</td>\n      <td>0.009064</td>\n      <td>0.861952</td>\n      <td>-0.591077</td>\n      <td>0.253590</td>\n      <td>0.699681</td>\n    </tr>\n    <tr>\n      <th>Parch</th>\n      <td>0.008942</td>\n      <td>0.081629</td>\n      <td>-0.213125</td>\n      <td>-0.130872</td>\n      <td>0.373587</td>\n      <td>1.000000</td>\n      <td>0.221522</td>\n      <td>-0.008635</td>\n      <td>-0.100943</td>\n      <td>0.071881</td>\n      <td>...</td>\n      <td>-0.027385</td>\n      <td>0.001084</td>\n      <td>0.020481</td>\n      <td>0.058325</td>\n      <td>-0.012304</td>\n      <td>-0.036806</td>\n      <td>0.792296</td>\n      <td>-0.549022</td>\n      <td>0.248532</td>\n      <td>0.624627</td>\n    </tr>\n    <tr>\n      <th>Fare</th>\n      <td>0.031416</td>\n      <td>0.257307</td>\n      <td>-0.185484</td>\n      <td>0.171521</td>\n      <td>0.160224</td>\n      <td>0.221522</td>\n      <td>1.000000</td>\n      <td>0.286241</td>\n      <td>-0.130054</td>\n      <td>-0.169894</td>\n      <td>...</td>\n      <td>0.072737</td>\n      <td>0.073949</td>\n      <td>-0.037567</td>\n      <td>-0.022857</td>\n      <td>0.001179</td>\n      <td>-0.507197</td>\n      <td>0.226465</td>\n      <td>-0.274826</td>\n      <td>0.197281</td>\n      <td>0.170853</td>\n    </tr>\n    <tr>\n      <th>Embarked_C</th>\n      <td>0.048101</td>\n      <td>0.168240</td>\n      <td>-0.066564</td>\n      <td>0.076179</td>\n      <td>-0.048396</td>\n      <td>-0.008635</td>\n      <td>0.286241</td>\n      <td>1.000000</td>\n      <td>-0.164166</td>\n      <td>-0.778262</td>\n      <td>...</td>\n      <td>0.107782</td>\n      <td>0.027566</td>\n      <td>-0.020010</td>\n      <td>-0.031566</td>\n      <td>-0.014095</td>\n      <td>-0.258257</td>\n      <td>-0.036553</td>\n      <td>-0.107874</td>\n      <td>0.159594</td>\n      <td>-0.092825</td>\n    </tr>\n    <tr>\n      <th>Embarked_Q</th>\n      <td>0.011585</td>\n      <td>0.003650</td>\n      <td>-0.088651</td>\n      <td>-0.012718</td>\n      <td>-0.048678</td>\n      <td>-0.100943</td>\n      <td>-0.130054</td>\n      <td>-0.164166</td>\n      <td>1.000000</td>\n      <td>-0.491656</td>\n      <td>...</td>\n      <td>-0.061459</td>\n      <td>-0.042877</td>\n      <td>-0.020282</td>\n      <td>-0.019941</td>\n      <td>-0.008904</td>\n      <td>0.142369</td>\n      <td>-0.087190</td>\n      <td>0.127214</td>\n      <td>-0.122491</td>\n      <td>-0.018423</td>\n    </tr>\n    <tr>\n      <th>Embarked_S</th>\n      <td>-0.049836</td>\n      <td>-0.149683</td>\n      <td>0.115193</td>\n      <td>-0.059153</td>\n      <td>0.073709</td>\n      <td>0.071881</td>\n      <td>-0.169894</td>\n      <td>-0.778262</td>\n      <td>-0.491656</td>\n      <td>1.000000</td>\n      <td>...</td>\n      <td>-0.056023</td>\n      <td>0.002960</td>\n      <td>0.030575</td>\n      <td>0.040560</td>\n      <td>0.018111</td>\n      <td>0.137351</td>\n      <td>0.087771</td>\n      <td>0.014246</td>\n      <td>-0.062909</td>\n      <td>0.093671</td>\n    </tr>\n    <tr>\n      <th>Pclass_1</th>\n      <td>0.026495</td>\n      <td>0.285904</td>\n      <td>-0.107371</td>\n      <td>0.362587</td>\n      <td>-0.034256</td>\n      <td>-0.013033</td>\n      <td>0.599956</td>\n      <td>0.325722</td>\n      <td>-0.166101</td>\n      <td>-0.181800</td>\n      <td>...</td>\n      <td>0.275698</td>\n      <td>0.242963</td>\n      <td>-0.073083</td>\n      <td>-0.035441</td>\n      <td>0.048310</td>\n      <td>-0.776987</td>\n      <td>-0.029656</td>\n      <td>-0.126551</td>\n      <td>0.165965</td>\n      <td>-0.067523</td>\n    </tr>\n    <tr>\n      <th>Pclass_2</th>\n      <td>0.022714</td>\n      <td>0.093349</td>\n      <td>-0.028862</td>\n      <td>-0.014193</td>\n      <td>-0.052419</td>\n      <td>-0.010057</td>\n      <td>-0.121372</td>\n      <td>-0.134675</td>\n      <td>-0.121973</td>\n      <td>0.196532</td>\n      <td>...</td>\n      <td>-0.037929</td>\n      <td>-0.050210</td>\n      <td>0.127371</td>\n      <td>-0.032081</td>\n      <td>-0.014325</td>\n      <td>0.176485</td>\n      <td>-0.039976</td>\n      <td>-0.035075</td>\n      <td>0.097270</td>\n      <td>-0.118495</td>\n    </tr>\n    <tr>\n      <th>Pclass_3</th>\n      <td>-0.041544</td>\n      <td>-0.322308</td>\n      <td>0.116562</td>\n      <td>-0.302093</td>\n      <td>0.072610</td>\n      <td>0.019521</td>\n      <td>-0.419616</td>\n      <td>-0.171430</td>\n      <td>0.243706</td>\n      <td>-0.003805</td>\n      <td>...</td>\n      <td>-0.207455</td>\n      <td>-0.169063</td>\n      <td>-0.041178</td>\n      <td>0.056964</td>\n      <td>-0.030057</td>\n      <td>0.527614</td>\n      <td>0.058430</td>\n      <td>0.138250</td>\n      <td>-0.223338</td>\n      <td>0.155560</td>\n    </tr>\n    <tr>\n      <th>Master</th>\n      <td>0.002254</td>\n      <td>0.085221</td>\n      <td>0.164375</td>\n      <td>-0.363923</td>\n      <td>0.329171</td>\n      <td>0.253482</td>\n      <td>0.011596</td>\n      <td>-0.014172</td>\n      <td>-0.009091</td>\n      <td>0.018297</td>\n      <td>...</td>\n      <td>-0.042192</td>\n      <td>0.001860</td>\n      <td>0.058311</td>\n      <td>-0.013690</td>\n      <td>-0.006113</td>\n      <td>0.041178</td>\n      <td>0.355061</td>\n      <td>-0.265355</td>\n      <td>0.120166</td>\n      <td>0.301809</td>\n    </tr>\n    <tr>\n      <th>Miss</th>\n      <td>-0.050027</td>\n      <td>0.332795</td>\n      <td>-0.672819</td>\n      <td>-0.254146</td>\n      <td>0.077564</td>\n      <td>0.066473</td>\n      <td>0.092051</td>\n      <td>-0.014351</td>\n      <td>0.198804</td>\n      <td>-0.113886</td>\n      <td>...</td>\n      <td>-0.012516</td>\n      <td>0.008700</td>\n      <td>-0.003088</td>\n      <td>0.061881</td>\n      <td>-0.013832</td>\n      <td>-0.004364</td>\n      <td>0.087350</td>\n      <td>-0.023890</td>\n      <td>-0.018085</td>\n      <td>0.083422</td>\n    </tr>\n    <tr>\n      <th>Mr</th>\n      <td>0.014116</td>\n      <td>-0.549199</td>\n      <td>0.870678</td>\n      <td>0.165476</td>\n      <td>-0.243104</td>\n      <td>-0.304780</td>\n      <td>-0.192192</td>\n      <td>-0.065538</td>\n      <td>-0.080224</td>\n      <td>0.108924</td>\n      <td>...</td>\n      <td>-0.030261</td>\n      <td>-0.032953</td>\n      <td>-0.026403</td>\n      <td>-0.072514</td>\n      <td>0.023611</td>\n      <td>0.131807</td>\n      <td>-0.326487</td>\n      <td>0.386262</td>\n      <td>-0.300872</td>\n      <td>-0.194207</td>\n    </tr>\n    <tr>\n      <th>Mrs</th>\n      <td>0.033299</td>\n      <td>0.344935</td>\n      <td>-0.571176</td>\n      <td>0.198091</td>\n      <td>0.061643</td>\n      <td>0.213491</td>\n      <td>0.139235</td>\n      <td>0.098379</td>\n      <td>-0.100374</td>\n      <td>-0.022950</td>\n      <td>...</td>\n      <td>0.080393</td>\n      <td>0.045538</td>\n      <td>0.013376</td>\n      <td>0.042547</td>\n      <td>-0.011742</td>\n      <td>-0.162253</td>\n      <td>0.157233</td>\n      <td>-0.354649</td>\n      <td>0.361247</td>\n      <td>0.012893</td>\n    </tr>\n    <tr>\n      <th>Officer</th>\n      <td>0.002231</td>\n      <td>-0.031316</td>\n      <td>0.087288</td>\n      <td>0.162818</td>\n      <td>-0.013813</td>\n      <td>-0.032631</td>\n      <td>0.028696</td>\n      <td>0.003678</td>\n      <td>-0.003212</td>\n      <td>-0.001202</td>\n      <td>...</td>\n      <td>0.006055</td>\n      <td>-0.024048</td>\n      <td>-0.017076</td>\n      <td>-0.008281</td>\n      <td>-0.003698</td>\n      <td>-0.067030</td>\n      <td>-0.026921</td>\n      <td>0.013303</td>\n      <td>0.003966</td>\n      <td>-0.034572</td>\n    </tr>\n    <tr>\n      <th>Royalty</th>\n      <td>0.004400</td>\n      <td>0.033391</td>\n      <td>-0.020408</td>\n      <td>0.059466</td>\n      <td>-0.010787</td>\n      <td>-0.030197</td>\n      <td>0.026214</td>\n      <td>0.077213</td>\n      <td>-0.021853</td>\n      <td>-0.054250</td>\n      <td>...</td>\n      <td>-0.012950</td>\n      <td>-0.012202</td>\n      <td>-0.008665</td>\n      <td>-0.004202</td>\n      <td>-0.001876</td>\n      <td>-0.071672</td>\n      <td>-0.023600</td>\n      <td>0.008761</td>\n      <td>-0.000073</td>\n      <td>-0.017542</td>\n    </tr>\n    <tr>\n      <th>Cabin_A</th>\n      <td>-0.002831</td>\n      <td>0.022287</td>\n      <td>0.047561</td>\n      <td>0.125177</td>\n      <td>-0.039808</td>\n      <td>-0.030707</td>\n      <td>0.020094</td>\n      <td>0.094914</td>\n      <td>-0.042105</td>\n      <td>-0.056984</td>\n      <td>...</td>\n      <td>-0.024952</td>\n      <td>-0.023510</td>\n      <td>-0.016695</td>\n      <td>-0.008096</td>\n      <td>-0.003615</td>\n      <td>-0.242399</td>\n      <td>-0.042967</td>\n      <td>0.045227</td>\n      <td>-0.029546</td>\n      <td>-0.033799</td>\n    </tr>\n    <tr>\n      <th>Cabin_B</th>\n      <td>0.015895</td>\n      <td>0.175095</td>\n      <td>-0.094453</td>\n      <td>0.113458</td>\n      <td>-0.011569</td>\n      <td>0.073051</td>\n      <td>0.393743</td>\n      <td>0.161595</td>\n      <td>-0.073613</td>\n      <td>-0.095790</td>\n      <td>...</td>\n      <td>-0.043624</td>\n      <td>-0.041103</td>\n      <td>-0.029188</td>\n      <td>-0.014154</td>\n      <td>-0.006320</td>\n      <td>-0.423794</td>\n      <td>0.032318</td>\n      <td>-0.087912</td>\n      <td>0.084268</td>\n      <td>0.013470</td>\n    </tr>\n    <tr>\n      <th>Cabin_C</th>\n      <td>0.006092</td>\n      <td>0.114652</td>\n      <td>-0.077473</td>\n      <td>0.167993</td>\n      <td>0.048616</td>\n      <td>0.009601</td>\n      <td>0.401370</td>\n      <td>0.158043</td>\n      <td>-0.059151</td>\n      <td>-0.101861</td>\n      <td>...</td>\n      <td>-0.053083</td>\n      <td>-0.050016</td>\n      <td>-0.035516</td>\n      <td>-0.017224</td>\n      <td>-0.007691</td>\n      <td>-0.515684</td>\n      <td>0.037226</td>\n      <td>-0.137498</td>\n      <td>0.141925</td>\n      <td>0.001362</td>\n    </tr>\n    <tr>\n      <th>Cabin_D</th>\n      <td>0.000549</td>\n      <td>0.150716</td>\n      <td>-0.057396</td>\n      <td>0.132886</td>\n      <td>-0.015727</td>\n      <td>-0.027385</td>\n      <td>0.072737</td>\n      <td>0.107782</td>\n      <td>-0.061459</td>\n      <td>-0.056023</td>\n      <td>...</td>\n      <td>1.000000</td>\n      <td>-0.034317</td>\n      <td>-0.024369</td>\n      <td>-0.011817</td>\n      <td>-0.005277</td>\n      <td>-0.353822</td>\n      <td>-0.025313</td>\n      <td>-0.074310</td>\n      <td>0.102432</td>\n      <td>-0.049336</td>\n    </tr>\n    <tr>\n      <th>Cabin_E</th>\n      <td>-0.008136</td>\n      <td>0.145321</td>\n      <td>-0.040340</td>\n      <td>0.106600</td>\n      <td>-0.027180</td>\n      <td>0.001084</td>\n      <td>0.073949</td>\n      <td>0.027566</td>\n      <td>-0.042877</td>\n      <td>0.002960</td>\n      <td>...</td>\n      <td>-0.034317</td>\n      <td>1.000000</td>\n      <td>-0.022961</td>\n      <td>-0.011135</td>\n      <td>-0.004972</td>\n      <td>-0.333381</td>\n      <td>-0.017285</td>\n      <td>-0.042535</td>\n      <td>0.068007</td>\n      <td>-0.046485</td>\n    </tr>\n    <tr>\n      <th>Cabin_F</th>\n      <td>0.000306</td>\n      <td>0.057935</td>\n      <td>-0.006655</td>\n      <td>-0.072644</td>\n      <td>-0.008619</td>\n      <td>0.020481</td>\n      <td>-0.037567</td>\n      <td>-0.020010</td>\n      <td>-0.020282</td>\n      <td>0.030575</td>\n      <td>...</td>\n      <td>-0.024369</td>\n      <td>-0.022961</td>\n      <td>1.000000</td>\n      <td>-0.007907</td>\n      <td>-0.003531</td>\n      <td>-0.236733</td>\n      <td>0.005525</td>\n      <td>0.004055</td>\n      <td>0.012756</td>\n      <td>-0.033009</td>\n    </tr>\n    <tr>\n      <th>Cabin_G</th>\n      <td>-0.045949</td>\n      <td>0.016040</td>\n      <td>-0.083285</td>\n      <td>-0.085977</td>\n      <td>0.006015</td>\n      <td>0.058325</td>\n      <td>-0.022857</td>\n      <td>-0.031566</td>\n      <td>-0.019941</td>\n      <td>0.040560</td>\n      <td>...</td>\n      <td>-0.011817</td>\n      <td>-0.011135</td>\n      <td>-0.007907</td>\n      <td>1.000000</td>\n      <td>-0.001712</td>\n      <td>-0.114803</td>\n      <td>0.035835</td>\n      <td>-0.076397</td>\n      <td>0.087471</td>\n      <td>-0.016008</td>\n    </tr>\n    <tr>\n      <th>Cabin_T</th>\n      <td>-0.023049</td>\n      <td>-0.026456</td>\n      <td>0.020558</td>\n      <td>0.032461</td>\n      <td>-0.013247</td>\n      <td>-0.012304</td>\n      <td>0.001179</td>\n      <td>-0.014095</td>\n      <td>-0.008904</td>\n      <td>0.018111</td>\n      <td>...</td>\n      <td>-0.005277</td>\n      <td>-0.004972</td>\n      <td>-0.003531</td>\n      <td>-0.001712</td>\n      <td>1.000000</td>\n      <td>-0.051263</td>\n      <td>-0.015438</td>\n      <td>0.022411</td>\n      <td>-0.019574</td>\n      <td>-0.007148</td>\n    </tr>\n    <tr>\n      <th>Cabin_U</th>\n      <td>0.000208</td>\n      <td>-0.316912</td>\n      <td>0.137396</td>\n      <td>-0.271918</td>\n      <td>0.009064</td>\n      <td>-0.036806</td>\n      <td>-0.507197</td>\n      <td>-0.258257</td>\n      <td>0.142369</td>\n      <td>0.137351</td>\n      <td>...</td>\n      <td>-0.353822</td>\n      <td>-0.333381</td>\n      <td>-0.236733</td>\n      <td>-0.114803</td>\n      <td>-0.051263</td>\n      <td>1.000000</td>\n      <td>-0.014155</td>\n      <td>0.175812</td>\n      <td>-0.211367</td>\n      <td>0.056438</td>\n    </tr>\n    <tr>\n      <th>FamilySize</th>\n      <td>-0.031437</td>\n      <td>0.016639</td>\n      <td>-0.188583</td>\n      <td>-0.196996</td>\n      <td>0.861952</td>\n      <td>0.792296</td>\n      <td>0.226465</td>\n      <td>-0.036553</td>\n      <td>-0.087190</td>\n      <td>0.087771</td>\n      <td>...</td>\n      <td>-0.025313</td>\n      <td>-0.017285</td>\n      <td>0.005525</td>\n      <td>0.035835</td>\n      <td>-0.015438</td>\n      <td>-0.014155</td>\n      <td>1.000000</td>\n      <td>-0.688864</td>\n      <td>0.302640</td>\n      <td>0.801623</td>\n    </tr>\n    <tr>\n      <th>Family_Single</th>\n      <td>0.028546</td>\n      <td>-0.203367</td>\n      <td>0.284537</td>\n      <td>0.116675</td>\n      <td>-0.591077</td>\n      <td>-0.549022</td>\n      <td>-0.274826</td>\n      <td>-0.107874</td>\n      <td>0.127214</td>\n      <td>0.014246</td>\n      <td>...</td>\n      <td>-0.074310</td>\n      <td>-0.042535</td>\n      <td>0.004055</td>\n      <td>-0.076397</td>\n      <td>0.022411</td>\n      <td>0.175812</td>\n      <td>-0.688864</td>\n      <td>1.000000</td>\n      <td>-0.873398</td>\n      <td>-0.318944</td>\n    </tr>\n    <tr>\n      <th>Family_Small</th>\n      <td>0.002975</td>\n      <td>0.279855</td>\n      <td>-0.255196</td>\n      <td>-0.038189</td>\n      <td>0.253590</td>\n      <td>0.248532</td>\n      <td>0.197281</td>\n      <td>0.159594</td>\n      <td>-0.122491</td>\n      <td>-0.062909</td>\n      <td>...</td>\n      <td>0.102432</td>\n      <td>0.068007</td>\n      <td>0.012756</td>\n      <td>0.087471</td>\n      <td>-0.019574</td>\n      <td>-0.211367</td>\n      <td>0.302640</td>\n      <td>-0.873398</td>\n      <td>1.000000</td>\n      <td>-0.183007</td>\n    </tr>\n    <tr>\n      <th>Family_Large</th>\n      <td>-0.063415</td>\n      <td>-0.125147</td>\n      <td>-0.077748</td>\n      <td>-0.161210</td>\n      <td>0.699681</td>\n      <td>0.624627</td>\n      <td>0.170853</td>\n      <td>-0.092825</td>\n      <td>-0.018423</td>\n      <td>0.093671</td>\n      <td>...</td>\n      <td>-0.049336</td>\n      <td>-0.046485</td>\n      <td>-0.033009</td>\n      <td>-0.016008</td>\n      <td>-0.007148</td>\n      <td>0.056438</td>\n      <td>0.801623</td>\n      <td>-0.318944</td>\n      <td>-0.183007</td>\n      <td>1.000000</td>\n    </tr>\n  </tbody>\n</table>\n<p>32 rows × 32 columns</p>\n</div>"
     },
     "metadata": {},
     "execution_count": 125
    }
   ],
   "source": [
    "corrDf = full.corr()\n",
    "corrDf"
   ]
  },
  {
   "cell_type": "code",
   "execution_count": 126,
   "metadata": {},
   "outputs": [
    {
     "output_type": "execute_result",
     "data": {
      "text/plain": [
       "Survived         1.000000\n",
       "Mrs              0.344935\n",
       "Miss             0.332795\n",
       "Pclass_1         0.285904\n",
       "Family_Small     0.279855\n",
       "Fare             0.257307\n",
       "Cabin_B          0.175095\n",
       "Embarked_C       0.168240\n",
       "Cabin_D          0.150716\n",
       "Cabin_E          0.145321\n",
       "Cabin_C          0.114652\n",
       "Pclass_2         0.093349\n",
       "Master           0.085221\n",
       "Parch            0.081629\n",
       "Cabin_F          0.057935\n",
       "Royalty          0.033391\n",
       "Cabin_A          0.022287\n",
       "FamilySize       0.016639\n",
       "Cabin_G          0.016040\n",
       "Embarked_Q       0.003650\n",
       "PassengerId     -0.005007\n",
       "Cabin_T         -0.026456\n",
       "Officer         -0.031316\n",
       "SibSp           -0.035322\n",
       "Age             -0.070323\n",
       "Family_Large    -0.125147\n",
       "Embarked_S      -0.149683\n",
       "Family_Single   -0.203367\n",
       "Cabin_U         -0.316912\n",
       "Pclass_3        -0.322308\n",
       "Sex             -0.543351\n",
       "Mr              -0.549199\n",
       "Name: Survived, dtype: float64"
      ]
     },
     "metadata": {},
     "execution_count": 126
    }
   ],
   "source": [
    "\"\"\"\n",
    "各特征对于Survived 的相关性排序\n",
    "\"\"\"\n",
    "corrDf['Survived'].sort_values(ascending = False)\n",
    "#查看各个特征相对Survived的相关系数并排序"
   ]
  },
  {
   "cell_type": "code",
   "execution_count": 127,
   "metadata": {},
   "outputs": [
    {
     "output_type": "execute_result",
     "data": {
      "text/plain": [
       "   Master  Miss  Mr  Mrs  Officer  Royalty  Pclass_1  Pclass_2  Pclass_3  \\\n",
       "0       0     0   1    0        0        0         0         0         1   \n",
       "1       0     0   0    1        0        0         1         0         0   \n",
       "2       0     1   0    0        0        0         0         0         1   \n",
       "3       0     0   0    1        0        0         1         0         0   \n",
       "4       0     0   1    0        0        0         0         0         1   \n",
       "\n",
       "   FamilySize  ...  Cabin_D  Cabin_E  Cabin_F  Cabin_G  Cabin_T  Cabin_U  \\\n",
       "0           2  ...        0        0        0        0        0        1   \n",
       "1           2  ...        0        0        0        0        0        0   \n",
       "2           1  ...        0        0        0        0        0        1   \n",
       "3           2  ...        0        0        0        0        0        0   \n",
       "4           1  ...        0        0        0        0        0        1   \n",
       "\n",
       "   Embarked_C  Embarked_Q  Embarked_S  Sex  \n",
       "0           0           0           1    1  \n",
       "1           1           0           0    0  \n",
       "2           0           0           1    0  \n",
       "3           0           0           1    0  \n",
       "4           0           0           1    1  \n",
       "\n",
       "[5 rows x 27 columns]"
      ],
      "text/html": "<div>\n<style scoped>\n    .dataframe tbody tr th:only-of-type {\n        vertical-align: middle;\n    }\n\n    .dataframe tbody tr th {\n        vertical-align: top;\n    }\n\n    .dataframe thead th {\n        text-align: right;\n    }\n</style>\n<table border=\"1\" class=\"dataframe\">\n  <thead>\n    <tr style=\"text-align: right;\">\n      <th></th>\n      <th>Master</th>\n      <th>Miss</th>\n      <th>Mr</th>\n      <th>Mrs</th>\n      <th>Officer</th>\n      <th>Royalty</th>\n      <th>Pclass_1</th>\n      <th>Pclass_2</th>\n      <th>Pclass_3</th>\n      <th>FamilySize</th>\n      <th>...</th>\n      <th>Cabin_D</th>\n      <th>Cabin_E</th>\n      <th>Cabin_F</th>\n      <th>Cabin_G</th>\n      <th>Cabin_T</th>\n      <th>Cabin_U</th>\n      <th>Embarked_C</th>\n      <th>Embarked_Q</th>\n      <th>Embarked_S</th>\n      <th>Sex</th>\n    </tr>\n  </thead>\n  <tbody>\n    <tr>\n      <th>0</th>\n      <td>0</td>\n      <td>0</td>\n      <td>1</td>\n      <td>0</td>\n      <td>0</td>\n      <td>0</td>\n      <td>0</td>\n      <td>0</td>\n      <td>1</td>\n      <td>2</td>\n      <td>...</td>\n      <td>0</td>\n      <td>0</td>\n      <td>0</td>\n      <td>0</td>\n      <td>0</td>\n      <td>1</td>\n      <td>0</td>\n      <td>0</td>\n      <td>1</td>\n      <td>1</td>\n    </tr>\n    <tr>\n      <th>1</th>\n      <td>0</td>\n      <td>0</td>\n      <td>0</td>\n      <td>1</td>\n      <td>0</td>\n      <td>0</td>\n      <td>1</td>\n      <td>0</td>\n      <td>0</td>\n      <td>2</td>\n      <td>...</td>\n      <td>0</td>\n      <td>0</td>\n      <td>0</td>\n      <td>0</td>\n      <td>0</td>\n      <td>0</td>\n      <td>1</td>\n      <td>0</td>\n      <td>0</td>\n      <td>0</td>\n    </tr>\n    <tr>\n      <th>2</th>\n      <td>0</td>\n      <td>1</td>\n      <td>0</td>\n      <td>0</td>\n      <td>0</td>\n      <td>0</td>\n      <td>0</td>\n      <td>0</td>\n      <td>1</td>\n      <td>1</td>\n      <td>...</td>\n      <td>0</td>\n      <td>0</td>\n      <td>0</td>\n      <td>0</td>\n      <td>0</td>\n      <td>1</td>\n      <td>0</td>\n      <td>0</td>\n      <td>1</td>\n      <td>0</td>\n    </tr>\n    <tr>\n      <th>3</th>\n      <td>0</td>\n      <td>0</td>\n      <td>0</td>\n      <td>1</td>\n      <td>0</td>\n      <td>0</td>\n      <td>1</td>\n      <td>0</td>\n      <td>0</td>\n      <td>2</td>\n      <td>...</td>\n      <td>0</td>\n      <td>0</td>\n      <td>0</td>\n      <td>0</td>\n      <td>0</td>\n      <td>0</td>\n      <td>0</td>\n      <td>0</td>\n      <td>1</td>\n      <td>0</td>\n    </tr>\n    <tr>\n      <th>4</th>\n      <td>0</td>\n      <td>0</td>\n      <td>1</td>\n      <td>0</td>\n      <td>0</td>\n      <td>0</td>\n      <td>0</td>\n      <td>0</td>\n      <td>1</td>\n      <td>1</td>\n      <td>...</td>\n      <td>0</td>\n      <td>0</td>\n      <td>0</td>\n      <td>0</td>\n      <td>0</td>\n      <td>1</td>\n      <td>0</td>\n      <td>0</td>\n      <td>1</td>\n      <td>1</td>\n    </tr>\n  </tbody>\n</table>\n<p>5 rows × 27 columns</p>\n</div>"
     },
     "metadata": {},
     "execution_count": 127
    }
   ],
   "source": [
    "\"\"\"\n",
    "根据各个特征与生成情况（Survived）的相关系数大小，我们选择正负相关性较高的几个特征作为模型的输入：\n",
    "头衔（前面所在的数据集titleDf）、客舱等级（pclassDf）、家庭大小（familyDf）、船票价格（Fare）、船舱号（cabinDf）、登船港口（embarkedDf）、性别（Sex）\n",
    "\"\"\"\n",
    "\n",
    "#构建特征子集\n",
    "full_X = pd.concat( [titleDf,#头衔\n",
    "                     pclassDf,#客舱等级\n",
    "                     familyDf,#家庭大小\n",
    "                     full['Fare'],#船票价格\n",
    "                     cabinDf,#船舱号\n",
    "                     embarkedDf,#登船港口\n",
    "                     full['Sex']#性别\n",
    "                    ] , axis=1 )\n",
    "full_X.head()"
   ]
  },
  {
   "source": [
    "## 建立训练数据集和测试数据集"
   ],
   "cell_type": "markdown",
   "metadata": {}
  },
  {
   "cell_type": "code",
   "execution_count": 130,
   "metadata": {},
   "outputs": [
    {
     "output_type": "stream",
     "name": "stdout",
     "text": [
      "原始数据集特征： (891, 27) 训练数据集特征： (712, 27) 测试数据集特征： (179, 27)\n原始数据集标签： (891,) 训练数据集标签： (712,) 测试数据集标签： (179,)\n"
     ]
    }
   ],
   "source": [
    "'''\n",
    "1）坦尼克号测试数据集因为是我们最后要提交给Kaggle的，里面没有生存情况的值，所以不能用于评估模型。\n",
    "我们将Kaggle泰坦尼克号项目给我们的测试数据，叫做预测数据集（记为pred,也就是预测英文单词predict的缩写）。\n",
    "也就是我们使用机器学习模型来对其生存情况就那些预测。\n",
    "2）我们使用Kaggle泰坦尼克号项目给的训练数据集，做为我们的原始数据集（记为source），\n",
    "从这个原始数据集中拆分出训练数据集（记为train：用于模型训练）和测试数据集（记为test：用于模型评估）。\n",
    "\n",
    "'''\n",
    "#原始数据集有891行\n",
    "sourceRow=891\n",
    "'''\n",
    "sourceRow是我们在最开始合并数据前知道的，原始数据集有总共有891条数据\n",
    "从特征集合full_X中提取原始数据集提取前891行数据时，我们要减去1，因为行号是从0开始的。\n",
    "'''\n",
    "#原始数据集：特征\n",
    "source_X = full_X.loc[0:sourceRow-1,:]\n",
    "#原始数据集：标签\n",
    "source_y = full.loc[0:sourceRow-1,'Survived']   \n",
    "\n",
    "#预测数据集：特征\n",
    "pred_X = full_X.loc[sourceRow:,:]\n",
    "'''\n",
    "从原始数据集（source）中拆分出训练数据集（用于模型训练train），测试数据集（用于模型评估test）\n",
    "train_test_split是交叉验证中常用的函数，功能是从样本中随机的按比例选取train data和test data\n",
    "train_data：所要划分的样本特征集\n",
    "train_target：所要划分的样本结果\n",
    "test_size：样本占比，如果是整数的话就是样本的数量\n",
    "'''\n",
    "from sklearn.model_selection import train_test_split\n",
    "\n",
    "#建立模型用的训练数据集和测试数据集\n",
    "train_X, test_X, train_y, test_y = train_test_split(source_X ,\n",
    "                                                    source_y,\n",
    "                                                    train_size=.8)\n",
    "\n",
    "#输出数据集大小\n",
    "print ('原始数据集特征：',source_X.shape, \n",
    "       '训练数据集特征：',train_X.shape ,\n",
    "      '测试数据集特征：',test_X.shape)\n",
    "\n",
    "print ('原始数据集标签：',source_y.shape, \n",
    "       '训练数据集标签：',train_y.shape ,\n",
    "      '测试数据集标签：',test_y.shape)"
   ]
  },
  {
   "source": [
    "## 实现预测"
   ],
   "cell_type": "markdown",
   "metadata": {}
  },
  {
   "cell_type": "code",
   "execution_count": 131,
   "metadata": {},
   "outputs": [],
   "source": [
    "from sklearn.linear_model import LogisticRegression#导入算法\n",
    "model =LogisticRegression()#创建模型\n",
    "\n"
   ]
  },
  {
   "cell_type": "code",
   "execution_count": 132,
   "metadata": {},
   "outputs": [
    {
     "output_type": "execute_result",
     "data": {
      "text/plain": [
       "0.8603351955307262"
      ]
     },
     "metadata": {},
     "execution_count": 132
    }
   ],
   "source": [
    "model.fit(train_X,train_y)#传入训练数据\n",
    "\n",
    "LogisticRegression(C=1.0, class_weight=None, dual=False, fit_intercept=True,\n",
    "          intercept_scaling=1, max_iter=100, multi_class='ovr', n_jobs=1,\n",
    "          penalty='l2', random_state=None, solver='liblinear', tol=0.0001,\n",
    "          verbose=0, warm_start=False)\n",
    "\n",
    "model.score(test_X,test_y)#模型准确度得分\n"
   ]
  },
  {
   "cell_type": "code",
   "execution_count": 134,
   "metadata": {},
   "outputs": [
    {
     "output_type": "execute_result",
     "data": {
      "text/plain": [
       "(418, 2)"
      ]
     },
     "metadata": {},
     "execution_count": 134
    }
   ],
   "source": [
    "pred_Y = model.predict(pred_X)#使用我们创建的模型，对预测数据集中的生存情况进行预测\n",
    "pred_Y = pred_Y.astype(int)#因为kaggle要求结果数据类型为int，我们进行数据类型转换\n",
    "passengerId = full.loc[sourceRow:,'PassengerId']\n",
    "#创建结果集\n",
    "predDf = pd.DataFrame(\n",
    "    {\n",
    "        'PassengerId':passengerId,\n",
    "        'Survived':pred_Y\n",
    "    }\n",
    ")\n",
    "#导出结果\n",
    "predDf.to_csv('titanic_pred.csv',index = False)\n",
    "predDf.shape\n"
   ]
  },
  {
   "cell_type": "code",
   "execution_count": null,
   "metadata": {},
   "outputs": [],
   "source": []
  }
 ]
}