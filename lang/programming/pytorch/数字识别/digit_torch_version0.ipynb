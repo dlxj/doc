{
  "nbformat": 4,
  "nbformat_minor": 0,
  "metadata": {
    "colab": {
      "name": "digit_torch_version0.ipynb",
      "provenance": [],
      "collapsed_sections": []
    },
    "kernelspec": {
      "name": "python3",
      "display_name": "Python 3"
    },
    "language_info": {
      "name": "python"
    }
  },
  "cells": [
    {
      "cell_type": "code",
      "metadata": {
        "id": "r_XHerX4xFyM"
      },
      "source": [
        "! unzip ./MNIST.zip_"
      ],
      "execution_count": null,
      "outputs": []
    },
    {
      "cell_type": "code",
      "metadata": {
        "colab": {
          "base_uri": "https://localhost:8080/"
        },
        "id": "Kl-4oqDavshR",
        "outputId": "c39201ff-8873-4c2f-8b3b-797200959881"
      },
      "source": [
        "\n",
        "import cv2\n",
        "\n",
        "im = cv2.imread(\"0001.bmp\")\n",
        "print(im.shape)\n"
      ],
      "execution_count": 4,
      "outputs": [
        {
          "output_type": "stream",
          "text": [
            "(3510, 2550, 3)\n"
          ],
          "name": "stdout"
        }
      ]
    },
    {
      "cell_type": "code",
      "metadata": {
        "colab": {
          "base_uri": "https://localhost:8080/",
          "height": 361
        },
        "id": "oS2UvY3yxhA2",
        "outputId": "2c9a4e99-09f6-4aa8-a984-3f79b5a76b8e"
      },
      "source": [
        "    import os\n",
        "    import matplotlib.pyplot as plt\n",
        "    from google.colab.patches import cv2_imshow\n",
        "\n",
        "    currDir = \"/content\" # jupyter not ok\n",
        "\n",
        "    root = os.path.join(currDir, \"MNIST\")\n",
        "\n",
        "    names = os.listdir(root)\n",
        "\n",
        "    for name in names:\n",
        "\n",
        "        print(\"name: \", name)\n",
        "\n",
        "        num = name.split('_')[0]  # number in fname already \n",
        "        num = int(num)\n",
        "\n",
        "        print( \"label: \", num )\n",
        "\n",
        "        num = num / 10  # normalize number to 0.0 ~ 1.0\n",
        "\n",
        "        path = os.path.join(root, name)\n",
        "        im = cv2.imread(path)\n",
        "        im = cv2.cvtColor(im, cv2.COLOR_BGR2GRAY)\n",
        "        print( type(im) )\n",
        "        print(im.shape)\n",
        "        #print(im)\n",
        "\n",
        "        # cv2.imshow('image', im) # BUG: crash the colab kernel\n",
        "        cv2_imshow(im)\n",
        "        plt.imshow(im.squeeze(), cmap='gray_r'); \n",
        "\n",
        "        break"
      ],
      "execution_count": 22,
      "outputs": [
        {
          "output_type": "stream",
          "text": [
            "name:  0_29_53.jpg\n",
            "label:  0\n",
            "<class 'numpy.ndarray'>\n",
            "(28, 28)\n"
          ],
          "name": "stdout"
        },
        {
          "output_type": "display_data",
          "data": {
            "image/png": "[encoded data removed]",
            "text/plain": [
              "<PIL.Image.Image image mode=L size=28x28 at 0x7FAC52F50150>"
            ]
          },
          "metadata": {
            "tags": []
          }
        },
        {
          "output_type": "display_data",
          "data": {
            "image/png": "[encoded data removed]",
            "text/plain": [
              "<Figure size 432x288 with 1 Axes>"
            ]
          },
          "metadata": {
            "tags": [],
            "needs_background": "light"
          }
        }
      ]
    },
    {
      "cell_type": "code",
      "metadata": {
        "id": "lWr1n59JvJwk"
      },
      "source": [
        "\n",
        "\"\"\"\n",
        "手写数字识别 pytorch 实现\n",
        "\n",
        "reference:\n",
        "    https://towardsdatascience.com/handwritten-digit-mnist-pytorch-977b5338e627\n",
        "    doc\\lang\\programming\\pytorch\\李宏毅2020机器翻译\\iAttention.py\n",
        "    doc\\lang\\programming\\pytorch\\数字识别\\ihandwritten_digit_recognition_GPU.ipynb\n",
        "    https://gist.github.com/user01/68514db1127eb007f24d28bfd11dd60e\n",
        "\n",
        "\n",
        "MNIST 图片的导出（）\n",
        "# import cv2\n",
        "\n",
        "# print( images.shape[0] )\n",
        "\n",
        "# for j in range(30):\n",
        "  \n",
        "#   images, labels = next(dataiter)\n",
        "\n",
        "#   for i in range(images.shape[0]):\n",
        "#     a = ((images[i].numpy().squeeze() + 1) / 2) * 255  # 原来的数值范围是 -1.0 ~ +1.0 ，规范为 0 ~ 255\n",
        "#     b = np.rint(a)  # Round elements of the array to the nearest integer.\n",
        "#     #plt.imshow(b, cmap='gray_r')\n",
        "#     #b\n",
        "#     label = labels.numpy()[i]\n",
        "#     #print(label)\n",
        "#     #cv2.imshow('Binary Threshold', b)\n",
        "#     cv2.imwrite(f'./out/{label}_{j}_{i}.jpg',b)\n",
        "\n",
        "\"\"\"\n",
        "import torch\n",
        "from torch.types import Number\n",
        "import torch.utils.data as torch_data\n",
        "from torch import nn\n",
        "from torch import optim\n",
        "\n",
        "from time import time\n",
        "import os\n",
        "import cv2\n",
        "import matplotlib.pyplot as plt\n",
        "from google.colab.patches import cv2_imshow\n",
        "\n",
        "def Data(type='training'):\n",
        "\n",
        "    #currDir = os.getcwd() # jupyter is ok\n",
        "    #currDir = os.path.dirname(os.path.abspath(__file__)) # jupyter not ok\n",
        "\n",
        "\n",
        "\n",
        "    currDir = \"/content\" # jupyter not ok\n",
        "\n",
        "    root = os.path.join(currDir, \"MNIST\")\n",
        "\n",
        "    names = os.listdir(root)\n",
        "\n",
        "    for name in names:\n",
        "\n",
        "        print(\"name: \", name)\n",
        "\n",
        "        num = name.split('_')[0]  # number in fname already \n",
        "        num = int(num)\n",
        "\n",
        "        print( \"label: \", num )\n",
        "\n",
        "        num = num / 10  # normalize number to 0.0 ~ 1.0\n",
        "\n",
        "        path = os.path.join(root, name)\n",
        "        im = cv2.imread(path)\n",
        "        im = cv2.cvtColor(im, cv2.COLOR_BGR2GRAY)\n",
        "        #print( type(im) )\n",
        "        #print(im.shape)\n",
        "        #print(im)\n",
        "\n",
        "        # cv2.imshow('image', im) # BUG: crash the colab kernel\n",
        "        #cv2_imshow(im)\n",
        "        #plt.imshow(im.squeeze(), cmap='gray_r');\n",
        "\n",
        "        break\n",
        "\n",
        "\n",
        "    data = [\n",
        "        [ torch.Tensor([0, 0]), torch.Tensor([0]) ],\n",
        "        [ torch.Tensor([0, 1]), torch.Tensor([1]) ],\n",
        "        [ torch.Tensor([1, 0]), torch.Tensor([1]) ],\n",
        "        [ torch.Tensor([1, 1]), torch.Tensor([0]) ]\n",
        "    ]\n",
        "\n",
        "    return data\n",
        "\n",
        "class TorchDataset(torch_data.Dataset):\n",
        "  def __init__(self, data):\n",
        "    self.data = data\n",
        "        \n",
        "  def __len__(self):\n",
        "    return len(self.data)\n",
        "  def __getitem__(self, Index):\n",
        "    item = self.data[Index]\n",
        "\n",
        "    return item[0], item[1]\n",
        "\n",
        "def infinite_iter(data_loader):\n",
        "  it = iter(data_loader)\n",
        "  while True:\n",
        "    try:\n",
        "      item_in , item_out = next(it)\n",
        "      yield item_in, item_out\n",
        "    except StopIteration:\n",
        "      it = iter(data_loader)\n",
        "\n",
        "# Layer details for the neural network\n",
        "input_size = 2 # 输入层两个神经元\n",
        "# hidden_sizes = [128, 64] # 没有隐层\n",
        "output_size = 1 # 输出一个值\n",
        "\n",
        "# Build a feed-forward network\n",
        "model = nn.Sequential(\n",
        "  nn.Linear(2, 8),\n",
        "  nn.ReLU(),\n",
        "  nn.Linear(8, 1)\n",
        ")\n",
        "print(model)\n",
        "\n",
        "device = torch.device(\"cuda\" if torch.cuda.is_available() else \"cpu\")\n",
        "print(device)\n",
        "model.to(device)\n",
        "\n",
        "\n",
        "\n",
        "train_dataset = TorchDataset(Data(type='training'))\n",
        "train_loader = torch_data.DataLoader(train_dataset, batch_size = 4, shuffle=True)  # 每个输入是维度是(2) 的一维数组，每一批输入2 组 来训练\n",
        "train_iter = infinite_iter(train_loader)\n",
        "\n",
        "sources, targets = next(train_iter)\n",
        "\n",
        "print( sources, targets )\n",
        "\n",
        "\n",
        "optimizer = optim.SGD(model.parameters(), lr=0.05) # momentum=0.05\n",
        "criterion = nn.MSELoss() #nn.NLLLoss()  # https://zhuanlan.zhihu.com/p/264366034\n",
        "  # NLLloss 和交叉熵一样只适用于分类任务， NLLLoss是基于softmax，softmax得到结果向量的概率分布，是离散值。回归任务建议MSE或MAE等损失函数\n",
        "  # 否则提示多个target报错\n",
        "\n",
        "time0 = time()\n",
        "epochs = 10000\n",
        "\n",
        "# 训练模型\n",
        "for e in range(epochs):\n",
        "    running_loss = 0\n",
        "    sources, targets = next(train_iter)\n",
        "\n",
        "    #targets = targets.squeeze(1) # 降维\n",
        "    #targets = targets.to(device=device, dtype=torch.long)\n",
        "    #targets =torch.tensor(targets, dtype=torch.long) # 类型转换\n",
        "\n",
        "    # Training pass\n",
        "    optimizer.zero_grad()\n",
        "        \n",
        "    output = model( sources.cuda() if torch.cuda.is_available() else sources.cpu() )\n",
        "    loss = criterion(output,  targets.cuda() if torch.cuda.is_available() else targets.cpu() )\n",
        "    #This is where the model learns by backpropagating\n",
        "    loss.backward()\n",
        "        \n",
        "    #And optimizes its weights here\n",
        "    optimizer.step()\n",
        "        \n",
        "    running_loss += loss.item()\n",
        "    \n",
        "    print(\"Epoch {} - Training loss: {}\".format(e, running_loss/4)) # 4 是总样本数\n",
        "\n",
        "print(\"\\nTraining Time (in minutes) =\",(time()-time0)/60)\n",
        "\n",
        "\n",
        "# 保存训练好的参数\n",
        "torch.save(model.state_dict(), \"save_OR_torch.pt\")\n",
        "\n",
        "# 验证训练出的模型是否正确\n",
        "sources, targets = next(train_iter)\n",
        "with torch.no_grad():\n",
        "    \n",
        "    # 加载训练好的参数\n",
        "    model.load_state_dict(torch.load(\"save_OR_torch.pt\"))\n",
        "    model.eval()\n",
        "\n",
        "    output = model( sources.cuda() if torch.cuda.is_available() else sources.cpu() )\n",
        "    print( sources, output )\n",
        "\n",
        "\n"
      ],
      "execution_count": null,
      "outputs": []
    }
  ]
}