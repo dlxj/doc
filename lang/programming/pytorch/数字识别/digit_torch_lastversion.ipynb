{
 "cells": [
  {
   "cell_type": "code",
   "execution_count": null,
   "metadata": {},
   "outputs": [],
   "source": [
    "\"\"\"\n",
    "pip install torch\n",
    "pip install torchvision\n",
    "pip install matplotlib\n",
    "\"\"\"\n",
    "\n",
    "# 准备数据\n",
    "import torch\n",
    "#from google.colab import drive\n",
    "from torchvision import datasets, transforms\n",
    "\n",
    "# Define a transform to normalize the data\n",
    "transform = transforms.Compose([transforms.ToTensor(),\n",
    "                              transforms.Normalize((0.5,), (0.5,)),\n",
    "                              ])\n",
    "\n",
    "# Download and load the training data\n",
    "trainset = datasets.MNIST('./mnist/MNIST_data/', download=True, train=True, transform=transform)\n",
    "valset = datasets.MNIST('./mnist/MNIST_data/', download=True, train=False, transform=transform)\n",
    "trainloader = torch.utils.data.DataLoader(trainset, batch_size=64, shuffle=True)\n",
    "valloader = torch.utils.data.DataLoader(valset, batch_size=64, shuffle=True)\n"
   ]
  },
  {
   "cell_type": "code",
   "execution_count": 5,
   "metadata": {},
   "outputs": [
    {
     "ename": "ModuleNotFoundError",
     "evalue": "No module named 'matplotlib'",
     "output_type": "error",
     "traceback": [
      "\u001b[1;31m---------------------------------------------------------------------------\u001b[0m",
      "\u001b[1;31mModuleNotFoundError\u001b[0m                       Traceback (most recent call last)",
      "\u001b[1;32md:\\GitHub\\doc\\lang\\programming\\pytorch\\数字识别\\digit_torch_lastversion.ipynb Cell 2'\u001b[0m in \u001b[0;36m<cell line: 2>\u001b[1;34m()\u001b[0m\n\u001b[0;32m      <a href='vscode-notebook-cell:/d%3A/GitHub/doc/lang/programming/pytorch/%E6%95%B0%E5%AD%97%E8%AF%86%E5%88%AB/digit_torch_lastversion.ipynb#ch0000001?line=0'>1</a>\u001b[0m \u001b[39m# 观察数据\u001b[39;00m\n\u001b[1;32m----> <a href='vscode-notebook-cell:/d%3A/GitHub/doc/lang/programming/pytorch/%E6%95%B0%E5%AD%97%E8%AF%86%E5%88%AB/digit_torch_lastversion.ipynb#ch0000001?line=1'>2</a>\u001b[0m \u001b[39mimport\u001b[39;00m \u001b[39mmatplotlib\u001b[39;00m\u001b[39m.\u001b[39;00m\u001b[39mpyplot\u001b[39;00m \u001b[39mas\u001b[39;00m \u001b[39mplt\u001b[39;00m\n\u001b[0;32m      <a href='vscode-notebook-cell:/d%3A/GitHub/doc/lang/programming/pytorch/%E6%95%B0%E5%AD%97%E8%AF%86%E5%88%AB/digit_torch_lastversion.ipynb#ch0000001?line=3'>4</a>\u001b[0m dataiter \u001b[39m=\u001b[39m \u001b[39miter\u001b[39m(trainloader)\n\u001b[0;32m      <a href='vscode-notebook-cell:/d%3A/GitHub/doc/lang/programming/pytorch/%E6%95%B0%E5%AD%97%E8%AF%86%E5%88%AB/digit_torch_lastversion.ipynb#ch0000001?line=4'>5</a>\u001b[0m images, labels \u001b[39m=\u001b[39m \u001b[39mnext\u001b[39m(dataiter)  \u001b[39m# images [64, 1, 28, 28]，64 张，1 通道，28 宽，28 高 的图片  # labels [64] 64个标签\u001b[39;00m\n",
      "\u001b[1;31mModuleNotFoundError\u001b[0m: No module named 'matplotlib'"
     ]
    }
   ],
   "source": [
    "# 观察数据\n",
    "import matplotlib.pyplot as plt\n",
    "\n",
    "dataiter = iter(trainloader)\n",
    "images, labels = next(dataiter)  # images [64, 1, 28, 28]，64 张，1 通道，28 宽，28 高 的图片  # labels [64] 64个标签\n",
    "  # 28*28 = 784 个像素点，每张图片作为输入是[768] 的一维数组，每一批总共输入64 张，既是：[64, 784]\n",
    "  # so, 输入层共784 个神经元结点，每个结点得到图片的其中一个像素作为输入\n",
    "print(type(images))\n",
    "print(images.shape)\n",
    "print(labels.shape)\n",
    "\n",
    "plt.imshow(images[0].numpy().squeeze(), cmap='gray_r');  # squeeze 将 [1, 28, 28] 降维成 [28, 28]\n",
    "\n",
    "\n",
    "\"\"\"\n",
    "输入： images[0].numpy().squeeze()\n",
    "可以看到数值范围是：-1.0 ~ +1.0\n",
    "\"\"\"\n",
    "# import pdb; pdb.set_trace() # 调试， exit 退出\n",
    "\n",
    "\n",
    "figure = plt.figure()\n",
    "num_of_images = 60\n",
    "for index in range(1, num_of_images + 1):\n",
    "    plt.subplot(6, 10, index)  # 绘制  6 行，10 列 个对象\n",
    "    plt.axis('off')            # 关闭坐标轴显示\n",
    "    plt.imshow(images[index].numpy().squeeze(), cmap='gray_r')"
   ]
  }
 ],
 "metadata": {
  "interpreter": {
   "hash": "bd4c67ef142469da7dc4d338a32ac40116904d26076b8e6aa587d80720bc6a2b"
  },
  "kernelspec": {
   "display_name": "Python 3.9.9 64-bit",
   "language": "python",
   "name": "python3"
  },
  "language_info": {
   "codemirror_mode": {
    "name": "ipython",
    "version": 3
   },
   "file_extension": ".py",
   "mimetype": "text/x-python",
   "name": "python",
   "nbconvert_exporter": "python",
   "pygments_lexer": "ipython3",
   "version": "3.9.9"
  },
  "orig_nbformat": 4
 },
 "nbformat": 4,
 "nbformat_minor": 2
}
