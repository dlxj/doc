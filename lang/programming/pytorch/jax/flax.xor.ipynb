{
  "cells": [
    {
      "cell_type": "markdown",
      "id": "913371c5",
      "metadata": {
        "id": "913371c5"
      },
      "source": [
        "### Create the XOR dataset\n",
        "First, we'll start by creating the classic XOR dataset."
      ]
    },
    {
      "cell_type": "code",
      "execution_count": 2,
      "id": "7091052b-0d93-408b-b021-08ebdd7c3f9d",
      "metadata": {
        "id": "7091052b-0d93-408b-b021-08ebdd7c3f9d",
        "outputId": "8294dfed-1071-413f-f54b-271b1458021f"
      },
      "outputs": [],
      "source": [
        "import jax.numpy as jnp\n",
        "import jax\n",
        "\n",
        "X = jnp.array([[0, 0], [0, 1], [1, 0], [1, 1]])\n",
        "Y = jnp.array([0, 1, 1, 0])[:, None]"
      ]
    },
    {
      "cell_type": "markdown",
      "id": "3577dc4c",
      "metadata": {
        "id": "3577dc4c"
      },
      "source": [
        "Note: its very important to add the \"features\" column to `Y` (done via `[:, None]`) as code will not complain but the model will not train without it 😅.\n",
        "\n",
        "\n",
        "### Visualize the dataset\n",
        "Now we will visualize the dataset simply using `matplotlib` for a sanity check."
      ]
    },
    {
      "cell_type": "code",
      "execution_count": 3,
      "id": "1a5bbb2c",
      "metadata": {
        "id": "1a5bbb2c",
        "outputId": "9076114b-4c10-42a6-8257-37cf0218c01e"
      },
      "outputs": [
        {
          "data": {
            "image/png": "[encoded data removed]",
            "text/plain": [
              "<Figure size 432x288 with 1 Axes>"
            ]
          },
          "metadata": {
            "needs_background": "light"
          },
          "output_type": "display_data"
        }
      ],
      "source": [
        "import matplotlib.pyplot as plt\n",
        "\n",
        "plt.scatter(X[:, 0], X[:, 1], c=Y, s=100);"
      ]
    },
    {
      "cell_type": "markdown",
      "id": "2b696802",
      "metadata": {
        "id": "2b696802"
      },
      "source": [
        "### Define an MLP module\n",
        "The model will be a simple MLP with two layers, as history can remind you the XOR cannot be solved by a single layer. To do this we will just use a `linen.Module` and leverage `nn.compact` to make code simpler."
      ]
    },
    {
      "cell_type": "code",
      "execution_count": null,
      "id": "89f5a42b",
      "metadata": {
        "id": "89f5a42b"
      },
      "outputs": [],
      "source": [
        "import flax.linen as nn\n",
        "\n",
        "class SimpleMLP(nn.Module):\n",
        "    units: int\n",
        "    \n",
        "    @nn.compact\n",
        "    def __call__(self, x: jnp.ndarray) -> jnp.ndarray:\n",
        "        x = nn.Dense(self.units)(x)\n",
        "        x = nn.relu(x)\n",
        "        x = nn.Dense(1)(x)\n",
        "        return x"
      ]
    },
    {
      "cell_type": "markdown",
      "id": "da7d479c",
      "metadata": {
        "id": "da7d479c"
      },
      "source": [
        "### Create an XOR pytree module\n",
        "\n",
        "Although its not stricly necesary we will create our own `pytree` module to make the code more readable. This module is somewhat similar to Flax's `TrainState`, we will recreate it for pedagogical purposes. "
      ]
    },
    {
      "cell_type": "code",
      "execution_count": null,
      "id": "f15efcea",
      "metadata": {
        "id": "f15efcea"
      },
      "outputs": [],
      "source": [
        "from flax import struct\n",
        "from flax.core.frozen_dict import FrozenDict\n",
        "import optax\n",
        "import typing as tp\n",
        "\n",
        "\n",
        "@struct.dataclass\n",
        "class XORModule:\n",
        "    # nodes\n",
        "    variables: tp.Optional[FrozenDict]\n",
        "    opt_state: tp.Optional[optax.OptState]\n",
        "\n",
        "    # static \n",
        "    init_fn: tp.Callable[..., FrozenDict] = struct.field(pytree_node=False)\n",
        "    apply_fn: tp.Callable[..., jnp.ndarray] = struct.field(pytree_node=False)\n",
        "    optimizer: optax.GradientTransformation = struct.field(pytree_node=False)\n",
        "\n",
        "    @classmethod\n",
        "    def new(cls, model: nn.Module, optimizer: optax.GradientTransformation) -> \"XORModule\":\n",
        "        return cls(\n",
        "            variables=None,\n",
        "            opt_state=None,\n",
        "            init_fn=model.init,\n",
        "            apply_fn=model.apply,\n",
        "            optimizer=optimizer,\n",
        "        )\n",
        "\n",
        "    # this is added automatically by the struct.dataclass decorator\n",
        "    def replace(self, **kwargs) -> \"XORModule\":\n",
        "        ..."
      ]
    },
    {
      "cell_type": "markdown",
      "id": "579e9a38",
      "metadata": {
        "id": "579e9a38"
      },
      "source": [
        "Note the following: \n",
        "\n",
        "* We have two sets of fields: node fields and statics fields. Static fields are marked by `field(pytree_node=False)`.\n",
        "* `variables` and `opt_state` are initially set to `None`, they will be created later. \n",
        "* We capture the `Module`'s `init` and `apply`, since some modules are not hashable they cannot be static fields.\n",
        "\n",
        "### Define training loop steps\n",
        "\n",
        "We will define a couple of function that will be used in the training loop. Ideally these function's would be direct methods on the `XORModule` but this doesn't play well with Jupyter for documentation purposes. Will will directly `jit` some of them for performance. Finally, most of the functions will return a new `XORModule` with the updated by using the `replace` method to create a new instance with updated values.\n",
        "\n",
        "#### loss_fn\n",
        "The first one will be the loss function which we will define using Optax's `sigmoid_binary_cross_entropy`."
      ]
    },
    {
      "cell_type": "code",
      "execution_count": null,
      "id": "9439b69c",
      "metadata": {
        "id": "9439b69c"
      },
      "outputs": [],
      "source": [
        "def loss_fn(params: FrozenDict, module: XORModule, inputs: jnp.ndarray, labels: jnp.ndarray) -> jnp.ndarray:\n",
        "    assert module.variables is not None\n",
        "    variables = module.variables.copy({\"params\": params})\n",
        "\n",
        "    logits = module.apply_fn(variables, inputs)\n",
        "    return jnp.mean(optax.sigmoid_binary_cross_entropy(logits, labels))"
      ]
    },
    {
      "cell_type": "markdown",
      "id": "2cc08f4a",
      "metadata": {
        "id": "2cc08f4a"
      },
      "source": [
        "Note that even though `module` has the `variables` field which already grants access to all the parameters, `loss_fn` receives a separate `params` argument that contains only the parameters that are optimized which we later merge back in via `.copy()`.\n",
        "\n",
        "#### init_step\n",
        "Now to initialize the model's parameters we will create an `init_step` function."
      ]
    },
    {
      "cell_type": "code",
      "execution_count": null,
      "id": "b351f914",
      "metadata": {
        "id": "b351f914"
      },
      "outputs": [],
      "source": [
        "@jax.jit\n",
        "def init_step(key: jnp.ndarray, module: XORModule, x: jnp.ndarray) -> XORModule:\n",
        "    variables = module.init_fn(key, x)\n",
        "    opt_state = module.optimizer.init(variables[\"params\"])\n",
        "\n",
        "    return module.replace(variables=variables, opt_state=opt_state)"
      ]
    },
    {
      "cell_type": "markdown",
      "id": "631805cf",
      "metadata": {
        "id": "631805cf"
      },
      "source": [
        "#### train_step\n",
        "Next, the `train_step` function will just `jax.grad` over `loss_fn` to get the gradients and update the `params` and `opt_state`."
      ]
    },
    {
      "cell_type": "code",
      "execution_count": null,
      "id": "39fd67af",
      "metadata": {
        "id": "39fd67af"
      },
      "outputs": [],
      "source": [
        "@jax.jit\n",
        "def train_step(module: XORModule, inputs: jnp.ndarray, labels: jnp.ndarray) -> XORModule:\n",
        "    assert module.variables is not None\n",
        "    assert module.opt_state is not None\n",
        "\n",
        "    params = module.variables[\"params\"]\n",
        "    grads = jax.grad(loss_fn)(params, module, inputs, labels)\n",
        "\n",
        "    updates, opt_state = module.optimizer.update(grads, module.opt_state, params)\n",
        "    params = optax.apply_updates(params, updates)\n",
        "    variables = module.variables.copy({\"params\": params})\n",
        "\n",
        "    return module.replace(variables=variables, opt_state=opt_state)\n"
      ]
    },
    {
      "cell_type": "markdown",
      "id": "dfb7649f",
      "metadata": {
        "id": "dfb7649f"
      },
      "source": [
        "#### test_step\n",
        "The `test_step` fun will simplfy calculate the loss."
      ]
    },
    {
      "cell_type": "code",
      "execution_count": null,
      "id": "7f77b0ed",
      "metadata": {
        "id": "7f77b0ed"
      },
      "outputs": [],
      "source": [
        "@jax.jit\n",
        "def test_step(module: XORModule, inputs: jnp.ndarray, labels: jnp.ndarray) -> jnp.ndarray:\n",
        "    assert module.variables is not None\n",
        "    return loss_fn(module.variables[\"params\"], module, inputs, labels)"
      ]
    },
    {
      "cell_type": "markdown",
      "id": "9106736e",
      "metadata": {
        "id": "9106736e"
      },
      "source": [
        "#### pred_step\n",
        "And finally `pred_step` will perform the forward pass and return the predictions."
      ]
    },
    {
      "cell_type": "code",
      "execution_count": null,
      "id": "da672a47",
      "metadata": {
        "id": "da672a47"
      },
      "outputs": [],
      "source": [
        "@jax.jit\n",
        "def pred_step(module: XORModule, inputs: jnp.ndarray) -> jnp.ndarray:\n",
        "    assert module.variables is not None\n",
        "    return module.apply_fn(module.variables, inputs)"
      ]
    },
    {
      "cell_type": "markdown",
      "id": "198c3887",
      "metadata": {
        "id": "198c3887"
      },
      "source": [
        "### Training loop\n",
        "Now we will instantiate the `XORModule` and define the training loop by calling `train_step` and `test_step`. Will will capture the loss every once in a while and plot the learning curve at the end."
      ]
    },
    {
      "cell_type": "code",
      "execution_count": null,
      "id": "a6618109",
      "metadata": {
        "id": "a6618109",
        "outputId": "61f71d0a-4a06-4bef-fa4f-d0b9b628e886"
      },
      "outputs": [
        {
          "data": {
            "image/png": "[encoded data removed]",
            "text/plain": [
              "<Figure size 432x288 with 1 Axes>"
            ]
          },
          "metadata": {
            "needs_background": "light"
          },
          "output_type": "display_data"
        }
      ],
      "source": [
        "\n",
        "module = XORModule.new(\n",
        "    model=SimpleMLP(2), \n",
        "    optimizer=optax.adamw(4e-3),\n",
        ")\n",
        "\n",
        "key = jax.random.PRNGKey(42)\n",
        "epochs = 2000\n",
        "eval_epochs = 10\n",
        "\n",
        "# initialize\n",
        "module = init_step(key, module, X)\n",
        "\n",
        "# training loop\n",
        "history = []\n",
        "for epoch in range(epochs):\n",
        "    # full batch\n",
        "    module = train_step(module, X, Y)\n",
        "\n",
        "    if epoch % eval_epochs == 0:\n",
        "        loss = test_step(module, X, Y)\n",
        "        history.append(loss)\n",
        "\n",
        "plt.title(\"Loss\")\n",
        "plt.plot(history);"
      ]
    },
    {
      "cell_type": "markdown",
      "id": "IfIijsvAU5YX",
      "metadata": {
        "id": "IfIijsvAU5YX"
      },
      "source": [
        "### Visualize results\n",
        "\n",
        "To finish lets visualize the decision boundary by creating a meshgrid, running the prediction an all points using `pred_step`, and creating a `contourf` plot."
      ]
    },
    {
      "cell_type": "code",
      "execution_count": null,
      "id": "2575d2db",
      "metadata": {
        "id": "2575d2db",
        "outputId": "179575ed-cd8d-444d-c0b3-090141480b52"
      },
      "outputs": [
        {
          "data": {
            "image/png": "[encoded data removed]",
            "text/plain": [
              "<Figure size 432x288 with 1 Axes>"
            ]
          },
          "metadata": {
            "needs_background": "light"
          },
          "output_type": "display_data"
        }
      ],
      "source": [
        "X0, X1 = jnp.meshgrid(\n",
        "    jnp.linspace(-0.1, 1.1, 100),\n",
        "    jnp.linspace(-0.1, 1.1, 100),\n",
        ")\n",
        "X01 = jnp.stack([X0, X1], axis=-1)\n",
        "\n",
        "# get the predictions\n",
        "preds = pred_step(module, X01)\n",
        "preds = preds[..., 0] > 0\n",
        "\n",
        "# plot data\n",
        "plt.scatter(X[:, 0], X[:, 1], c=Y, s=100, edgecolors='black');\n",
        "# plot decision boundary\n",
        "plt.contourf(X0, X1, preds, alpha=0.7);"
      ]
    },
    {
      "cell_type": "code",
      "execution_count": null,
      "id": "62d45f04",
      "metadata": {
        "id": "62d45f04"
      },
      "outputs": [],
      "source": []
    }
  ],
  "metadata": {
    "colab": {
      "name": "flax.xor.ipynb",
      "provenance": []
    },
    "kernelspec": {
      "display_name": "Python 3.8.3 64-bit",
      "language": "python",
      "name": "python3"
    },
    "language_info": {
      "codemirror_mode": {
        "name": "ipython",
        "version": 3
      },
      "file_extension": ".py",
      "mimetype": "text/x-python",
      "name": "python",
      "nbconvert_exporter": "python",
      "pygments_lexer": "ipython3",
      "version": "3.8.3"
    },
    "vscode": {
      "interpreter": {
        "hash": "7ab1668fd9216ad761b752132627ec28b2eaca0dd4b34cfae01432754de8bfd3"
      }
    }
  },
  "nbformat": 4,
  "nbformat_minor": 5
}
