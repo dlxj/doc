{
 "cells": [
  {
   "cell_type": "markdown",
   "metadata": {},
   "source": [
    "# 克罗内克积"
   ]
  },
  {
   "cell_type": "markdown",
   "metadata": {},
   "source": [
    "> **$vec(X)$ 表示矩阵 $X$ 的向量化，它是把 $X$ 的所有列堆起来所形成的列向量。**"
   ]
  },
  {
   "cell_type": "code",
   "execution_count": null,
   "metadata": {},
   "outputs": [],
   "source": []
  }
 ],
 "metadata": {
  "kernelspec": {
   "display_name": "Python 3.8.3 64-bit (system)",
   "language": "python",
   "name": "python3"
  },
  "language_info": {
   "name": "python",
   "version": "3.8.3"
  },
  "orig_nbformat": 4,
  "vscode": {
   "interpreter": {
    "hash": "7ab1668fd9216ad761b752132627ec28b2eaca0dd4b34cfae01432754de8bfd3"
   }
  }
 },
 "nbformat": 4,
 "nbformat_minor": 2
}
