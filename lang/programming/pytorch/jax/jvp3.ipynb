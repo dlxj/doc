{
 "cells": [
  {
   "cell_type": "markdown",
   "metadata": {},
   "source": [
    "$$\n",
    "\\begin{bmatrix}\n",
    "a_{00} & a_{01} \\\\\n",
    "a_{10} & a_{11} \\\\\n",
    "\\end{bmatrix}\n",
    "\n",
    "\\cdot \n",
    "\n",
    "\\begin{bmatrix}\n",
    "x_{00} & x_{01} \\\\\n",
    "x_{10} & x_{11} \\\\\n",
    "\\end{bmatrix}\n",
    "\n",
    "= \n",
    "\n",
    "\\begin{bmatrix}\n",
    "y_{00} & y_{01} \\\\\n",
    "y_{10} & y_{11} \\\\\n",
    "\\end{bmatrix}\n",
    "\n",
    "$$"
   ]
  },
  {
   "cell_type": "markdown",
   "metadata": {},
   "source": [
    "$$\n",
    "\\frac{\\partial Y}{\\partial A} \n",
    "\n",
    "= \n",
    "\n",
    "\\begin{pmatrix}\n",
    "\n",
    "\\frac{\\partial y_{00}}{\\partial a_{00}} & \\cdots & \\frac{\\partial y_{00}}{\\partial a_{11}} \\\\\n",
    "\\frac{\\partial y_{01}}{\\partial a_{00}} & \\cdots & \\frac{\\partial y_{01}}{\\partial a_{11}} \\\\\n",
    "\n",
    "\\end{pmatrix}\n",
    "\n",
    "$$"
   ]
  },
  {
   "cell_type": "code",
   "execution_count": null,
   "metadata": {},
   "outputs": [],
   "source": []
  }
 ],
 "metadata": {
  "kernelspec": {
   "display_name": "Python 3.8.3 64-bit (system)",
   "language": "python",
   "name": "python3"
  },
  "language_info": {
   "name": "python",
   "version": "3.8.3"
  },
  "orig_nbformat": 4,
  "vscode": {
   "interpreter": {
    "hash": "7ab1668fd9216ad761b752132627ec28b2eaca0dd4b34cfae01432754de8bfd3"
   }
  }
 },
 "nbformat": 4,
 "nbformat_minor": 2
}
