{
 "cells": [
  {
   "cell_type": "markdown",
   "metadata": {},
   "source": [
    "$$\n",
    "x = [ 3, 4 ]^T\n",
    "$$"
   ]
  },
  {
   "cell_type": "code",
   "execution_count": 5,
   "metadata": {},
   "outputs": [
    {
     "name": "stdout",
     "output_type": "stream",
     "text": [
      "Jacobian using vjp and stacking:\n",
      "[[ 0.05981757  0.12883787  0.08857603]\n",
      " [ 0.04015916 -0.04928625  0.00684531]\n",
      " [ 0.12188289  0.01406341 -0.3047072 ]\n",
      " [ 0.00140431 -0.00472531  0.00263782]]\n",
      "Jacobian using jacrev directly:\n",
      "[[ 0.05981757  0.12883787  0.08857603]\n",
      " [ 0.04015916 -0.04928625  0.00684531]\n",
      " [ 0.12188289  0.01406341 -0.3047072 ]\n",
      " [ 0.00140431 -0.00472531  0.00263782]]\n"
     ]
    }
   ],
   "source": [
    "import jax.numpy as jnp\n",
    "from jax import random, jacrev, vjp\n",
    "\n",
    "key = random.PRNGKey(0)\n",
    "\n",
    "\n",
    "def sigmoid(x):\n",
    "    return 0.5 * (jnp.tanh(x / 2) + 1)\n",
    "\n",
    "\n",
    "def predict(W, b, inputs):\n",
    "    return sigmoid(jnp.dot(inputs, W) + b)\n",
    "\n",
    "\n",
    "key, W_key, b_key = random.split(key, 3)\n",
    "W = random.normal(W_key, (3,))\n",
    "b = random.normal(b_key, ())\n",
    "\n",
    "inputs = jnp.array([[0.52, 1.12,  0.77],\n",
    "                    [0.88, -1.08, 0.15],\n",
    "                    [0.52, 0.06, -1.30],\n",
    "                    [0.74, -2.49, 1.39]])\n",
    "\n",
    "# (4,3) . (3,) + () = (4,) \n",
    "\n",
    "t1 = sigmoid(jnp.dot(inputs, W) + b)\n",
    "\n",
    "def f(W):\n",
    "    return predict(W, b, inputs)\n",
    "\n",
    "\n",
    "def basis(size, index):\n",
    "    a = [0.0] * size\n",
    "    a[index] = 1.0\n",
    "    return jnp.array(a)\n",
    "\n",
    "\n",
    "M = [basis(4, i) for i in range(0, 4)]\n",
    "\n",
    "# computing by stacking VJPs of basis vectors\n",
    "y, vjp_fun = vjp(f, W)\n",
    "\n",
    "print('Jacobian using vjp and stacking:')\n",
    "print(jnp.vstack([vjp_fun(mi) for mi in M]))\n",
    "\n",
    "# computing directly using jacrev function\n",
    "print('Jacobian using jacrev directly:')\n",
    "print(jacrev(f)(W))\n",
    "\n",
    "\n",
    "'''\n",
    "Output:\n",
    "Jacobian using vjp and stacking:\n",
    "[[ 0.05981752  0.12883773  0.08857594]\n",
    " [ 0.04015911 -0.04928619  0.0068453 ]\n",
    " [ 0.12188289  0.01406341 -0.3047072 ]\n",
    " [ 0.00140426 -0.00472514  0.00263773]]\n",
    "Jacobian using jacrev directly:\n",
    "[[ 0.05981752  0.12883773  0.08857594]\n",
    " [ 0.04015911 -0.04928619  0.0068453 ]\n",
    " [ 0.12188289  0.01406341 -0.3047072 ]\n",
    " [ 0.00140426 -0.00472514  0.00263773]]\n",
    " ''';"
   ]
  }
 ],
 "metadata": {
  "kernelspec": {
   "display_name": "Python 3.8.3 64-bit (system)",
   "language": "python",
   "name": "python3"
  },
  "language_info": {
   "codemirror_mode": {
    "name": "ipython",
    "version": 3
   },
   "file_extension": ".py",
   "mimetype": "text/x-python",
   "name": "python",
   "nbconvert_exporter": "python",
   "pygments_lexer": "ipython3",
   "version": "3.8.3"
  },
  "orig_nbformat": 4,
  "vscode": {
   "interpreter": {
    "hash": "7ab1668fd9216ad761b752132627ec28b2eaca0dd4b34cfae01432754de8bfd3"
   }
  }
 },
 "nbformat": 4,
 "nbformat_minor": 2
}
