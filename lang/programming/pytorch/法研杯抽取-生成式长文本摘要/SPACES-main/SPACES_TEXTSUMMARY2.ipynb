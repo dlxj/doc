{
  "nbformat": 4,
  "nbformat_minor": 0,
  "metadata": {
    "accelerator": "GPU",
    "colab": {
      "name": "SPACES-TEXTSUMMARY2.ipynb",
      "provenance": [],
      "collapsed_sections": []
    },
    "kernelspec": {
      "display_name": "Python 3",
      "name": "python3"
    },
    "language_info": {
      "name": "python"
    }
  },
  "cells": [
    {
      "cell_type": "markdown",
      "metadata": {
        "id": "pj7qdgHDuOOR"
      },
      "source": [
        "**https://github.com/bojone/SPACES**"
      ]
    },
    {
      "cell_type": "code",
      "metadata": {
        "id": "8w9z7dkxIrkN"
      },
      "source": [
        "! /opt/bin/nvidia-smi # 查看分配到的GPU 信息"
      ],
      "execution_count": null,
      "outputs": []
    },
    {
      "cell_type": "code",
      "metadata": {
        "id": "1s3HE7XpSKcs"
      },
      "source": [
        "from google.colab import drive \n",
        "! gdown --id '1jMAKIJmPn7kADgD3yQZhpsqM-IRM1qZt' #--output data.zip\n",
        "! gdown --id '1k-dz9n-HPzUC_X1SPOB9HD2m9pV_g5Fv'\n",
        "! unzip ./chinese_roberta_wwm_ext_L-12_H-768_A-12.zip -d ./chinese_roberta_wwm_ext_L-12_H-768_A-12\n",
        "! unzip ./NEZHA-Base.zip"
      ],
      "execution_count": null,
      "outputs": []
    },
    {
      "cell_type": "code",
      "metadata": {
        "id": "5X5l6vzbaveB"
      },
      "source": [
        "#! git clone https://github.com/bojone/SPACES.git\n",
        "! git clone https://github.com/dlxj/SPACES.git"
      ],
      "execution_count": null,
      "outputs": []
    },
    {
      "cell_type": "code",
      "metadata": {
        "id": "7YNCShnCew1u"
      },
      "source": [
        "! pip install bert4keras==0.9.7\n",
        "! pip install keras==2.3.1\n",
        "! pip install rouge jieba"
      ],
      "execution_count": null,
      "outputs": []
    },
    {
      "cell_type": "code",
      "metadata": {
        "id": "V3jWI3YjtoJU"
      },
      "source": [
        "import os\n",
        "#os.environ[\"TF_KERAS\"] = '1'  # 关键配置，出错的时侯切换试试\n",
        "%tensorflow_version 1.14"
      ],
      "execution_count": null,
      "outputs": []
    },
    {
      "cell_type": "code",
      "metadata": {
        "id": "Vv8wiaiCT06L"
      },
      "source": [
        "! python ./SPACES/extract_convert.py"
      ],
      "execution_count": null,
      "outputs": []
    },
    {
      "cell_type": "code",
      "metadata": {
        "id": "9oITuX3IU2WC"
      },
      "source": [
        "! python ./SPACES/extract_vectorize.py"
      ],
      "execution_count": null,
      "outputs": []
    },
    {
      "cell_type": "code",
      "metadata": {
        "colab": {
          "background_save": true
        },
        "id": "wGvqo-DP2sct"
      },
      "source": [
        "! chmod +x ./SPACES/extract_model.sh\n",
        "! ./SPACES/extract_model.sh"
      ],
      "execution_count": null,
      "outputs": []
    },
    {
      "cell_type": "code",
      "metadata": {
        "colab": {
          "background_save": true
        },
        "id": "9HJFXUFY4T5b"
      },
      "source": [
        "! python ./SPACES/seq2seq_convert.py"
      ],
      "execution_count": null,
      "outputs": []
    },
    {
      "cell_type": "code",
      "metadata": {
        "id": "24ElbwJC6ai8"
      },
      "source": [
        "! python ./SPACES/seq2seq_model.py"
      ],
      "execution_count": null,
      "outputs": []
    },
    {
      "cell_type": "code",
      "metadata": {
        "id": "oQDXb6v4FTtB"
      },
      "source": [
        "! python ./SPACES/final.py 10"
      ],
      "execution_count": null,
      "outputs": []
    },
    {
      "cell_type": "code",
      "metadata": {
        "id": "eRXjONbpeBG5"
      },
      "source": [
        "\n",
        "import sys;\n",
        "sys.path.append('./SPACES')\n",
        "\n",
        "text = \"\"\"唐鲜明与何伟华、深圳市华名威电汽车服务有限公司侵权责任纠纷一审民事判决书\n",
        "广东省深圳市宝安区人民法院\n",
        "民 事 判 决 书\n",
        "（2017）粤0306民初3474号\n",
        "原告唐鲜明\n",
        "委托代理人孙光扬，\n",
        "泽丰（深圳）律师事务所律师。\n",
        "被告何伟华\n",
        "被告深圳市华名威电汽车服务有限公司。\n",
        "法定代表人何伟华。\n",
        "两被告共同委托代理人刘征，\n",
        "广东同观律师事务所律师。\n",
        "上列原告唐鲜明诉被告何伟华、深圳市华名威电汽车服务有限公司（以下简称华名威公司）侵权责任纠纷一案，\n",
        "原告诉请：\n",
        "1、判决被告赔偿原告163755.57元，\n",
        "赔偿明细如下：\n",
        "医疗费27086.37元、住院伙食补助费2500元、营养费4000元、护理费4598元、误工费26851元、残疾赔偿金46677.20元、精神损害抚慰金20000元、后续治疗费10000元、被抚养人生活费7787+9456元、交通费2000元、住宿费1000元、鉴定费1800元；\n",
        "2、案件受理费等由被告承担。\n",
        "本院受理后，\n",
        "依法适用普通程序，\n",
        "公开开庭进行了审理。\n",
        "原告唐鲜明及其委托代理人孙光扬，\n",
        "两被告共同委托代理人刘征到庭参加了诉讼。\n",
        "本案现已审理终结。\n",
        "本案相关情况\n",
        "原告唐鲜明主张其应案外人粟顺良要求于2014年12月13日前往广东省深圳市宝安区松岗街道车站一条街50号店铺进行装修施工，\n",
        "粟顺良曾向其承诺工钱为每天200元，\n",
        "当日其与粟爱国、粟武强三人一起施工；\n",
        "当日下午，\n",
        "原告在施工过程中摔倒受伤，\n",
        "原告电话告知粟顺良后，\n",
        "粟顺良赶到现场与其他几人一起将其送往医院，\n",
        "粟顺良支付了部分医疗费。\n",
        "原告主张涉案松岗街道车站一条街50号店铺系被告何伟华经营的好牛酒业商铺，\n",
        "店铺门口悬挂了被告“深圳市华名威电汽车服务有限公司”的招牌，\n",
        "两被告在原告施工过程中没有尽到管理责任，\n",
        "应承担侵权责任；\n",
        "两被告对此不予认可，\n",
        "称两被告与涉案店铺没有关系，\n",
        "并未租用该店铺。\n",
        "为调查相关案情，\n",
        "本院工作人员于2017年8月4日前往事发商铺，\n",
        "该商铺大门紧锁，\n",
        "已呈空置状态；\n",
        "后工作人员前往深圳市宝安区松岗街道流动人口和出租屋管理办公室东方巡查中队进行调查，\n",
        "该中队称管理系统中并不能显示2014年12月13日事件发生当时车站一条街50号店铺的承租人情况。\n",
        "原告受伤当日进入深圳市宝安区松岗人民医院住院治疗，\n",
        "于2015年1月7日出院，\n",
        "共计住院25天，\n",
        "发生医疗费27086.37元。\n",
        "出院当日，\n",
        "医院出具《疾病诊断证明书》载明：\n",
        "1、出院后头三个月每月门诊拍片复查一次，\n",
        "若有不适，\n",
        "请即诊；\n",
        "2、扶拐下地功能锻炼，\n",
        "患肢逐步负重；\n",
        "3、暂休假四个月；\n",
        "4、骨折愈合后取出内固定物（费约壹万元）；\n",
        "5、住院期间留一人陪护。\n",
        "2015年3月16日，\n",
        "广东南天司法鉴定所作出粤南(2015)临鉴字第817号《司法鉴定意见书》，\n",
        "鉴定意见为被鉴定人唐鲜明的伤残等级为玖级。\n",
        "原告为此支付鉴定费1800元。\n",
        "另，\n",
        "关于原告家庭情况，\n",
        "原告主张其无子女，\n",
        "兄弟三人，\n",
        "原告父亲唐近祥1948年12月16日出生，\n",
        "母亲李解英1951年10月18日出生，\n",
        "均为农业户口。\n",
        "判决结果\n",
        "本院认为，\n",
        "原告系受案外人粟顺良指示在涉案店铺进行装修，\n",
        "其主张两被告未尽到管理责任，\n",
        "但并未能提供充分的证据证明涉案商铺与两被告的关系，\n",
        "亦未能证实两被告存在过错行为且与原告受伤的结果之间有因果联系，\n",
        "故原告应承担举证不能的法律后果，\n",
        "对原告的诉讼请求，\n",
        "本院均不予支持。\n",
        "综上，\n",
        "依照《中华人民共和国民事诉讼法》第六十四条第一款、《最高人民法院关于民事诉讼证据的若干规定》第二条的规定，\n",
        "判决如下：\n",
        "驳回原告唐鲜明的全部诉讼请求。\n",
        "案件受理费3575.12元，\n",
        "由原告唐鲜明负担。\n",
        "如不服本判决，\n",
        "可在判决书送达之日起十五日内，\n",
        "向本院递交上诉状，\n",
        "并按对方当事人的人数提出副本，\n",
        "上诉于广东省深圳市中级人民法院。\n",
        "审　判　长　赵　 曼　 琪\n",
        "人民陪审员　陈　 初　 瑛\n",
        "人民陪审员　王　 嘉　 义\n",
        "二〇一七年十二月二十七日\n",
        "书　记　员　高美琪（兼）\n",
        "书　记　员　文　 英　 玲\n",
        "附本案相关法律条文如下：\n",
        "《中华人民共和国民事诉讼法》\n",
        "第六十四条第一款当事人对自己提出的主张，\n",
        "有责任提供证据。\n",
        "《最高人民法院关于民事诉讼证据的若干规定》\n",
        "第二条当事人对自己提出的诉讼请求所依据的事实或者反驳对方诉讼请求所依据的事实有责任提供证据加以证明。\n",
        "没有证据或者证据不足以证明当事人的事实主张的，\n",
        "由负有举证责任的当事人承担不利后果。\n",
        "\"\"\"\n",
        "\n",
        "summary = \"\"\"\n",
        "被告原告受伤原告受伤的结果之间有因果联系，故原告应承担举证不能的法律后果，对原告的诉讼请求，依照《中华人民共和国民事诉讼法》第六十四条第一款、《最高人民法院关于民事诉讼证据的若干规定》第二条的规定，驳回原告唐鲜明的全部诉讼请求。由原告唐鲜明负担。上诉于广东省深圳市中级人民法院\n",
        "\n",
        "\"\"\"\n",
        "\n",
        "\n"
      ],
      "execution_count": null,
      "outputs": []
    }
  ]
}