








<!DOCTYPE html>
<html lang="en">

<head>
  <meta charset="utf-8">
  <title>Jupyter Notebook Viewer</title>
  <meta name="viewport" content="width=device-width, initial-scale=1.0">
  <meta name="description" content="">
  <meta name="author" content="">
  
  <meta name="robots" content="noindex,nofollow">
  

  <!--NEW RELIC Start Perf Measurement-->
  
  <!--NREND-->

  <!-- Le styles -->
  <link href="/static/build/styles.css" rel="stylesheet">

  <!-- Le HTML5 shim, for IE6-8 support of HTML5 elements -->
  <!--[if lt IE 9]>
    <script src="http://html5shim.googlecode.com/svn/trunk/html5.js"></script>
  <![endif]-->

  <!-- Le fav and touch icons -->
  <link rel="shortcut icon" href="/static/ico/ipynb_icon_16x16.png">
  <link rel="apple-touch-icon-precomposed" sizes="144x144"
        href="/static/ico/apple-touch-icon-144-precomposed.png">
  <link rel="apple-touch-icon-precomposed" sizes="114x114"
        href="/static/ico/apple-touch-icon-114-precomposed.png">
  <link rel="apple-touch-icon-precomposed" sizes="72x72"
        href="/static/ico/apple-touch-icon-72-precomposed.png">
  <link rel="apple-touch-icon-precomposed"
        href="/static/ico/apple-touch-icon-57-precomposed.png">
  
  

  

  
  <meta name="twitter:card" content="summary">
  <meta name="twitter:title" content="Notebook on nbviewer">
  <meta name="twitter:description" content="Check out this Jupyter notebook!">

  
  <meta name="twitter:domain" content="nbviewer.jupyter.org">
  <meta name="twitter:image:src" content="http://ipython.org/ipython-doc/dev/_images/ipynb_icon_128x128.png">

  
    <link href="/static/build/notebook.css" rel="stylesheet">
  

  

  
    <script src="https://cdnjs.cloudflare.com/ajax/libs/mathjax/2.7.1/MathJax.js?config=TeX-AMS_HTML" type="text/javascript">
    </script>
    <script type="text/javascript">
      init_mathjax = function() {
        if (window.MathJax) {
          // MathJax loaded
          MathJax.Hub.Config({
            TeX: {
              equationNumbers: {
                autoNumber: "AMS",
                useLabelIds: true
              }
            },
            tex2jax: {
              inlineMath: [ ['$','$'], ["\\(","\\)"] ],
              displayMath: [ ['$$','$$'], ["\\[","\\]"] ],
              processEscapes: true,
              processEnvironments: true
            },
            displayAlign: 'center',
            "HTML-CSS": {
              styles: {'.MathJax_Display': {"margin": 0}},
              linebreaks: { automatic: true }
            }
          });
          MathJax.Hub.Queue(["Typeset", MathJax.Hub]);
        }
      }
      init_mathjax();
    </script>
  

  
    <script>
      (function() {
        function addWidgetsRenderer() {
          var mimeElement = document.querySelector('script[type="application/vnd.jupyter.widget-view+json"]');
          var scriptElement = document.createElement('script');
          var widgetRendererSrc = 'https://unpkg.com/@jupyter-widgets/html-manager@*/dist/embed-amd.js';
          var widgetState;

          try {
            widgetState = mimeElement && JSON.parse(mimeElement.innerHTML);

            if (widgetState && (widgetState.version_major < 2 || !widgetState.version_major)) {
              widgetRendererSrc = 'https://unpkg.com/jupyter-js-widgets@*/dist/embed.js';
            }
          } catch(e) {}

          scriptElement.src = widgetRendererSrc;
          document.body.appendChild(scriptElement);
        }

        document.addEventListener('DOMContentLoaded', addWidgetsRenderer);
      }());
    </script>
  

</head>

<body class="nbviewer">

  <!-- These are loaded at the top of the body so they are available to
       notebook cells when they are loaded below. -->
  <script src="/static/components/jquery/dist/jquery.min.js"></script>
  <script src="/static/components/requirejs/require.js"></script>
  <script src="/static/components/moment/min/moment.min.js"></script>
<!-- Navbar
================================================== -->
  <nav id="menubar" class="navbar navbar-default navbar-fixed-top" data-spy="affix">
    <div class="container">
      <div class="navbar-header">
        <button type="button" class="navbar-toggle collapsed" data-toggle="collapse" data-target=".navbar-collapse">
          <span class="sr-only">Toggle navigation</span>
          <i class="fa fa-bars"></i>
        </button>
        <a class="navbar-brand" href="/">
          <img src="/static/img/nav_logo.svg" width="159"/>
        </a>
      </div>

      <div class="collapse navbar-collapse">
        <ul class="nav navbar-nav navbar-right">
          <li>
            <a class="active" href="https://jupyter.org">JUPYTER</a>
          </li>
          <li>
    <a href="/faq" title="FAQ" >
      
        <span>FAQ</span>
      
    </a>
  </li>

          
  
    
  
    
      
        <li>
    <a href="script/url/www.cs.toronto.edu/~rgrosse/courses/csc321_2018/tutorials/tut1.ipynb" title="View as Code" >
      <span class="fa fa-code fa-2x menu-icon"></span>
      <span class="menu-text">View as Code</span>
    </a>
  </li>
      
    
  

  
    <li>
    <a href="#" title="Python 2 Kernel" >
      <span class="fa fa-server fa-2x menu-icon"></span>
      <span class="menu-text">Python 2 Kernel</span>
    </a>
  </li>
  

  

  

  <li>
    <a href="http://www.cs.toronto.edu/~rgrosse/courses/csc321_2018/tutorials/tut1.ipynb" title="Download Notebook" download>
      <span class="fa fa-download fa-2x menu-icon"></span>
      <span class="menu-text">Download Notebook</span>
    </a>
  </li>

        </ul>
      </div><!-- /.navbar-collapse -->
      
      
    </div>
  </nav>

  <div class="container container-main">
    
  
  <div id="notebook">
    <div id="notebook-container">
      <div class="cell border-box-sizing text_cell rendered"><div class="prompt input_prompt">
</div><div class="inner_cell">
<div class="text_cell_render border-box-sizing rendered_html">
<h1 id="Tutorial:-Linear-Regression">Tutorial: Linear Regression<a class="anchor-link" href="#Tutorial:-Linear-Regression">&#182;</a></h1><p>Agenda:</p>
<ol>
<li>Spyder interface</li>
<li>Linear regression running example: boston data</li>
<li>Vectorize cost function</li>
<li>Closed form solution</li>
<li>Gradient descent</li>
</ol>

</div>
</div>
</div>
<div class="cell border-box-sizing code_cell rendered">
<div class="input">
<div class="prompt input_prompt">In&nbsp;[1]:</div>
<div class="inner_cell">
    <div class="input_area">
<div class=" highlight hl-ipython2"><pre><span></span><span class="kn">import</span> <span class="nn">matplotlib</span>
<span class="kn">import</span> <span class="nn">numpy</span> <span class="k">as</span> <span class="nn">np</span>
<span class="kn">import</span> <span class="nn">matplotlib.pyplot</span> <span class="k">as</span> <span class="nn">plt</span>
<span class="o">%</span><span class="k">matplotlib</span> inline
</pre></div>

    </div>
</div>
</div>

</div>
<div class="cell border-box-sizing code_cell rendered">
<div class="input">
<div class="prompt input_prompt">In&nbsp;[2]:</div>
<div class="inner_cell">
    <div class="input_area">
<div class=" highlight hl-ipython2"><pre><span></span><span class="kn">from</span> <span class="nn">sklearn.datasets</span> <span class="kn">import</span> <span class="n">load_boston</span>
<span class="n">boston_data</span> <span class="o">=</span> <span class="n">load_boston</span><span class="p">()</span>
<span class="nb">print</span><span class="p">(</span><span class="n">boston_data</span><span class="p">[</span><span class="s1">&#39;DESCR&#39;</span><span class="p">])</span>
</pre></div>

    </div>
</div>
</div>

<div class="output_wrapper">
<div class="output">


<div class="output_area">

    <div class="prompt"></div>


<div class="output_subarea output_stream output_stdout output_text">
<pre>Boston House Prices dataset

Notes
------
Data Set Characteristics:  

    :Number of Instances: 506 

    :Number of Attributes: 13 numeric/categorical predictive
    
    :Median Value (attribute 14) is usually the target

    :Attribute Information (in order):
        - CRIM     per capita crime rate by town
        - ZN       proportion of residential land zoned for lots over 25,000 sq.ft.
        - INDUS    proportion of non-retail business acres per town
        - CHAS     Charles River dummy variable (= 1 if tract bounds river; 0 otherwise)
        - NOX      nitric oxides concentration (parts per 10 million)
        - RM       average number of rooms per dwelling
        - AGE      proportion of owner-occupied units built prior to 1940
        - DIS      weighted distances to five Boston employment centres
        - RAD      index of accessibility to radial highways
        - TAX      full-value property-tax rate per $10,000
        - PTRATIO  pupil-teacher ratio by town
        - B        1000(Bk - 0.63)^2 where Bk is the proportion of blacks by town
        - LSTAT    % lower status of the population
        - MEDV     Median value of owner-occupied homes in $1000&#39;s

    :Missing Attribute Values: None

    :Creator: Harrison, D. and Rubinfeld, D.L.

This is a copy of UCI ML housing dataset.
http://archive.ics.uci.edu/ml/datasets/Housing


This dataset was taken from the StatLib library which is maintained at Carnegie Mellon University.

The Boston house-price data of Harrison, D. and Rubinfeld, D.L. &#39;Hedonic
prices and the demand for clean air&#39;, J. Environ. Economics &amp; Management,
vol.5, 81-102, 1978.   Used in Belsley, Kuh &amp; Welsch, &#39;Regression diagnostics
...&#39;, Wiley, 1980.   N.B. Various transformations are used in the table on
pages 244-261 of the latter.

The Boston house-price data has been used in many machine learning papers that address regression
problems.   
     
**References**

   - Belsley, Kuh &amp; Welsch, &#39;Regression diagnostics: Identifying Influential Data and Sources of Collinearity&#39;, Wiley, 1980. 244-261.
   - Quinlan,R. (1993). Combining Instance-Based and Model-Based Learning. In Proceedings on the Tenth International Conference of Machine Learning, 236-243, University of Massachusetts, Amherst. Morgan Kaufmann.
   - many more! (see http://archive.ics.uci.edu/ml/datasets/Housing)

</pre>
</div>
</div>

</div>
</div>

</div>
<div class="cell border-box-sizing code_cell rendered">
<div class="input">
<div class="prompt input_prompt">In&nbsp;[3]:</div>
<div class="inner_cell">
    <div class="input_area">
<div class=" highlight hl-ipython2"><pre><span></span><span class="c1"># take the boston data</span>
<span class="n">data</span> <span class="o">=</span> <span class="n">boston_data</span><span class="p">[</span><span class="s1">&#39;data&#39;</span><span class="p">]</span>
<span class="c1"># we will only work with two of the features: INDUS and RM</span>
<span class="n">x_input</span> <span class="o">=</span> <span class="n">data</span><span class="p">[:,</span> <span class="p">[</span><span class="mi">2</span><span class="p">,</span><span class="mi">5</span><span class="p">]]</span>
<span class="n">y_target</span> <span class="o">=</span> <span class="n">boston_data</span><span class="p">[</span><span class="s1">&#39;target&#39;</span><span class="p">]</span>
</pre></div>

    </div>
</div>
</div>

</div>
<div class="cell border-box-sizing code_cell rendered">
<div class="input">
<div class="prompt input_prompt">In&nbsp;[5]:</div>
<div class="inner_cell">
    <div class="input_area">
<div class=" highlight hl-ipython2"><pre><span></span><span class="c1"># Individual plots for the two features:</span>
<span class="n">plt</span><span class="o">.</span><span class="n">title</span><span class="p">(</span><span class="s1">&#39;Industrialness vs Med House Price&#39;</span><span class="p">)</span>
<span class="n">plt</span><span class="o">.</span><span class="n">scatter</span><span class="p">(</span><span class="n">x_input</span><span class="p">[:,</span> <span class="mi">0</span><span class="p">],</span> <span class="n">y_target</span><span class="p">)</span>
<span class="n">plt</span><span class="o">.</span><span class="n">xlabel</span><span class="p">(</span><span class="s1">&#39;Industrialness&#39;</span><span class="p">)</span>
<span class="n">plt</span><span class="o">.</span><span class="n">ylabel</span><span class="p">(</span><span class="s1">&#39;Med House Price&#39;</span><span class="p">)</span>
<span class="n">plt</span><span class="o">.</span><span class="n">show</span><span class="p">()</span>

<span class="n">plt</span><span class="o">.</span><span class="n">title</span><span class="p">(</span><span class="s1">&#39;Avg Num Rooms vs Med House Price&#39;</span><span class="p">)</span>
<span class="n">plt</span><span class="o">.</span><span class="n">scatter</span><span class="p">(</span><span class="n">x_input</span><span class="p">[:,</span> <span class="mi">1</span><span class="p">],</span> <span class="n">y_target</span><span class="p">)</span>
<span class="n">plt</span><span class="o">.</span><span class="n">xlabel</span><span class="p">(</span><span class="s1">&#39;Avg Num Rooms&#39;</span><span class="p">)</span>
<span class="n">plt</span><span class="o">.</span><span class="n">ylabel</span><span class="p">(</span><span class="s1">&#39;Med House Price&#39;</span><span class="p">)</span>
<span class="n">plt</span><span class="o">.</span><span class="n">show</span><span class="p">()</span>
</pre></div>

    </div>
</div>
</div>

<div class="output_wrapper">
<div class="output">


<div class="output_area">

    <div class="prompt"></div>




<div class="output_png output_subarea ">
<img src="data:image/png;base64,iVBORw0KGgoAAAANSUhEUgAAAYEAAAEZCAYAAABxbJkKAAAABHNCSVQICAgIfAhkiAAAAAlwSFlz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"
>
</div>

</div>

<div class="output_area">

    <div class="prompt"></div>




<div class="output_png output_subarea ">
<img src="data:image/png;base64,iVBORw0KGgoAAAANSUhEUgAAAYEAAAEZCAYAAABxbJkKAAAABHNCSVQICAgIfAhkiAAAAAlwSFlz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==
"
>
</div>

</div>

</div>
</div>

</div>
<div class="cell border-box-sizing text_cell rendered"><div class="prompt input_prompt">
</div><div class="inner_cell">
<div class="text_cell_render border-box-sizing rendered_html">
<h2 id="Define-cost-function">Define cost function<a class="anchor-link" href="#Define-cost-function">&#182;</a></h2>$$\mathcal{E}(y, t) = \frac{1}{2N} \sum_{i=1}^N (y^{(i)}-t^{(i)})^2 $$$$\mathcal{E}(y, t) = \frac{1}{2N} \sum_{i=1}^N (w_1 x_1^{(i)} + w_2 x_2^{(i)} + b -t^{(i)})^2 $$
</div>
</div>
</div>
<div class="cell border-box-sizing code_cell rendered">
<div class="input">
<div class="prompt input_prompt">In&nbsp;[6]:</div>
<div class="inner_cell">
    <div class="input_area">
<div class=" highlight hl-ipython2"><pre><span></span><span class="k">def</span> <span class="nf">cost</span><span class="p">(</span><span class="n">w1</span><span class="p">,</span> <span class="n">w2</span><span class="p">,</span> <span class="n">b</span><span class="p">,</span> <span class="n">X</span><span class="p">,</span> <span class="n">t</span><span class="p">):</span>
    <span class="sd">&#39;&#39;&#39;</span>
<span class="sd">    Evaluate the cost function in a non-vectorized manner for </span>
<span class="sd">    inputs `X` and targets `t`, at weights `w1`, `w2` and `b`.</span>
<span class="sd">    &#39;&#39;&#39;</span>
    <span class="n">costs</span> <span class="o">=</span> <span class="mi">0</span>
    <span class="k">for</span> <span class="n">i</span> <span class="ow">in</span> <span class="nb">range</span><span class="p">(</span><span class="nb">len</span><span class="p">(</span><span class="n">t</span><span class="p">)):</span>
        <span class="n">y_i</span> <span class="o">=</span> <span class="n">w1</span> <span class="o">*</span> <span class="n">X</span><span class="p">[</span><span class="n">i</span><span class="p">,</span> <span class="mi">0</span><span class="p">]</span> <span class="o">+</span> <span class="n">w2</span> <span class="o">*</span> <span class="n">X</span><span class="p">[</span><span class="n">i</span><span class="p">,</span> <span class="mi">1</span><span class="p">]</span> <span class="o">+</span> <span class="n">b</span>
        <span class="n">t_i</span> <span class="o">=</span> <span class="n">t</span><span class="p">[</span><span class="n">i</span><span class="p">]</span>
        <span class="n">costs</span> <span class="o">+=</span> <span class="mf">0.5</span> <span class="o">*</span> <span class="p">(</span><span class="n">y_i</span> <span class="o">-</span> <span class="n">t_i</span><span class="p">)</span> <span class="o">**</span> <span class="mi">2</span>
    <span class="k">return</span> <span class="n">costs</span> <span class="o">/</span> <span class="nb">len</span><span class="p">(</span><span class="n">t</span><span class="p">)</span>
</pre></div>

    </div>
</div>
</div>

</div>
<div class="cell border-box-sizing code_cell rendered">
<div class="input">
<div class="prompt input_prompt">In&nbsp;[7]:</div>
<div class="inner_cell">
    <div class="input_area">
<div class=" highlight hl-ipython2"><pre><span></span><span class="n">cost</span><span class="p">(</span><span class="mi">3</span><span class="p">,</span> <span class="mi">5</span><span class="p">,</span> <span class="mi">20</span><span class="p">,</span> <span class="n">x_input</span><span class="p">,</span> <span class="n">y_target</span><span class="p">)</span>
</pre></div>

    </div>
</div>
</div>

<div class="output_wrapper">
<div class="output">


<div class="output_area">

    <div class="prompt output_prompt">Out[7]:</div>




<div class="output_text output_subarea output_execute_result">
<pre>2241.1239166749006</pre>
</div>

</div>

</div>
</div>

</div>
<div class="cell border-box-sizing code_cell rendered">
<div class="input">
<div class="prompt input_prompt">In&nbsp;[8]:</div>
<div class="inner_cell">
    <div class="input_area">
<div class=" highlight hl-ipython2"><pre><span></span><span class="n">cost</span><span class="p">(</span><span class="mi">3</span><span class="p">,</span> <span class="mi">5</span><span class="p">,</span> <span class="mi">0</span><span class="p">,</span> <span class="n">x_input</span><span class="p">,</span> <span class="n">y_target</span><span class="p">)</span>
</pre></div>

    </div>
</div>
</div>

<div class="output_wrapper">
<div class="output">


<div class="output_area">

    <div class="prompt output_prompt">Out[8]:</div>




<div class="output_text output_subarea output_execute_result">
<pre>1195.1098850543478</pre>
</div>

</div>

</div>
</div>

</div>
<div class="cell border-box-sizing text_cell rendered"><div class="prompt input_prompt">
</div><div class="inner_cell">
<div class="text_cell_render border-box-sizing rendered_html">
<h2 id="Vectorizing-the-cost-function:">Vectorizing the cost function:<a class="anchor-link" href="#Vectorizing-the-cost-function:">&#182;</a></h2>$$\mathcal{E}(y, t) = \frac{1}{2N} \| \bf{X} \bf{w} + b \bf{1} - \bf{t} \| ^2$$<p></p>

</div>
</div>
</div>
<div class="cell border-box-sizing code_cell rendered">
<div class="input">
<div class="prompt input_prompt">In&nbsp;[9]:</div>
<div class="inner_cell">
    <div class="input_area">
<div class=" highlight hl-ipython2"><pre><span></span><span class="k">def</span> <span class="nf">cost_vectorized</span><span class="p">(</span><span class="n">w1</span><span class="p">,</span> <span class="n">w2</span><span class="p">,</span> <span class="n">b</span><span class="p">,</span> <span class="n">X</span><span class="p">,</span> <span class="n">t</span><span class="p">):</span>
    <span class="sd">&#39;&#39;&#39;</span>
<span class="sd">    Evaluate the cost function in a vectorized manner for </span>
<span class="sd">    inputs `X` and targets `t`, at weights `w1`, `w2` and `b`.</span>
<span class="sd">    &#39;&#39;&#39;</span>
    <span class="n">N</span> <span class="o">=</span> <span class="nb">len</span><span class="p">(</span><span class="n">y_target</span><span class="p">)</span>
    <span class="n">w</span> <span class="o">=</span> <span class="n">np</span><span class="o">.</span><span class="n">array</span><span class="p">([</span><span class="n">w1</span><span class="p">,</span> <span class="n">w2</span><span class="p">])</span>
    <span class="n">y</span> <span class="o">=</span> <span class="n">np</span><span class="o">.</span><span class="n">dot</span><span class="p">(</span><span class="n">X</span><span class="p">,</span> <span class="n">w</span><span class="p">)</span> <span class="o">+</span> <span class="n">b</span> <span class="o">*</span> <span class="n">np</span><span class="o">.</span><span class="n">ones</span><span class="p">(</span><span class="n">N</span><span class="p">)</span>
    <span class="k">return</span> <span class="n">np</span><span class="o">.</span><span class="n">sum</span><span class="p">((</span><span class="n">y</span> <span class="o">-</span> <span class="n">t</span><span class="p">)</span><span class="o">**</span><span class="mi">2</span><span class="p">)</span> <span class="o">/</span> <span class="p">(</span><span class="mf">2.0</span> <span class="o">*</span> <span class="n">N</span><span class="p">)</span>
</pre></div>

    </div>
</div>
</div>

</div>
<div class="cell border-box-sizing code_cell rendered">
<div class="input">
<div class="prompt input_prompt">In&nbsp;[10]:</div>
<div class="inner_cell">
    <div class="input_area">
<div class=" highlight hl-ipython2"><pre><span></span><span class="n">cost_vectorized</span><span class="p">(</span><span class="mi">3</span><span class="p">,</span> <span class="mi">5</span><span class="p">,</span> <span class="mi">20</span><span class="p">,</span> <span class="n">x_input</span><span class="p">,</span> <span class="n">y_target</span><span class="p">)</span>
</pre></div>

    </div>
</div>
</div>

<div class="output_wrapper">
<div class="output">


<div class="output_area">

    <div class="prompt output_prompt">Out[10]:</div>




<div class="output_text output_subarea output_execute_result">
<pre>2241.1239166749015</pre>
</div>

</div>

</div>
</div>

</div>
<div class="cell border-box-sizing code_cell rendered">
<div class="input">
<div class="prompt input_prompt">In&nbsp;[11]:</div>
<div class="inner_cell">
    <div class="input_area">
<div class=" highlight hl-ipython2"><pre><span></span><span class="n">cost</span><span class="p">(</span><span class="mi">3</span><span class="p">,</span> <span class="mi">5</span><span class="p">,</span> <span class="mi">0</span><span class="p">,</span> <span class="n">x_input</span><span class="p">,</span> <span class="n">y_target</span><span class="p">)</span>
</pre></div>

    </div>
</div>
</div>

<div class="output_wrapper">
<div class="output">


<div class="output_area">

    <div class="prompt output_prompt">Out[11]:</div>




<div class="output_text output_subarea output_execute_result">
<pre>1195.1098850543478</pre>
</div>

</div>

</div>
</div>

</div>
<div class="cell border-box-sizing text_cell rendered"><div class="prompt input_prompt">
</div><div class="inner_cell">
<div class="text_cell_render border-box-sizing rendered_html">
<h2 id="Comparing-speed-of-the-vectorized-vs-unvectorized-code">Comparing speed of the vectorized vs unvectorized code<a class="anchor-link" href="#Comparing-speed-of-the-vectorized-vs-unvectorized-code">&#182;</a></h2><p>We'll see below that the vectorized code already
runs ~2x faster than the non-vectorized code!</p>
<p>Hopefully this will convince you to always vectorized your code whenever possible</p>

</div>
</div>
</div>
<div class="cell border-box-sizing code_cell rendered">
<div class="input">
<div class="prompt input_prompt">In&nbsp;[12]:</div>
<div class="inner_cell">
    <div class="input_area">
<div class=" highlight hl-ipython2"><pre><span></span><span class="kn">import</span> <span class="nn">time</span>

<span class="n">t0</span> <span class="o">=</span> <span class="n">time</span><span class="o">.</span><span class="n">time</span><span class="p">()</span>
<span class="nb">print</span> <span class="n">cost</span><span class="p">(</span><span class="mi">4</span><span class="p">,</span> <span class="mi">5</span><span class="p">,</span> <span class="mi">20</span><span class="p">,</span> <span class="n">x_input</span><span class="p">,</span> <span class="n">y_target</span><span class="p">)</span>
<span class="n">t1</span> <span class="o">=</span> <span class="n">time</span><span class="o">.</span><span class="n">time</span><span class="p">()</span>
<span class="nb">print</span> <span class="n">t1</span> <span class="o">-</span> <span class="n">t0</span>
</pre></div>

    </div>
</div>
</div>

<div class="output_wrapper">
<div class="output">


<div class="output_area">

    <div class="prompt"></div>


<div class="output_subarea output_stream output_stdout output_text">
<pre>3182.40634167
0.00229597091675
</pre>
</div>
</div>

</div>
</div>

</div>
<div class="cell border-box-sizing code_cell rendered">
<div class="input">
<div class="prompt input_prompt">In&nbsp;[13]:</div>
<div class="inner_cell">
    <div class="input_area">
<div class=" highlight hl-ipython2"><pre><span></span><span class="n">t0</span> <span class="o">=</span> <span class="n">time</span><span class="o">.</span><span class="n">time</span><span class="p">()</span>
<span class="nb">print</span> <span class="n">cost_vectorized</span><span class="p">(</span><span class="mi">4</span><span class="p">,</span> <span class="mi">5</span><span class="p">,</span> <span class="mi">20</span><span class="p">,</span> <span class="n">x_input</span><span class="p">,</span> <span class="n">y_target</span><span class="p">)</span>
<span class="n">t1</span> <span class="o">=</span> <span class="n">time</span><span class="o">.</span><span class="n">time</span><span class="p">()</span>
<span class="nb">print</span> <span class="n">t1</span> <span class="o">-</span> <span class="n">t0</span>
</pre></div>

    </div>
</div>
</div>

<div class="output_wrapper">
<div class="output">


<div class="output_area">

    <div class="prompt"></div>


<div class="output_subarea output_stream output_stdout output_text">
<pre>3182.40634167
0.000537872314453
</pre>
</div>
</div>

</div>
</div>

</div>
<div class="cell border-box-sizing text_cell rendered"><div class="prompt input_prompt">
</div><div class="inner_cell">
<div class="text_cell_render border-box-sizing rendered_html">
<h2 id="Plotting-cost-in-weight-space">Plotting cost in weight space<a class="anchor-link" href="#Plotting-cost-in-weight-space">&#182;</a></h2><p>We'll plot the cost for two of our weights, assuming that bias = -22.89831573.</p>
<p>We'll see where that number comes from later.</p>
<p>Notice the shape of the contours are ovals.</p>

</div>
</div>
</div>
<div class="cell border-box-sizing code_cell rendered">
<div class="input">
<div class="prompt input_prompt">In&nbsp;[15]:</div>
<div class="inner_cell">
    <div class="input_area">
<div class=" highlight hl-ipython2"><pre><span></span><span class="n">w1s</span> <span class="o">=</span> <span class="n">np</span><span class="o">.</span><span class="n">arange</span><span class="p">(</span><span class="o">-</span><span class="mf">1.0</span><span class="p">,</span> <span class="mf">0.0</span><span class="p">,</span> <span class="mf">0.01</span><span class="p">)</span>
<span class="n">w2s</span> <span class="o">=</span> <span class="n">np</span><span class="o">.</span><span class="n">arange</span><span class="p">(</span><span class="mf">6.0</span><span class="p">,</span> <span class="mf">10.0</span><span class="p">,</span> <span class="mf">0.1</span><span class="p">)</span>
<span class="n">z_cost</span> <span class="o">=</span> <span class="p">[]</span>
<span class="k">for</span> <span class="n">w2</span> <span class="ow">in</span> <span class="n">w2s</span><span class="p">:</span>
    <span class="n">z_cost</span><span class="o">.</span><span class="n">append</span><span class="p">([</span><span class="n">cost_vectorized</span><span class="p">(</span><span class="n">w1</span><span class="p">,</span> <span class="n">w2</span><span class="p">,</span> <span class="o">-</span><span class="mf">22.89831573</span><span class="p">,</span> <span class="n">x_input</span><span class="p">,</span> <span class="n">y_target</span><span class="p">)</span> <span class="k">for</span> <span class="n">w1</span> <span class="ow">in</span> <span class="n">w1s</span><span class="p">])</span>
<span class="n">z_cost</span> <span class="o">=</span> <span class="n">np</span><span class="o">.</span><span class="n">array</span><span class="p">(</span><span class="n">z_cost</span><span class="p">)</span>
<span class="n">np</span><span class="o">.</span><span class="n">shape</span><span class="p">(</span><span class="n">z_cost</span><span class="p">)</span>
<span class="n">W1</span><span class="p">,</span> <span class="n">W2</span> <span class="o">=</span> <span class="n">np</span><span class="o">.</span><span class="n">meshgrid</span><span class="p">(</span><span class="n">w1s</span><span class="p">,</span> <span class="n">w2s</span><span class="p">)</span>
<span class="n">CS</span> <span class="o">=</span> <span class="n">plt</span><span class="o">.</span><span class="n">contour</span><span class="p">(</span><span class="n">W1</span><span class="p">,</span> <span class="n">W2</span><span class="p">,</span> <span class="n">z_cost</span><span class="p">,</span> <span class="mi">25</span><span class="p">)</span>
<span class="n">plt</span><span class="o">.</span><span class="n">clabel</span><span class="p">(</span><span class="n">CS</span><span class="p">,</span> <span class="n">inline</span><span class="o">=</span><span class="mi">1</span><span class="p">,</span> <span class="n">fontsize</span><span class="o">=</span><span class="mi">10</span><span class="p">)</span>
<span class="n">plt</span><span class="o">.</span><span class="n">title</span><span class="p">(</span><span class="s1">&#39;Costs for various values of w1 and w2 for b=0&#39;</span><span class="p">)</span>
<span class="n">plt</span><span class="o">.</span><span class="n">xlabel</span><span class="p">(</span><span class="s2">&quot;w1&quot;</span><span class="p">)</span>
<span class="n">plt</span><span class="o">.</span><span class="n">ylabel</span><span class="p">(</span><span class="s2">&quot;w2&quot;</span><span class="p">)</span>
<span class="n">plt</span><span class="o">.</span><span class="n">plot</span><span class="p">([</span><span class="o">-</span><span class="mf">0.33471389</span><span class="p">],</span> <span class="p">[</span><span class="mf">7.82205511</span><span class="p">],</span> <span class="s1">&#39;o&#39;</span><span class="p">)</span> <span class="c1"># this will be the minima that we&#39;ll find later</span>
<span class="n">plt</span><span class="o">.</span><span class="n">show</span><span class="p">()</span>
</pre></div>

    </div>
</div>
</div>

<div class="output_wrapper">
<div class="output">


<div class="output_area">

    <div class="prompt"></div>




<div class="output_png output_subarea ">
<img src="data:image/png;base64,iVBORw0KGgoAAAANSUhEUgAAAX4AAAEZCAYAAACQK04eAAAABHNCSVQICAgIfAhkiAAAAAlwSFlz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"
>
</div>

</div>

</div>
</div>

</div>
<div class="cell border-box-sizing text_cell rendered"><div class="prompt input_prompt">
</div><div class="inner_cell">
<div class="text_cell_render border-box-sizing rendered_html">
<h1 id="Exact-Solution">Exact Solution<a class="anchor-link" href="#Exact-Solution">&#182;</a></h1><p>Work this out on the board:</p>
<ol>
<li>ignore biases (add an extra feature &amp; weight instead)</li>
<li>get equations from partial derivative</li>
<li>vectorize</li>
<li>write code.</li>
</ol>

</div>
</div>
</div>
<div class="cell border-box-sizing code_cell rendered">
<div class="input">
<div class="prompt input_prompt">In&nbsp;[16]:</div>
<div class="inner_cell">
    <div class="input_area">
<div class=" highlight hl-ipython2"><pre><span></span><span class="c1"># add an extra feature (column in the input) that are just all ones</span>
<span class="n">x_in</span> <span class="o">=</span> <span class="n">np</span><span class="o">.</span><span class="n">concatenate</span><span class="p">([</span><span class="n">x_input</span><span class="p">,</span> <span class="n">np</span><span class="o">.</span><span class="n">ones</span><span class="p">([</span><span class="n">np</span><span class="o">.</span><span class="n">shape</span><span class="p">(</span><span class="n">x_input</span><span class="p">)[</span><span class="mi">0</span><span class="p">],</span> <span class="mi">1</span><span class="p">])],</span> <span class="n">axis</span><span class="o">=</span><span class="mi">1</span><span class="p">)</span>
<span class="n">x_in</span>
</pre></div>

    </div>
</div>
</div>

<div class="output_wrapper">
<div class="output">


<div class="output_area">

    <div class="prompt output_prompt">Out[16]:</div>




<div class="output_text output_subarea output_execute_result">
<pre>array([[  2.31 ,   6.575,   1.   ],
       [  7.07 ,   6.421,   1.   ],
       [  7.07 ,   7.185,   1.   ],
       ..., 
       [ 11.93 ,   6.976,   1.   ],
       [ 11.93 ,   6.794,   1.   ],
       [ 11.93 ,   6.03 ,   1.   ]])</pre>
</div>

</div>

</div>
</div>

</div>
<div class="cell border-box-sizing code_cell rendered">
<div class="input">
<div class="prompt input_prompt">In&nbsp;[17]:</div>
<div class="inner_cell">
    <div class="input_area">
<div class=" highlight hl-ipython2"><pre><span></span><span class="k">def</span> <span class="nf">solve_exactly</span><span class="p">(</span><span class="n">X</span><span class="p">,</span> <span class="n">t</span><span class="p">):</span>
    <span class="sd">&#39;&#39;&#39;</span>
<span class="sd">    Solve linear regression exactly. (fully vectorized)</span>
<span class="sd">    </span>
<span class="sd">    Given `X` - NxD matrix of inputs</span>
<span class="sd">          `t` - target outputs</span>
<span class="sd">    Returns the optimal weights as a D-dimensional vector</span>
<span class="sd">    &#39;&#39;&#39;</span>
    <span class="n">N</span><span class="p">,</span> <span class="n">D</span> <span class="o">=</span> <span class="n">np</span><span class="o">.</span><span class="n">shape</span><span class="p">(</span><span class="n">X</span><span class="p">)</span>
    <span class="n">A</span> <span class="o">=</span> <span class="n">np</span><span class="o">.</span><span class="n">matmul</span><span class="p">(</span><span class="n">X</span><span class="o">.</span><span class="n">T</span><span class="p">,</span> <span class="n">X</span><span class="p">)</span>
    <span class="n">c</span> <span class="o">=</span> <span class="n">np</span><span class="o">.</span><span class="n">dot</span><span class="p">(</span><span class="n">X</span><span class="o">.</span><span class="n">T</span><span class="p">,</span> <span class="n">t</span><span class="p">)</span>
    <span class="k">return</span> <span class="n">np</span><span class="o">.</span><span class="n">matmul</span><span class="p">(</span><span class="n">np</span><span class="o">.</span><span class="n">linalg</span><span class="o">.</span><span class="n">inv</span><span class="p">(</span><span class="n">A</span><span class="p">),</span> <span class="n">c</span><span class="p">)</span>
</pre></div>

    </div>
</div>
</div>

</div>
<div class="cell border-box-sizing code_cell rendered">
<div class="input">
<div class="prompt input_prompt">In&nbsp;[18]:</div>
<div class="inner_cell">
    <div class="input_area">
<div class=" highlight hl-ipython2"><pre><span></span><span class="n">solve_exactly</span><span class="p">(</span><span class="n">x_in</span><span class="p">,</span> <span class="n">y_target</span><span class="p">)</span>
</pre></div>

    </div>
</div>
</div>

<div class="output_wrapper">
<div class="output">


<div class="output_area">

    <div class="prompt output_prompt">Out[18]:</div>




<div class="output_text output_subarea output_execute_result">
<pre>array([ -0.33471389,   7.82205511, -22.89831573])</pre>
</div>

</div>

</div>
</div>

</div>
<div class="cell border-box-sizing code_cell rendered">
<div class="input">
<div class="prompt input_prompt">In&nbsp;[19]:</div>
<div class="inner_cell">
    <div class="input_area">
<div class=" highlight hl-ipython2"><pre><span></span><span class="c1"># In real life we don&#39;t want to code it directly</span>
<span class="n">np</span><span class="o">.</span><span class="n">linalg</span><span class="o">.</span><span class="n">lstsq</span><span class="p">(</span><span class="n">x_in</span><span class="p">,</span> <span class="n">y_target</span><span class="p">)</span>
</pre></div>

    </div>
</div>
</div>

<div class="output_wrapper">
<div class="output">


<div class="output_area">

    <div class="prompt output_prompt">Out[19]:</div>




<div class="output_text output_subarea output_execute_result">
<pre>(array([ -0.33471389,   7.82205511, -22.89831573]),
 array([ 19807.614505]),
 3,
 array([ 318.75354429,   75.21961717,    2.10127199]))</pre>
</div>

</div>

</div>
</div>

</div>
<div class="cell border-box-sizing text_cell rendered"><div class="prompt input_prompt">
</div><div class="inner_cell">
<div class="text_cell_render border-box-sizing rendered_html">
<h2 id="Implement-Gradient-Function">Implement Gradient Function<a class="anchor-link" href="#Implement-Gradient-Function">&#182;</a></h2>$$ \frac{\partial \mathcal{E}}{\partial w_j} = \frac{1}{N}\sum_i x_j^{(i)}(y^{(i)}-t^{(i)}) $$
</div>
</div>
</div>
<div class="cell border-box-sizing code_cell rendered">
<div class="input">
<div class="prompt input_prompt">In&nbsp;[20]:</div>
<div class="inner_cell">
    <div class="input_area">
<div class=" highlight hl-ipython2"><pre><span></span><span class="c1"># Vectorized gradient function</span>
<span class="k">def</span> <span class="nf">gradfn</span><span class="p">(</span><span class="n">weights</span><span class="p">,</span> <span class="n">X</span><span class="p">,</span> <span class="n">t</span><span class="p">):</span>
    <span class="sd">&#39;&#39;&#39;</span>
<span class="sd">    Given `weights` - a current &quot;Guess&quot; of what our weights should be</span>
<span class="sd">          `X` - matrix of shape (N,D) of input features</span>
<span class="sd">          `t` - target y values</span>
<span class="sd">    Return gradient of each weight evaluated at the current value</span>
<span class="sd">    &#39;&#39;&#39;</span>
    <span class="n">N</span><span class="p">,</span> <span class="n">D</span> <span class="o">=</span> <span class="n">np</span><span class="o">.</span><span class="n">shape</span><span class="p">(</span><span class="n">X</span><span class="p">)</span>
    <span class="n">y_pred</span> <span class="o">=</span> <span class="n">np</span><span class="o">.</span><span class="n">matmul</span><span class="p">(</span><span class="n">X</span><span class="p">,</span> <span class="n">weights</span><span class="p">)</span>
    <span class="n">error</span> <span class="o">=</span> <span class="n">y_pred</span> <span class="o">-</span> <span class="n">t</span>
    <span class="k">return</span> <span class="n">np</span><span class="o">.</span><span class="n">matmul</span><span class="p">(</span><span class="n">np</span><span class="o">.</span><span class="n">transpose</span><span class="p">(</span><span class="n">x_in</span><span class="p">),</span> <span class="n">error</span><span class="p">)</span> <span class="o">/</span> <span class="nb">float</span><span class="p">(</span><span class="n">N</span><span class="p">)</span>
</pre></div>

    </div>
</div>
</div>

</div>
<div class="cell border-box-sizing code_cell rendered">
<div class="input">
<div class="prompt input_prompt">In&nbsp;[23]:</div>
<div class="inner_cell">
    <div class="input_area">
<div class=" highlight hl-ipython2"><pre><span></span><span class="k">def</span> <span class="nf">solve_via_gradient_descent</span><span class="p">(</span><span class="n">X</span><span class="p">,</span> <span class="n">t</span><span class="p">,</span> <span class="n">print_every</span><span class="o">=</span><span class="mi">5000</span><span class="p">,</span>
                               <span class="n">niter</span><span class="o">=</span><span class="mi">100000</span><span class="p">,</span> <span class="n">alpha</span><span class="o">=</span><span class="mf">0.005</span><span class="p">):</span>
    <span class="sd">&#39;&#39;&#39;</span>
<span class="sd">    Given `X` - matrix of shape (N,D) of input features</span>
<span class="sd">          `t` - target y values</span>
<span class="sd">    Solves for linear regression weights.</span>
<span class="sd">    Return weights after `niter` iterations.</span>
<span class="sd">    &#39;&#39;&#39;</span>
    <span class="n">N</span><span class="p">,</span> <span class="n">D</span> <span class="o">=</span> <span class="n">np</span><span class="o">.</span><span class="n">shape</span><span class="p">(</span><span class="n">X</span><span class="p">)</span>
    <span class="c1"># initialize all the weights to zeros</span>
    <span class="n">w</span> <span class="o">=</span> <span class="n">np</span><span class="o">.</span><span class="n">zeros</span><span class="p">([</span><span class="n">D</span><span class="p">])</span>
    <span class="k">for</span> <span class="n">k</span> <span class="ow">in</span> <span class="nb">range</span><span class="p">(</span><span class="n">niter</span><span class="p">):</span>
        <span class="n">dw</span> <span class="o">=</span> <span class="n">gradfn</span><span class="p">(</span><span class="n">w</span><span class="p">,</span> <span class="n">X</span><span class="p">,</span> <span class="n">t</span><span class="p">)</span>
        <span class="n">w</span> <span class="o">=</span> <span class="n">w</span> <span class="o">-</span> <span class="n">alpha</span><span class="o">*</span><span class="n">dw</span>
        <span class="k">if</span> <span class="n">k</span> <span class="o">%</span> <span class="n">print_every</span> <span class="o">==</span> <span class="mi">0</span><span class="p">:</span>
            <span class="nb">print</span> <span class="s1">&#39;Weight after </span><span class="si">%d</span><span class="s1"> iteration: </span><span class="si">%s</span><span class="s1">&#39;</span> <span class="o">%</span> <span class="p">(</span><span class="n">k</span><span class="p">,</span> <span class="nb">str</span><span class="p">(</span><span class="n">w</span><span class="p">))</span>
    <span class="k">return</span> <span class="n">w</span>
</pre></div>

    </div>
</div>
</div>

</div>
<div class="cell border-box-sizing code_cell rendered">
<div class="input">
<div class="prompt input_prompt">In&nbsp;[24]:</div>
<div class="inner_cell">
    <div class="input_area">
<div class=" highlight hl-ipython2"><pre><span></span><span class="n">solve_via_gradient_descent</span><span class="p">(</span> <span class="n">X</span><span class="o">=</span><span class="n">x_in</span><span class="p">,</span> <span class="n">t</span><span class="o">=</span><span class="n">y_target</span><span class="p">)</span>
</pre></div>

    </div>
</div>
</div>

<div class="output_wrapper">
<div class="output">


<div class="output_area">

    <div class="prompt"></div>


<div class="output_subarea output_stream output_stdout output_text">
<pre>Weight after 0 iteration: [ 1.10241186  0.73047508  0.11266403]
Weight after 5000 iteration: [-0.48304613  5.10076868 -3.97899253]
Weight after 10000 iteration: [-0.45397323  5.63413678 -7.6871518 ]
Weight after 15000 iteration: [ -0.43059857   6.06296553 -10.66851736]
Weight after 20000 iteration: [ -0.41180532   6.40774447 -13.06553969]
Weight after 25000 iteration: [ -0.39669551   6.68494726 -14.9927492 ]
Weight after 30000 iteration: [ -0.38454721   6.90781871 -16.54222851]
Weight after 35000 iteration: [ -0.37477995   7.08700769 -17.78801217]
Weight after 40000 iteration: [ -0.36692706   7.23107589 -18.78962409]
Weight after 45000 iteration: [ -0.36061333   7.34690694 -19.59492155]
Weight after 50000 iteration: [ -0.35553708   7.44003528 -20.24238191]
Weight after 55000 iteration: [ -0.35145576   7.5149106  -20.762941  ]
Weight after 60000 iteration: [ -0.34817438   7.57511047 -21.18147127]
Weight after 65000 iteration: [ -0.34553614   7.62351125 -21.51797024]
Weight after 70000 iteration: [ -0.343415     7.66242555 -21.78851591]
Weight after 75000 iteration: [ -0.34170959   7.69371271 -22.00603503]
Weight after 80000 iteration: [ -0.34033844   7.71886763 -22.18092072]
Weight after 85000 iteration: [ -0.33923604   7.73909222 -22.32152908]
Weight after 90000 iteration: [ -0.3383497    7.75535283 -22.4345784 ]
Weight after 95000 iteration: [ -0.33763709   7.76842638 -22.52547023]
</pre>
</div>
</div>

<div class="output_area">

    <div class="prompt output_prompt">Out[24]:</div>




<div class="output_text output_subarea output_execute_result">
<pre>array([ -0.33706425,   7.77893565, -22.59853432])</pre>
</div>

</div>

</div>
</div>

</div>
<div class="cell border-box-sizing code_cell rendered">
<div class="input">
<div class="prompt input_prompt">In&nbsp;[25]:</div>
<div class="inner_cell">
    <div class="input_area">
<div class=" highlight hl-ipython2"><pre><span></span><span class="c1"># For comparison, this was the exact result:</span>
<span class="n">np</span><span class="o">.</span><span class="n">linalg</span><span class="o">.</span><span class="n">lstsq</span><span class="p">(</span><span class="n">x_in</span><span class="p">,</span> <span class="n">y_target</span><span class="p">)</span>
</pre></div>

    </div>
</div>
</div>

<div class="output_wrapper">
<div class="output">


<div class="output_area">

    <div class="prompt output_prompt">Out[25]:</div>




<div class="output_text output_subarea output_execute_result">
<pre>(array([ -0.33471389,   7.82205511, -22.89831573]),
 array([ 19807.614505]),
 3,
 array([ 318.75354429,   75.21961717,    2.10127199]))</pre>
</div>

</div>

</div>
</div>

</div>
 


    </div>
  </div>

  </div>


  
    <footer class="footer hidden-print">
      <div class="container">
        <div class="col-md-4">
          <p>
            This website does not host notebooks, it only renders notebooks
            available on other websites.
          </p>
        </div>

        <div class="col-md-4">
          <p>
            Delivered by <a href="https://www.fastly.com/">Fastly</a>,
            Rendered by <a href="https://ovhcloud.com">OVHcloud</a>
          </p>
          <p>
            nbviewer GitHub <a href="https://github.com/jupyter/nbviewer">repository</a>.
          </p>
        </div>

        <div class="col-md-4">
          
  
            
              <p>
                nbviewer version:
                <a href="https://github.com/jupyter/nbviewer/commit/cf693bda747f1f98e31a6005c874fbe2ee7fb4cc">
                  cf693bd
                </a>
              </p>
            
          
  
  <p>
    nbconvert version: <a href="https://github.com/jupyter/nbconvert/releases/tag/5.6.1">
      5.6.1
    </a>
  </p>
  

          
  
  
  <p>
    Rendered
    <span class='date' data-date='Fri, 06 Nov 2020 09:08:50 UTC' title='Fri, 06 Nov 2020 09:08:50 UTC'>(Fri, 06 Nov 2020 09:08:50 UTC)</span>
  </p>
  

        </div>
      </div>
    </footer>
  

  <script src="/static/components/bootstrap/js/bootstrap.min.js"></script>
  <script src="/static/components/headroom.js/dist/headroom.min.js"></script>
  <script src="/static/components/headroom.js/dist/jQuery.headroom.min.js"></script>

  
  
  <script>
    $(function(){ $("#menubar").headroom({
      tolerance: 5,
      offset: 205,
      classes: {
        initial: "animated",
        pinned: "slideInDown",
        unpinned: "slideOutUp"
      }
    })});
  </script>


  
  <script>
    (function(i,s,o,g,r,a,m){i['GoogleAnalyticsObject']=r;i[r]=i[r]||function(){
      (i[r].q=i[r].q||[]).push(arguments)},i[r].l=1*new Date();a=s.createElement(o),
      m=s.getElementsByTagName(o)[0];a.async=1;a.src=g;m.parentNode.insertBefore(a,m)
    })(window,document,'script','https://www.google-analytics.com/analytics.js','ga');
    ga('create', 'UA-52617120-5', 'auto',
       {'storage': 'none'});
    ga('set', 'anonymizeIp', true);
    ga('send', 'pageview');
  </script>
  
  <script>
    require({
        paths: {
          moment: "/static/components/moment/min/moment.min.js"
        }
      }, ["moment"], function(moment){
      var date = $("footer .date"),
        m = moment(new Date(date.data('date'))),
        update = function(){ date.text(m.fromNow()); };
      setInterval(update, 61*1000);
      update();
      var w = $(window).scroll(function(event){
        $("body").toggleClass("scrolled", w.scrollTop() > 0);
      });
    });
  </script>

  <!--NEW RELIC Stop Perf Measurement-->
  
  <!--NEW RELIC End-->
</body>
</html>