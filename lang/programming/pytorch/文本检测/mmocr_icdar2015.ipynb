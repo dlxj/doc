{
  "nbformat": 4,
  "nbformat_minor": 0,
  "metadata": {
    "colab": {
      "name": "mmocr_icdar2015.ipynb",
      "private_outputs": true,
      "provenance": [],
      "collapsed_sections": []
    },
    "kernelspec": {
      "name": "python3",
      "display_name": "Python 3"
    },
    "language_info": {
      "name": "python"
    },
    "accelerator": "GPU"
  },
  "cells": [
    {
      "cell_type": "markdown",
      "source": [
        "\n",
        "# Install coda\n",
        "\n",
        "- https://towardsdatascience.com/conda-google-colab-75f7c867a522\n",
        "- https://mmocr.readthedocs.io/zh_CN/latest/install.html\n"
      ],
      "metadata": {
        "id": "84xrUhoDjufj"
      }
    },
    {
      "cell_type": "code",
      "execution_count": null,
      "metadata": {
        "id": "866vSjMhjTPA"
      },
      "outputs": [],
      "source": [
        "!which python\n",
        "!python --version\n",
        "!echo $PYTHONPATH\n",
        "%env PYTHONPATH="
      ]
    },
    {
      "cell_type": "code",
      "source": [
        "%%bash\n",
        "MINICONDA_INSTALLER_SCRIPT=Miniconda3-4.5.4-Linux-x86_64.sh\n",
        "MINICONDA_PREFIX=/usr/local\n",
        "wget https://repo.continuum.io/miniconda/$MINICONDA_INSTALLER_SCRIPT\n",
        "chmod +x $MINICONDA_INSTALLER_SCRIPT\n",
        "./$MINICONDA_INSTALLER_SCRIPT -b -f -p $MINICONDA_PREFIX"
      ],
      "metadata": {
        "id": "SaBgcyTfkGjG"
      },
      "execution_count": null,
      "outputs": []
    },
    {
      "cell_type": "code",
      "source": [
        "!which conda\n",
        "!conda --version"
      ],
      "metadata": {
        "id": "mXzW7gK0ka_A"
      },
      "execution_count": null,
      "outputs": []
    },
    {
      "cell_type": "code",
      "source": [
        "%%bash\n",
        "conda install --channel defaults conda python=3.7 --yes\n",
        "conda update --channel defaults --all --yes"
      ],
      "metadata": {
        "id": "s8IshoAcksjq"
      },
      "execution_count": null,
      "outputs": []
    },
    {
      "cell_type": "code",
      "source": [
        "!conda --version\n",
        "!python --version\n",
        "import sys\n",
        "sys.path"
      ],
      "metadata": {
        "id": "GfYO_Ju7lsir"
      },
      "execution_count": null,
      "outputs": []
    },
    {
      "cell_type": "markdown",
      "source": [
        "# Install mmocr"
      ],
      "metadata": {
        "id": "ltSEkz9QmXnj"
      }
    },
    {
      "cell_type": "code",
      "source": [
        "!nvcc --version # check cuda version"
      ],
      "metadata": {
        "id": "coyzAqYEnKjA"
      },
      "execution_count": null,
      "outputs": []
    },
    {
      "cell_type": "code",
      "source": [
        "!conda create -n open-mmlab python=3.7 -y\n",
        "!conda activate open-mmlab"
      ],
      "metadata": {
        "id": "D6swHiSrmabq"
      },
      "execution_count": null,
      "outputs": []
    },
    {
      "cell_type": "code",
      "source": [
        "!conda install pytorch==1.6.0 torchvision==0.7.0 cudatoolkit=10.1 -c pytorch --yes"
      ],
      "metadata": {
        "id": "bLKGoiQ9mhVy"
      },
      "execution_count": null,
      "outputs": []
    },
    {
      "cell_type": "code",
      "source": [
        "!pip install mmcv-full -f https://download.openmmlab.com/mmcv/dist/cu101/torch1.6.0/index.html"
      ],
      "metadata": {
        "id": "GcIQ3-IZn9-n"
      },
      "execution_count": null,
      "outputs": []
    },
    {
      "cell_type": "code",
      "source": [
        "!pip install mmdet"
      ],
      "metadata": {
        "id": "Hbyu7zErpvHG"
      },
      "execution_count": null,
      "outputs": []
    },
    {
      "cell_type": "code",
      "source": [
        "!git clone https://github.com/open-mmlab/mmocr.git\n",
        "!cd mmocr\n",
        "!cd mmocr && pip install -r requirements.txt\n",
        "!cd mmocr && pip install -v -e .  # 或 \"python setup.py develop\"\n",
        "!cd mmocr && export PYTHONPATH=$(pwd):$PYTHONPATH\n",
        "!cd mmocr && pip install -r requirements/albu.txt"
      ],
      "metadata": {
        "id": "Fl4OS_Twp0s-"
      },
      "execution_count": null,
      "outputs": []
    }
  ]
}