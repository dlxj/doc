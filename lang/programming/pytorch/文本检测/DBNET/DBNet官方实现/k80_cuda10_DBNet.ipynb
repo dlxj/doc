{
  "nbformat": 4,
  "nbformat_minor": 0,
  "metadata": {
    "colab": {
      "name": "k80_cuda10_DBNet.ipynb",
      "provenance": [],
      "collapsed_sections": [
        "V589mH1wyTmX",
        "ly0UmMEdkNVn",
        "gTR68GOzAcAA"
      ],
      "private_outputs": true
    },
    "kernelspec": {
      "name": "python3",
      "display_name": "Python 3"
    },
    "accelerator": "GPU"
  },
  "cells": [
    {
      "cell_type": "markdown",
      "source": [
        "- https://blog.csdn.net/qq_46521210/article/details/122211173"
      ],
      "metadata": {
        "id": "V0jxnJUcB-rM"
      }
    },
    {
      "cell_type": "markdown",
      "source": [
        "# Install CUDA10.0"
      ],
      "metadata": {
        "id": "V589mH1wyTmX"
      }
    },
    {
      "cell_type": "code",
      "source": [
        "%%bash\n",
        "#Uninstall the current CUDA version\n",
        "apt-get --purge remove cuda nvidia* libnvidia-*\n",
        "dpkg -l | grep cuda- | awk '{print $2}' | xargs -n1 dpkg --purge\n",
        "apt-get remove cuda-*\n",
        "apt autoremove\n",
        "apt-get update"
      ],
      "metadata": {
        "id": "tAXzr9Pr-h5a"
      },
      "execution_count": null,
      "outputs": []
    },
    {
      "cell_type": "code",
      "source": [
        "%%bash\n",
        "apt-get --purge -y remove 'cuda*'\n",
        "apt-get --purge -y remove 'nvidia*'\n",
        "apt autoremove -y\n",
        "apt-get clean\n",
        "apt update -qq;"
      ],
      "metadata": {
        "id": "8V8XUdH6_CsQ"
      },
      "execution_count": null,
      "outputs": []
    },
    {
      "cell_type": "code",
      "source": [
        "%%bash\n",
        "#Download CUDA 10.0\n",
        "wget  --no-clobber https://developer.nvidia.com/compute/cuda/10.0/Prod/local_installers/cuda-repo-ubuntu1804-10-0-local-10.0.130-410.48_1.0-1_amd64\n",
        "#install CUDA kit dpkg\n",
        "dpkg -i cuda-repo-ubuntu1804-10-0-local-10.0.130-410.48_1.0-1_amd64\n",
        "apt-key add /var/cuda-repo-10-0-local-10.0.130-410.48/7fa2af80.pub\n",
        "apt-get update\n",
        "apt-get install **cuda-10-0**"
      ],
      "metadata": {
        "id": "JSChf-Dy_XxL"
      },
      "execution_count": null,
      "outputs": []
    },
    {
      "cell_type": "code",
      "source": [
        "%%bash\n",
        "sudo dpkg -i libcudnn7_7.5.0.56-1+cuda10.0_amd64.deb\n",
        "sudo dpkg -i libcudnn7-dev_7.5.0.56-1+cuda10.0_amd64.deb\n",
        "sudo dpkg -i libcudnn7-doc_7.5.0.56-1+cuda10.0_amd64.deb"
      ],
      "metadata": {
        "id": "qilKlmSnl9P3"
      },
      "execution_count": null,
      "outputs": []
    },
    {
      "cell_type": "code",
      "source": [
        "!/usr/local/cuda/bin/nvcc --version"
      ],
      "metadata": {
        "id": "27IC33YJr3Ug"
      },
      "execution_count": null,
      "outputs": []
    },
    {
      "cell_type": "code",
      "source": [
        "!ldconfig -p | grep cuda"
      ],
      "metadata": {
        "id": "S3AQ-6qeGy1s"
      },
      "execution_count": null,
      "outputs": []
    },
    {
      "cell_type": "markdown",
      "source": [
        "# Install conda"
      ],
      "metadata": {
        "id": "ly0UmMEdkNVn"
      }
    },
    {
      "cell_type": "code",
      "source": [
        "%%bash\n",
        "wget https://github.com/conda-forge/miniforge/releases/latest/download/Miniforge3-Linux-x86_64.sh\n",
        "bash Miniforge3-Linux-x86_64.sh -b"
      ],
      "metadata": {
        "id": "ph_8Yoy2kVNa"
      },
      "execution_count": null,
      "outputs": []
    },
    {
      "cell_type": "code",
      "source": [
        "%%bash\n",
        "~/miniforge3/bin/conda init"
      ],
      "metadata": {
        "id": "osfM28aLkpCi"
      },
      "execution_count": null,
      "outputs": []
    },
    {
      "cell_type": "code",
      "source": [
        "! ln -s ~/miniforge3/bin/conda /usr/local/bin"
      ],
      "metadata": {
        "id": "w2RO_CIKna2Z"
      },
      "execution_count": null,
      "outputs": []
    },
    {
      "cell_type": "code",
      "source": [
        "! ln -s ~/miniforge3/bin/activate /usr/local/bin"
      ],
      "metadata": {
        "id": "3eamE-aon178"
      },
      "execution_count": null,
      "outputs": []
    },
    {
      "cell_type": "code",
      "source": [
        "! ln -s ~/miniforge3/bin/deactivate /usr/local/bin"
      ],
      "metadata": {
        "id": "N4yEOtKOn-Ae"
      },
      "execution_count": null,
      "outputs": []
    },
    {
      "cell_type": "code",
      "source": [
        "!source ~/miniforge3/etc/profile.d/conda.sh"
      ],
      "metadata": {
        "id": "F8eOv23RlgFp"
      },
      "execution_count": null,
      "outputs": []
    },
    {
      "cell_type": "markdown",
      "source": [
        "# Install DB environment"
      ],
      "metadata": {
        "id": "KC38E3Vxb4rK"
      }
    },
    {
      "cell_type": "code",
      "source": [
        "%%bash\n",
        "conda update -y conda -n base && \\\n",
        "conda install ipython pip --yes && \\\n",
        "conda create -n DB python=3.7 --yes && \\\n",
        "source activate DB && \\\n",
        "conda install pytorch==1.2.0 torchvision==0.4.0 cudatoolkit=10.0 -c pytorch --yes"
      ],
      "metadata": {
        "id": "Pe43sOarYwhT"
      },
      "execution_count": null,
      "outputs": []
    },
    {
      "cell_type": "code",
      "source": [
        "%%bash\n",
        "source activate DB\n",
        "git clone https://github.com/MhLiao/DB.git\n",
        "cd DB\n",
        "pip install -r requirement.txt"
      ],
      "metadata": {
        "id": "MUh1UwWXGmCO"
      },
      "execution_count": null,
      "outputs": []
    },
    {
      "cell_type": "code",
      "source": [
        "%%bash\n",
        "source activate DB\n",
        "pip3 install --upgrade protobuf==3.20.0"
      ],
      "metadata": {
        "id": "gNRv64p9Gogj"
      },
      "execution_count": null,
      "outputs": []
    },
    {
      "cell_type": "code",
      "source": [
        "%%bash\n",
        "source activate DB\n",
        "echo $CUDA_HOME\n",
        "cd DB/assets/ops/dcn/\n",
        "python setup.py build_ext --inplace"
      ],
      "metadata": {
        "id": "uGsp5wmdLwCe"
      },
      "execution_count": null,
      "outputs": []
    },
    {
      "cell_type": "markdown",
      "source": [
        "# Modify batch_size & num_workers"
      ],
      "metadata": {
        "id": "PIOXgffuHa8K"
      }
    },
    {
      "cell_type": "code",
      "source": [
        "%%bash\n",
        "sed -i 's/batch_size\\:\\ 16/batch_size\\:\\ 12/1' DB/experiments/seg_detector/td500_resnet18_deform_thre.yaml\n",
        "sed -i 's/num_workers\\:\\ 16/num_workers\\:\\ 12/1' DB/experiments/seg_detector/td500_resnet18_deform_thre.yaml"
      ],
      "metadata": {
        "id": "5AFZxr_FKKsR"
      },
      "execution_count": null,
      "outputs": []
    },
    {
      "cell_type": "markdown",
      "source": [
        "# Prepare data"
      ],
      "metadata": {
        "id": "gTR68GOzAcAA"
      }
    },
    {
      "cell_type": "code",
      "source": [
        "# ! gdown --id '1Q2WXxV7aADurPF1ElQJUypnETSOJH7ZO'\n",
        "! gdown --id '1U9RDgco8-YDWbvjO_gKuNiHK684CoQ8f'\n",
        "\n"
      ],
      "metadata": {
        "id": "7eNje9wLAlhf"
      },
      "execution_count": null,
      "outputs": []
    },
    {
      "cell_type": "code",
      "source": [
        "# ! unzip ./TD500.zip\n",
        "! unzip ./TD_TR.zip -d DB/datasets\n",
        "\n"
      ],
      "metadata": {
        "id": "pROMHLdbAoP8"
      },
      "execution_count": null,
      "outputs": []
    },
    {
      "cell_type": "code",
      "metadata": {
        "id": "QQ36qb5IIrz5"
      },
      "source": [
        "!/usr/local/cuda/bin/nvcc --version"
      ],
      "execution_count": null,
      "outputs": []
    },
    {
      "cell_type": "markdown",
      "source": [
        "# Trainning"
      ],
      "metadata": {
        "id": "0S8OkzGhKoYU"
      }
    },
    {
      "cell_type": "code",
      "source": [
        "%%bash\n",
        "source activate DB\n",
        "echo $CUDA_HOME\n",
        "cd DB\n",
        "CUDA_VISIBLE_DEVICES=0 python train.py experiments/seg_detector/td500_resnet18_deform_thre.yaml --num_gpus 1"
      ],
      "metadata": {
        "id": "bYUq9oLNKtqN"
      },
      "execution_count": null,
      "outputs": []
    }
  ]
}