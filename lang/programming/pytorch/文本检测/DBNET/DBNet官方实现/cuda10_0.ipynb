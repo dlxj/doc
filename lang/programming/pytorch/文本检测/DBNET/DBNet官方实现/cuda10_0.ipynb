{
  "nbformat": 4,
  "nbformat_minor": 0,
  "metadata": {
    "colab": {
      "name": "cuda10.0.ipynb",
      "provenance": [],
      "collapsed_sections": [
        "ly0UmMEdkNVn",
        "KC38E3Vxb4rK",
        "T9QZFgYie2t6"
      ]
    },
    "kernelspec": {
      "name": "python3",
      "display_name": "Python 3"
    },
    "accelerator": "GPU"
  },
  "cells": [
    {
      "cell_type": "markdown",
      "source": [
        "- https://blog.csdn.net/qq_46521210/article/details/122211173"
      ],
      "metadata": {
        "id": "V0jxnJUcB-rM"
      }
    },
    {
      "cell_type": "code",
      "source": [
        "%%bash\n",
        "#Uninstall the current CUDA version\n",
        "apt-get --purge remove cuda nvidia* libnvidia-*\n",
        "dpkg -l | grep cuda- | awk '{print $2}' | xargs -n1 dpkg --purge\n",
        "apt-get remove cuda-*\n",
        "apt autoremove\n",
        "apt-get update"
      ],
      "metadata": {
        "id": "tAXzr9Pr-h5a"
      },
      "execution_count": null,
      "outputs": []
    },
    {
      "cell_type": "code",
      "source": [
        "%%bash\n",
        "apt-get --purge -y remove 'cuda*'\n",
        "apt-get --purge -y remove 'nvidia*'\n",
        "apt autoremove -y\n",
        "apt-get clean\n",
        "apt update -qq;"
      ],
      "metadata": {
        "id": "8V8XUdH6_CsQ"
      },
      "execution_count": null,
      "outputs": []
    },
    {
      "cell_type": "code",
      "source": [
        "%%bash\n",
        "#Download CUDA 10.0\n",
        "wget  --no-clobber https://developer.nvidia.com/compute/cuda/10.0/Prod/local_installers/cuda-repo-ubuntu1804-10-0-local-10.0.130-410.48_1.0-1_amd64\n",
        "#install CUDA kit dpkg\n",
        "dpkg -i cuda-repo-ubuntu1804-10-0-local-10.0.130-410.48_1.0-1_amd64\n",
        "sudo apt-key add /var/cuda-repo-10-0-local-10.0.130-410.48/7fa2af80.pub\n",
        "apt-get update\n",
        "apt-get install **cuda-10-0**"
      ],
      "metadata": {
        "id": "JSChf-Dy_XxL"
      },
      "execution_count": null,
      "outputs": []
    },
    {
      "cell_type": "code",
      "source": [
        "!nvcc --version"
      ],
      "metadata": {
        "id": "Bj_kCxKgAo6w"
      },
      "execution_count": null,
      "outputs": []
    },
    {
      "cell_type": "code",
      "source": [
        "%%bash\n",
        "sudo dpkg -i libcudnn7_7.5.0.56-1+cuda10.0_amd64.deb\n",
        "sudo dpkg -i libcudnn7-dev_7.5.0.56-1+cuda10.0_amd64.deb\n",
        "sudo dpkg -i libcudnn7-doc_7.5.0.56-1+cuda10.0_amd64.deb"
      ],
      "metadata": {
        "id": "qilKlmSnl9P3"
      },
      "execution_count": null,
      "outputs": []
    },
    {
      "cell_type": "code",
      "source": [
        "!/usr/local/cuda/bin/nvcc --version"
      ],
      "metadata": {
        "id": "27IC33YJr3Ug"
      },
      "execution_count": null,
      "outputs": []
    },
    {
      "cell_type": "markdown",
      "source": [
        "# Install conda"
      ],
      "metadata": {
        "id": "ly0UmMEdkNVn"
      }
    },
    {
      "cell_type": "code",
      "source": [
        "%%bash\n",
        "wget https://github.com/conda-forge/miniforge/releases/latest/download/Miniforge3-Linux-x86_64.sh\n",
        "bash Miniforge3-Linux-x86_64.sh -b"
      ],
      "metadata": {
        "id": "ph_8Yoy2kVNa"
      },
      "execution_count": null,
      "outputs": []
    },
    {
      "cell_type": "code",
      "source": [
        "%%bash\n",
        "~/miniforge3/bin/conda init"
      ],
      "metadata": {
        "id": "osfM28aLkpCi"
      },
      "execution_count": null,
      "outputs": []
    },
    {
      "cell_type": "code",
      "source": [
        "! ln -s ~/miniforge3/bin/conda /usr/local/bin"
      ],
      "metadata": {
        "id": "w2RO_CIKna2Z"
      },
      "execution_count": null,
      "outputs": []
    },
    {
      "cell_type": "code",
      "source": [
        "! ln -s ~/miniforge3/bin/activate /usr/local/bin"
      ],
      "metadata": {
        "id": "3eamE-aon178"
      },
      "execution_count": null,
      "outputs": []
    },
    {
      "cell_type": "code",
      "source": [
        "! ln -s ~/miniforge3/bin/deactivate /usr/local/bin"
      ],
      "metadata": {
        "id": "N4yEOtKOn-Ae"
      },
      "execution_count": null,
      "outputs": []
    },
    {
      "cell_type": "code",
      "source": [
        "%%bash\n",
        "conda update -y conda -n base"
      ],
      "metadata": {
        "id": "AsDiXheVlC79"
      },
      "execution_count": null,
      "outputs": []
    },
    {
      "cell_type": "code",
      "source": [
        "!source ~/miniforge3/etc/profile.d/conda.sh\n"
      ],
      "metadata": {
        "id": "F8eOv23RlgFp"
      },
      "execution_count": null,
      "outputs": []
    },
    {
      "cell_type": "markdown",
      "source": [
        ""
      ],
      "metadata": {
        "id": "qooEkEgcnBro"
      }
    },
    {
      "cell_type": "markdown",
      "source": [
        "# Install DB environment"
      ],
      "metadata": {
        "id": "KC38E3Vxb4rK"
      }
    },
    {
      "cell_type": "code",
      "source": [
        "%%bash\n",
        "# this installs the right pip and dependencies for the fresh python\n",
        "conda install ipython pip\n",
        "\n",
        "conda create -n DB python=3.7 --yes"
      ],
      "metadata": {
        "id": "8ZWAj_wqcCPq"
      },
      "execution_count": null,
      "outputs": []
    },
    {
      "cell_type": "code",
      "source": [
        "%%bash\n",
        "source activate DB\n",
        "python --version"
      ],
      "metadata": {
        "id": "8J_dp83FxEF6"
      },
      "execution_count": null,
      "outputs": []
    },
    {
      "cell_type": "code",
      "source": [
        "%%bash\n",
        "source activate DB\n",
        "conda install pytorch==1.2.0 torchvision==0.4.0 cudatoolkit=10.0 -c pytorch"
      ],
      "metadata": {
        "id": "FoxwpErVpFxw"
      },
      "execution_count": null,
      "outputs": []
    },
    {
      "cell_type": "code",
      "source": [
        "%%bash\n",
        "source activate DB\n",
        "git clone https://github.com/MhLiao/DB.git\n",
        "# python dependencies\n",
        "cd DB\n",
        "pip install -r requirement.txt"
      ],
      "metadata": {
        "id": "2PLpFTtiuSPL"
      },
      "execution_count": null,
      "outputs": []
    },
    {
      "cell_type": "code",
      "source": [
        "%%bash\n",
        "source activate DB\n",
        "python --version\n",
        "python -c \"import torch\""
      ],
      "metadata": {
        "id": "GFLq5eGwjVHg"
      },
      "execution_count": null,
      "outputs": []
    },
    {
      "cell_type": "markdown",
      "source": [
        "# Remove DB environment"
      ],
      "metadata": {
        "id": "T9QZFgYie2t6"
      }
    },
    {
      "cell_type": "code",
      "source": [
        "%%bash\n",
        "conda deactivate\n",
        "conda info -e\n",
        "conda env remove -n DB"
      ],
      "metadata": {
        "id": "3gvK1kPTdXuN"
      },
      "execution_count": null,
      "outputs": []
    },
    {
      "cell_type": "markdown",
      "source": [
        ""
      ],
      "metadata": {
        "id": "d6K6bUzcrdjE"
      }
    },
    {
      "cell_type": "markdown",
      "source": [
        "# Prepare data"
      ],
      "metadata": {
        "id": "gTR68GOzAcAA"
      }
    },
    {
      "cell_type": "code",
      "source": [
        "# ! gdown --id '1Q2WXxV7aADurPF1ElQJUypnETSOJH7ZO'\n",
        "! gdown --id '1U9RDgco8-YDWbvjO_gKuNiHK684CoQ8f'\n",
        "\n"
      ],
      "metadata": {
        "id": "7eNje9wLAlhf"
      },
      "execution_count": null,
      "outputs": []
    },
    {
      "cell_type": "code",
      "source": [
        "# ! unzip ./TD500.zip\n",
        "! unzip ./TD_TR.zip -d DB/datasets\n",
        "\n"
      ],
      "metadata": {
        "id": "pROMHLdbAoP8"
      },
      "execution_count": null,
      "outputs": []
    },
    {
      "cell_type": "code",
      "metadata": {
        "id": "QQ36qb5IIrz5"
      },
      "source": [
        "!/usr/local/cuda/bin/nvcc --version"
      ],
      "execution_count": null,
      "outputs": []
    },
    {
      "cell_type": "markdown",
      "source": [
        "# Traning"
      ],
      "metadata": {
        "id": "QLnwBiIFvgPF"
      }
    },
    {
      "cell_type": "code",
      "source": [
        "%set_env CUDA_HOME=/usr/local/cuda\n",
        "# %set_env PROTOCOL_BUFFERS_PYTHON_IMPLEMENTATION=python"
      ],
      "metadata": {
        "id": "YDGvb-0UwFGa"
      },
      "execution_count": null,
      "outputs": []
    },
    {
      "cell_type": "code",
      "source": [
        "%%bash\n",
        "source activate DB\n",
        "echo $CUDA_HOME\n",
        "cd DB/assets/ops/dcn/\n",
        "python setup.py build_ext --inplace"
      ],
      "metadata": {
        "id": "3ZaYiE34vjIN"
      },
      "execution_count": null,
      "outputs": []
    },
    {
      "cell_type": "code",
      "source": [
        "%%bash\n",
        "source activate DB\n",
        "pip3 install --upgrade protobuf==3.20.0"
      ],
      "metadata": {
        "id": "Ddy62S6esPfC"
      },
      "execution_count": null,
      "outputs": []
    },
    {
      "cell_type": "code",
      "source": [
        "%%bash\n",
        "source activate DB\n",
        "echo $CUDA_HOME\n",
        "cd DB\n",
        "CUDA_VISIBLE_DEVICES=0 python train.py experiments/seg_detector/td500_resnet18_deform_thre.yaml --num_gpus 1"
      ],
      "metadata": {
        "id": "PSxGBoA8DFYr"
      },
      "execution_count": null,
      "outputs": []
    }
  ]
}