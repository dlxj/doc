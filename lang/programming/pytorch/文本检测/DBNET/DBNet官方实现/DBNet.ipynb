{
  "nbformat": 4,
  "nbformat_minor": 0,
  "metadata": {
    "colab": {
      "name": "DBNet.ipynb",
      "private_outputs": true,
      "provenance": [],
      "collapsed_sections": []
    },
    "kernelspec": {
      "name": "python3",
      "display_name": "Python 3"
    },
    "language_info": {
      "name": "python"
    },
    "accelerator": "GPU"
  },
  "cells": [
    {
      "cell_type": "markdown",
      "source": [
        "- https://github.com/MhLiao/DB"
      ],
      "metadata": {
        "id": "e4rXbXY_7Mfc"
      }
    },
    {
      "cell_type": "markdown",
      "source": [
        "\n",
        "# Install coda\n",
        "\n",
        "- https://towardsdatascience.com/conda-google-colab-75f7c867a522\n",
        "- https://mmocr.readthedocs.io/zh_CN/latest/install.html\n"
      ],
      "metadata": {
        "id": "84xrUhoDjufj"
      }
    },
    {
      "cell_type": "code",
      "execution_count": null,
      "metadata": {
        "id": "866vSjMhjTPA"
      },
      "outputs": [],
      "source": [
        "!which python\n",
        "!python --version\n",
        "!echo $PYTHONPATH\n",
        "%env PYTHONPATH="
      ]
    },
    {
      "cell_type": "code",
      "source": [
        "%%bash\n",
        "MINICONDA_INSTALLER_SCRIPT=Miniconda3-4.5.4-Linux-x86_64.sh\n",
        "MINICONDA_PREFIX=/usr/local\n",
        "wget https://repo.continuum.io/miniconda/$MINICONDA_INSTALLER_SCRIPT\n",
        "chmod +x $MINICONDA_INSTALLER_SCRIPT\n",
        "./$MINICONDA_INSTALLER_SCRIPT -b -f -p $MINICONDA_PREFIX"
      ],
      "metadata": {
        "id": "SaBgcyTfkGjG"
      },
      "execution_count": null,
      "outputs": []
    },
    {
      "cell_type": "code",
      "source": [
        "!which conda\n",
        "!conda --version"
      ],
      "metadata": {
        "id": "mXzW7gK0ka_A"
      },
      "execution_count": null,
      "outputs": []
    },
    {
      "cell_type": "code",
      "source": [
        "%%bash\n",
        "conda install --channel defaults conda python=3.7 --yes\n",
        "conda update --channel defaults --all --yes"
      ],
      "metadata": {
        "id": "s8IshoAcksjq"
      },
      "execution_count": null,
      "outputs": []
    },
    {
      "cell_type": "code",
      "source": [
        "!conda --version\n",
        "!python --version\n",
        "import sys\n",
        "sys.path"
      ],
      "metadata": {
        "id": "GfYO_Ju7lsir"
      },
      "execution_count": null,
      "outputs": []
    },
    {
      "cell_type": "markdown",
      "source": [
        "# Install Pytorch"
      ],
      "metadata": {
        "id": "DXshNM6K8qH_"
      }
    },
    {
      "cell_type": "code",
      "source": [
        "!nvcc --version # check cuda version\n",
        "!which nvcc"
      ],
      "metadata": {
        "id": "KVwdo5J99ERy"
      },
      "execution_count": null,
      "outputs": []
    },
    {
      "cell_type": "code",
      "source": [
        "!conda create -n dbnet python=3.6 --yes\n",
        "!conda activate dbnet\n",
        "\n",
        "!conda install ipython pip --yes\n",
        "\n",
        "!git clone https://github.com/MhLiao/DB.git\n",
        "# python dependencies\n",
        "!cd DB && pip install -r requirement.txt\n",
        "\n",
        "# install PyTorch with cuda-10.1\n",
        "# Note that you can change the cudatoolkit version to the version you want.\n",
        "!conda install pytorch torchvision cudatoolkit=11.1 -c pytorch --yes"
      ],
      "metadata": {
        "id": "idoxFqaX84xY"
      },
      "execution_count": null,
      "outputs": []
    },
    {
      "cell_type": "markdown",
      "source": [
        "# Trainning"
      ],
      "metadata": {
        "id": "viH7xF9h8zKh"
      }
    },
    {
      "cell_type": "code",
      "source": [
        "# build deformable convolution opertor\n",
        "# make sure your cuda path of $CUDA_HOME is the same version as your cuda in PyTorch\n",
        "# make sure GCC >= 4.9\n",
        "# you need to delete the build directory before you re-build it.\n",
        "#!$CUDA_HOME=/usr/local/cuda && echo $CUDA_HOME\n",
        "#!cd DB && pip install -r requirement.txt\n",
        "#!cd DB/assets/ops/dcn/ && python setup.py build_ext --inplace\n",
        "\n",
        "!$CUDA_HOME=/usr/local/cuda && echo $CUDA_HOME\n",
        "!cd DB && pip install -r requirement.txt\n",
        "%cd /content/DB/assets/ops/dcn/\n",
        "!python setup.py build_ext --inplace\n"
      ],
      "metadata": {
        "id": "oAkc1eIO86eq"
      },
      "execution_count": null,
      "outputs": []
    }
  ]
}