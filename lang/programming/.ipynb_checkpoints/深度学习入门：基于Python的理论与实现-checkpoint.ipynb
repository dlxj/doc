{
 "cells": [
  {
   "cell_type": "markdown",
   "metadata": {},
   "source": [
    "\n",
    "[](https://blog.csdn.net/linxilinxilinxi/article/details/84026890)\n",
    "[](https://castel.dev/post/lecture-notes-1)\n",
    "[](https://castel.dev/post/lecture-notes-2/)\n",
    "[](https://bonxg.com/p/85.html)\n",
    "[](https://blog.csdn.net/qq_29695701/article/details/86304782)\n",
    "[](https://blog.csdn.net/wcs_152/article/details/81182669)\n",
    "\n",
    "\n",
    "**神经网络的出现是为了自动从数据中学习出感知机 A(perceptron)  的合适权重参数**\n",
    "\n",
    "\n",
    "\n",
    "**激活函数(activation function)**  \n",
    "\n",
    "- **将输入信号的总和转换为输出信号**\n",
    "\n",
    "\n",
    "\n",
    "**激活函数是连接感知机和神经网络的桥梁**\n",
    "\n",
    "- 一般而言，“朴素感知机”是指单层网络，指的是激活函数使用了阶跃函数的模型。“多层感知机”是指神经网络，即使用 sigmoid  函数(后述)等平滑的激活函数的多层网络。\n",
    "- 实际上，**如果将激活函数从阶跃函数换成其他函数，就可以进入神经网络的世界了**\n",
    "\n",
    "> 阶跃函数是指一旦输入超过阈值，就切换输出的函数。\n"
   ]
  },
  {
   "cell_type": "markdown",
   "metadata": {},
   "source": [
    "**sigmoid 函数**\n",
    "\n",
    "```\n",
    "$$\\frac{分子}{分母}$$\n",
    "\n",
    "```\n",
    "\n",
    "$$h(x)=\\frac{1}{1+e^{-1}}$$\n",
    "\n",
    "\n"
   ]
  },
  {
   "cell_type": "markdown",
   "metadata": {},
   "source": [
    "## LaTex 数学公式\n",
    "\n",
    "\n",
    "\n",
    "```\n",
    "$$\\int_a^b f(x) = F(b) - F(a)$$\n",
    "```\n",
    "$$\\int_a^b f(x) = F(b) - F(a)$$\n",
    "---\n",
    "\n",
    "\n",
    "```\n",
    "$$f'(a) = \\lim_{x \\to a} \\frac{f(x) - f(a)}{x-a}$$\n",
    "```\n",
    "$$f'(a) = \\lim_{x \\to a} \\frac{f(x) - f(a)}{x-a}$$\n",
    "---\n",
    "\n"
   ]
  },
  {
   "cell_type": "code",
   "execution_count": null,
   "metadata": {},
   "outputs": [],
   "source": []
  },
  {
   "cell_type": "code",
   "execution_count": null,
   "metadata": {},
   "outputs": [],
   "source": []
  },
  {
   "cell_type": "code",
   "execution_count": null,
   "metadata": {},
   "outputs": [],
   "source": []
  }
 ],
 "metadata": {
  "kernelspec": {
   "display_name": "Haskell",
   "language": "haskell",
   "name": "haskell"
  },
  "language_info": {
   "codemirror_mode": "ihaskell",
   "file_extension": ".hs",
   "name": "haskell",
   "pygments_lexer": "Haskell",
   "version": "8.6.5"
  }
 },
 "nbformat": 4,
 "nbformat_minor": 4
}
