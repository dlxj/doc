{
 "cells": [
  {
   "cell_type": "markdown",
   "metadata": {
    "toc": true
   },
   "source": [
    "<h1>Table of Contents<span class=\"tocSkip\"></span></h1>\n",
    "<div class=\"toc\"><ul class=\"toc-item\"><li><span><a href=\"#-Joint-Distribution-and-Independence\" data-toc-modified-id=\"-Joint-Distribution-and-Independence-1\"><span class=\"toc-item-num\">1&nbsp;&nbsp;</span><font face=\"gotham\" color=\"purple\"> Joint Distribution and Independence</font></a></span><ul class=\"toc-item\"><li><span><a href=\"#An-Example\" data-toc-modified-id=\"An-Example-1.1\"><span class=\"toc-item-num\">1.1&nbsp;&nbsp;</span><font face=\"gotham\" color=\"purple\">An Example</font></a></span></li><li><span><a href=\"#-Independence\" data-toc-modified-id=\"-Independence-1.2\"><span class=\"toc-item-num\">1.2&nbsp;&nbsp;</span><font face=\"gotham\" color=\"purple\"> Independence</font></a></span></li><li><span><a href=\"#-Moment-Generating-Functions\" data-toc-modified-id=\"-Moment-Generating-Functions-1.3\"><span class=\"toc-item-num\">1.3&nbsp;&nbsp;</span><font face=\"gotham\" color=\"purple\"> Moment Generating Functions</font></a></span><ul class=\"toc-item\"><li><span><a href=\"#-How-It-Works?\" data-toc-modified-id=\"-How-It-Works?-1.3.1\"><span class=\"toc-item-num\">1.3.1&nbsp;&nbsp;</span><font face=\"gotham\" color=\"purple\"> How It Works?</font></a></span></li><li><span><a href=\"#-Example-1---Moments-of-Bernoulli\" data-toc-modified-id=\"-Example-1---Moments-of-Bernoulli-1.3.2\"><span class=\"toc-item-num\">1.3.2&nbsp;&nbsp;</span><font face=\"gotham\" color=\"purple\"> Example 1 - Moments of Bernoulli</font></a></span></li><li><span><a href=\"#-Example-2---Moments-of-Binomial-\" data-toc-modified-id=\"-Example-2---Moments-of-Binomial--1.3.3\"><span class=\"toc-item-num\">1.3.3&nbsp;&nbsp;</span><font face=\"gotham\" color=\"purple\"> Example 2 - Moments of Binomial </font></a></span></li></ul></li></ul></li></ul></div>"
   ]
  },
  {
   "cell_type": "markdown",
   "metadata": {},
   "source": [
    "Here we go through the methods for distributions which have more than two variables. Most of results are similar to us already. "
   ]
  },
  {
   "cell_type": "markdown",
   "metadata": {},
   "source": [
    "# <font face=\"gotham\" color=\"purple\"> Joint Distribution and Independence</font>"
   ]
  },
  {
   "cell_type": "markdown",
   "metadata": {},
   "source": [
    "Let $X_1, X_2,...X_n$ be discrete random variables, the PMF is defined as\n",
    "\n",
    "$$\n",
    "P_{X_{1}, X_{2}, \\ldots, X_{n}}\\left(x_{1}, x_{2}, \\ldots, x_{n}\\right)=P\\left(X_{1}=x_{1}, X_{2}=x_{2}, \\ldots, X_{n}=x_{n}\\right)\n",
    "$$"
   ]
  },
  {
   "cell_type": "markdown",
   "metadata": {},
   "source": [
    "The marginal PMF of $x_1$ is\n",
    "\n",
    "$$\n",
    "P_{X_1}=P(X=x_1)\n",
    "= \\sum_{x_2\\in R}\\sum_{x_3\\in R}...\\sum_{x_n\\in R}P\\left(X_{1}=x_{1}, X_{2}=x_{2}, \\ldots, X_{n}=x_{n}\\right)\n",
    "$$"
   ]
  },
  {
   "cell_type": "markdown",
   "metadata": {},
   "source": [
    "If $X_1, X_2,...X_n$ are continuous random variables, the PDF is defined as\n",
    "\n",
    "$$\n",
    "P\\left(\\left(X_{1}, X_{2}, \\cdots, X_{n}\\right) \\in A\\right)=\\int_A \\int_{A} \\cdots \\int_A f_{X_{1} X_{2} \\cdots X_{n}}\\left(x_{1}, x_{2}, \\cdots, x_{n}\\right) d x_{1} d x_{2} \\cdots d x_{n}\n",
    "$$"
   ]
  },
  {
   "cell_type": "markdown",
   "metadata": {},
   "source": [
    "The marginal PDF of $x_1$ is\n",
    "\n",
    "$$\n",
    "f_{X_{1}}\\left(x_{1}\\right)=\\int_{-\\infty}^{\\infty} \\cdots \\int_{-\\infty}^{\\infty} f_{X_{1} X_{2} \\cdots X_{n}}\\left(x_{1}, x_{2}, \\ldots, x_{n}\\right) d x_{2} \\cdots d x_{n}\n",
    "$$"
   ]
  },
  {
   "cell_type": "markdown",
   "metadata": {},
   "source": [
    "The joint CDF is \n",
    "\n",
    "$$\n",
    "F_{X_{1}, X_{2}, \\ldots, X_{n}}\\left(x_{1}, x_{2}, \\ldots, x_{n}\\right)=P\\left(X_{1} \\leq x_{1}, X_{2} \\leq x_{2}, \\ldots, X_{n} \\leq x_{n}\\right)\n",
    "$$"
   ]
  },
  {
   "cell_type": "markdown",
   "metadata": {},
   "source": [
    "## <font face=\"gotham\" color=\"purple\">An Example</font>"
   ]
  },
  {
   "cell_type": "markdown",
   "metadata": {},
   "source": [
    "Let $X, Y$ and $Z$ be three jointly continuous random variables with joint PDF\n",
    "\n",
    "$$\n",
    "f_{X Y Z}(x, y, z)=\\left\\{\\begin{array}{ll}\n",
    "cx+2 y+3 z & 0 \\leq x, y, z \\leq 1 \\\\\n",
    "0 & \\text { otherwise }\n",
    "\\end{array}\\right.\n",
    "$$"
   ]
  },
  {
   "cell_type": "markdown",
   "metadata": {},
   "source": [
    "1. Find out $c$.\n",
    "\n",
    "Use the property we get \n",
    "\n",
    "\\begin{align}\n",
    "\\int_0^1\\int_0^1\\int_0^1(cx+2y+3z)dxdydz &= 1\\\\\n",
    "\\int_0^1\\int_0^1\\left[\\frac{1}{2}cx^2+2xy+3xz\\right]_0^1dydz&=1\\\\\n",
    "\\int_0^1\\int_0^1\\left(\\frac{1}{2}+2y+3z\\right)dydz&=1\\\\\n",
    "\\int_0^1\\left[\\frac{cy}{2}+y^2+3zy\\right]^1_0dz&=1\\\\\n",
    "\\left[\\frac{cz}{2}+z+\\frac{3z^2}{2}\\right]^1_0&=1\\\\\n",
    "c&=-3\n",
    "\\end{align}"
   ]
  },
  {
   "cell_type": "markdown",
   "metadata": {},
   "source": [
    "2. Find the marginal PDF of $X$."
   ]
  },
  {
   "cell_type": "markdown",
   "metadata": {},
   "source": [
    "\\begin{align}\n",
    "f_X(x)=\\int_{-\\infty}^\\infty\\int_{-\\infty}^\\infty f_{XYZ}(x,y,z)dydz & = \\int_{0}^1\\int_{0}^1 (-3x+2 y+3 z )dydz \\\\\n",
    "& = \\int_0^1 \\left[-3xy+y^2+3yz\\right]_0^1dz =\\int_0^1(-3x+1+3z)dz\\\\\n",
    "& = \\left[-3xz+z+3\\frac{z^2}{2}\\right]^1_0 = -3x+\\frac{5}{2}\n",
    "\\end{align}"
   ]
  },
  {
   "cell_type": "markdown",
   "metadata": {},
   "source": [
    "## <font face=\"gotham\" color=\"purple\"> Independence</font>"
   ]
  },
  {
   "cell_type": "markdown",
   "metadata": {},
   "source": [
    "If $X_1, X_2,...X_n$ are independent discrete random variables \n",
    "\n",
    "$$\n",
    "P_{X_{1}, X_{2}, \\ldots, X_{n}}\\left(x_{1}, x_{2}, \\ldots, x_{n}\\right)=P_{X_{1}}\\left(x_{1}\\right) P_{X_{2}}\\left(x_{2}\\right) \\cdots P_{X_{n}}\\left(x_{n}\\right)\n",
    "$$"
   ]
  },
  {
   "cell_type": "markdown",
   "metadata": {},
   "source": [
    "And if $X_1, X_2,...X_n$ are independent continuous random variables \n",
    "$$\n",
    "f_{X_{1}, X_{2}, \\ldots, X_{n}}\\left(x_{1}, x_{2}, \\ldots, x_{n}\\right)=f_{X_{1}}\\left(x_{1}\\right) f_{X_{2}}\\left(x_{2}\\right) \\cdots f_{X_{n}}\\left(x_{n}\\right)\n",
    "$$"
   ]
  },
  {
   "cell_type": "markdown",
   "metadata": {},
   "source": [
    "Their CDF and expections are \n",
    "\n",
    "$$\n",
    "F_{X_{1}, X_{2}, \\ldots, X_{n}}\\left(x_{1}, x_{2}, \\ldots, x_{n}\\right)=F_{X_{1}}\\left(x_{1}\\right) F_{X_{2}}\\left(x_{2}\\right) \\cdots F_{X_{n}}\\left(x_{n}\\right)\n",
    "$$\n",
    "\n",
    "$$\n",
    "E\\left[X_{1} X_{2} \\cdots X_{n}\\right]=E\\left[X_{1}\\right] E\\left[X_{2}\\right] \\cdots E\\left[X_{n}\\right]\n",
    "$$"
   ]
  },
  {
   "cell_type": "markdown",
   "metadata": {},
   "source": [
    "One common setting for error term of regression model is <font face=\"gotham\" color=\"red\">independent identically distributed</font>. \n",
    "\n",
    "\\begin{aligned}\n",
    "E\\left[X_{1} X_{2} \\cdots X_{n}\\right] &=E\\left[X_{1}\\right] E\\left[X_{2}\\right] \\cdots E\\left[X_{n}\\right] \\\\\n",
    "&=E\\left[X_{1}\\right] E\\left[X_{1}\\right] \\cdots E\\left[X_{1}\\right] \\\\\n",
    "&=E\\left[X_{1}\\right]^{n}=E\\left[X_{2}\\right]^{n}=\\cdots = E\\left[X_{n}\\right]^{n}\n",
    "\\end{aligned}\n"
   ]
  },
  {
   "cell_type": "markdown",
   "metadata": {},
   "source": [
    "## <font face=\"gotham\" color=\"purple\"> Moment Generating Functions</font>"
   ]
  },
  {
   "cell_type": "markdown",
   "metadata": {},
   "source": [
    "Without formal definition, we call $E[X], E[X^2], E[X^k]$ the first moment, the second moment and the $k$th moment. \n",
    "\n",
    "Another important concept is central moment, for instance $E[(X - E[X])^k]$ is called the $k$th moment."
   ]
  },
  {
   "cell_type": "markdown",
   "metadata": {},
   "source": [
    "The moment generating function (MGF) is a convenient way of generating all moments that we need. \n",
    "\n",
    "If $X$ is discrete random variable, the MGF is\n",
    "\n",
    "$$\n",
    "M_X(t) = E[e^{tX}] = \\sum_0^\\infty e^{tk}P_X(k)\n",
    "$$\n",
    "\n",
    "For continuous random variable $X$, the MGF is \n",
    "\n",
    "$$\n",
    "M_X(t) = E[e^{tX}]  = \\int_{-\\infty}^\\infty e^{tX} f_X(x) dx\n",
    "$$"
   ]
  },
  {
   "cell_type": "markdown",
   "metadata": {},
   "source": [
    "We obtain moments by taking derivatives of MGFs\n",
    "\n",
    "$$\n",
    "E(X^n) = \\frac{d^nM_x(t)}{dt^n}\\bigg|_{t=0}\n",
    "$$"
   ]
  },
  {
   "cell_type": "markdown",
   "metadata": {},
   "source": [
    "### <font face=\"gotham\" color=\"purple\"> How It Works?</font>"
   ]
  },
  {
   "cell_type": "markdown",
   "metadata": {},
   "source": [
    "Perform Taylor expansion on $e^x$ \n",
    "\n",
    "$$\n",
    " e^{x}=1+x+\\frac{x^{2}}{2 !}+\\frac{x^{3}}{3 !}+\\ldots=\\sum_{k=0}^{\\infty} \\frac{x^{k}}{k !}\n",
    "$$"
   ]
  },
  {
   "cell_type": "markdown",
   "metadata": {},
   "source": [
    "Suppose $X$ is a discrete random variable, therefore $e^{tX}$ is\n",
    "\n",
    "$$\n",
    "e^{tX} = 1+tX+\\frac{(tX)^{2}}{2 !}+\\frac{(tX)^{3}}{3 !}+\\ldots=\\sum_{k=0}^{\\infty} \\frac{(tX)^{k}}{k !}\n",
    "$$"
   ]
  },
  {
   "cell_type": "markdown",
   "metadata": {},
   "source": [
    "Take expectation, we obtain MGF\n",
    "\n",
    "$$\n",
    "E[e^{tX}] =1+tE[X]+\\frac{t^2E[X^{2}]}{2 !}+\\frac{t^3E[X^{3}]}{3 !}+\\ldots= \\sum_{k=0}^{\\infty} \\frac{t^kE[X^{k}]}{k !}\n",
    "$$"
   ]
  },
  {
   "cell_type": "markdown",
   "metadata": {},
   "source": [
    "Take the first order derivative and evaluate at $t=0$\n",
    "\n",
    "$$\n",
    "\\frac{d E[e^{tX}]}{dt}= 0 + E[X] + tE[X^2] + \\frac{t^2E[X^3]}{2!}+\\cdots = 0+ E[X]+ 0 + 0 +\\cdots = E[X]\n",
    "$$"
   ]
  },
  {
   "cell_type": "markdown",
   "metadata": {},
   "source": [
    "Take the second order derivative and evaluate at $t=0$\n",
    "\n",
    "$$\n",
    "\\frac{d^2 E[e^{tX}]}{dt^2} = 0 + 0 + E[X^2]+ tE[X^3]+ \\frac{t^2E[X^4]}{2!}+\\cdots=E[X^2]\n",
    "$$"
   ]
  },
  {
   "cell_type": "markdown",
   "metadata": {},
   "source": [
    "Take the third order derivative and evaluate at $t=0$\n",
    "\n",
    "$$\n",
    "\\frac{d^3 E[e^{tX}]}{dt^3} = 0+0+0+E[X^3]+tE[X^4] = E[X^3]\n",
    "$$"
   ]
  },
  {
   "cell_type": "markdown",
   "metadata": {},
   "source": [
    "### <font face=\"gotham\" color=\"purple\"> Example 1 - Moments of Bernoulli</font>"
   ]
  },
  {
   "cell_type": "markdown",
   "metadata": {},
   "source": [
    "Let's calculate the MGF of $X\\sim Ber(p)$, we know $P_X(1) = p, P_X(0)= 1-p$."
   ]
  },
  {
   "cell_type": "markdown",
   "metadata": {},
   "source": [
    "$$\n",
    " E[e^{tX}] = e^{0t}P_X(0)+e^{1t}P_X(1) = 1-p+pe^t\n",
    "$$"
   ]
  },
  {
   "cell_type": "markdown",
   "metadata": {},
   "source": [
    "If we want to calculate the variance with formula $E(X^2)-(E[X])^2$, we need to generate the first and second moment.\n",
    "\n",
    "$$\n",
    "E[X]=\\frac{d E[e^{tX}]}{dt} \\bigg|_{t=0}= p\\\\\n",
    "E[X^2]=\\frac{d^2 E[e^{tX}]}{dt^2} \\bigg|_{t=0}= p\n",
    "$$"
   ]
  },
  {
   "cell_type": "markdown",
   "metadata": {},
   "source": [
    "So the variance is $E(X^2)-(E[X])^2 = p - p^2$."
   ]
  },
  {
   "cell_type": "markdown",
   "metadata": {},
   "source": [
    "### <font face=\"gotham\" color=\"purple\"> Example 2 - Moments of Binomial </font>"
   ]
  },
  {
   "cell_type": "markdown",
   "metadata": {},
   "source": [
    "If $X_1, X_2, \\ldots ,X_n \\stackrel{i.i.d.}{\\sim} Ber(p)$, \n",
    "\n",
    "$$\n",
    "\\sum^n_{i=1}X_i\\ \\sim\\ B(n,p)\n",
    "$$\n",
    "\n",
    "where $B(n,p)$ denotes binomial distribution."
   ]
  },
  {
   "cell_type": "markdown",
   "metadata": {},
   "source": [
    "The goal is to find the first moment $E(\\sum^n_{i=1}X_i)$ and the second central moment $\\text{Var}(\\sum^n_{i=1}X_i)$."
   ]
  },
  {
   "cell_type": "markdown",
   "metadata": {},
   "source": [
    "Using MGF definition\n",
    "\n",
    "\\begin{align}\n",
    "E[e^{t\\sum^n_{i=1}X_i}] &= E[e^{tX_1}e^{tX_2}\\ldots e^{tX_n}]\n",
    "= E[e^{tX_1}] E[e^{tX_2}]\\ldots E[e^{tX_n}]  \\tag{$X_i$'s are i.i.d.}\\\\\n",
    "& = (1-p+pe^t)(1-p+pe^t)\\ldots (1-p+pe^t)\\\\\n",
    "& = (1-p+pe^t)^n\n",
    "\\end{align}"
   ]
  },
  {
   "cell_type": "markdown",
   "metadata": {},
   "source": [
    "The first moment is \n",
    "\n",
    "$$\n",
    "E\\bigg(\\sum^n_{i=1}X_i\\bigg) = \\frac{d}{dt}(1-p+pe^t)^n\\bigg|_{t=0}=n(1-p+pe^t)^{n-1}pe^t\\Big|_{t=0}=np\n",
    "$$"
   ]
  },
  {
   "cell_type": "markdown",
   "metadata": {},
   "source": [
    "The second moment requires product rule of differentiation\n",
    "\n",
    "\\begin{align}\n",
    "E\\bigg[\\bigg(\\sum^n_{i=1}X_i\\bigg)^2 \\bigg]=\\frac{d}{dt}n(1-p+pe^t)^{n-1}pe^t  \n",
    "&= n(n-1)(1-p+pe^t)^{n-2}pe^tpe^t+n(1-p+pe^t)^{n-1}pe^t\\Big|_{t=0}\\\\\n",
    "&=n(n-1)p^2+np=n^2p^2-np^2+np\n",
    "\\end{align}"
   ]
  },
  {
   "cell_type": "markdown",
   "metadata": {},
   "source": [
    "Thereby \n",
    "\n",
    "$$\n",
    "\\text{Var}\\left(\\sum^n_{i=1}X_i\\right)= n^2p^2-np^2+np - n^2p^2 = np - np^2\n",
    "$$"
   ]
  }
 ],
 "metadata": {
  "kernelspec": {
   "display_name": "Python 3",
   "language": "python",
   "name": "python3"
  },
  "language_info": {
   "codemirror_mode": {
    "name": "ipython",
    "version": 3
   },
   "file_extension": ".py",
   "mimetype": "text/x-python",
   "name": "python",
   "nbconvert_exporter": "python",
   "pygments_lexer": "ipython3",
   "version": "3.7.4"
  },
  "toc": {
   "base_numbering": 1,
   "nav_menu": {},
   "number_sections": true,
   "sideBar": true,
   "skip_h1_title": false,
   "title_cell": "Table of Contents",
   "title_sidebar": "Contents",
   "toc_cell": true,
   "toc_position": {},
   "toc_section_display": true,
   "toc_window_display": false
  }
 },
 "nbformat": 4,
 "nbformat_minor": 2
}
