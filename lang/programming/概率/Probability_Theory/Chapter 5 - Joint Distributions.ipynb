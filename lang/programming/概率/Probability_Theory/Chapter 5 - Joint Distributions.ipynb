{
 "cells": [
  {
   "cell_type": "markdown",
   "metadata": {
    "toc": true
   },
   "source": [
    "<h1>Table of Contents<span class=\"tocSkip\"></span></h1>\n",
    "<div class=\"toc\"><ul class=\"toc-item\"><li><span><a href=\"#-Discrete-Distributions\" data-toc-modified-id=\"-Discrete-Distributions-1\"><span class=\"toc-item-num\">1&nbsp;&nbsp;</span><font face=\"gotham\" color=\"purple\"> Discrete Distributions</font></a></span><ul class=\"toc-item\"><li><span><a href=\"#-Joint-PMF\" data-toc-modified-id=\"-Joint-PMF-1.1\"><span class=\"toc-item-num\">1.1&nbsp;&nbsp;</span><font face=\"gotham\" color=\"purple\"> Joint PMF</font></a></span></li><li><span><a href=\"#-Marginal-PMF\" data-toc-modified-id=\"-Marginal-PMF-1.2\"><span class=\"toc-item-num\">1.2&nbsp;&nbsp;</span><font face=\"gotham\" color=\"purple\"> Marginal PMF</font></a></span></li><li><span><a href=\"#-Joint-and-Marginal-CDF-\" data-toc-modified-id=\"-Joint-and-Marginal-CDF--1.3\"><span class=\"toc-item-num\">1.3&nbsp;&nbsp;</span><font face=\"gotham\" color=\"purple\"> Joint and Marginal CDF </font></a></span></li><li><span><a href=\"#-Conditional-PMF-and-CDF\" data-toc-modified-id=\"-Conditional-PMF-and-CDF-1.4\"><span class=\"toc-item-num\">1.4&nbsp;&nbsp;</span><font face=\"gotham\" color=\"purple\"> Conditional PMF and CDF</font></a></span></li><li><span><a href=\"#-Conditional-Expectation\" data-toc-modified-id=\"-Conditional-Expectation-1.5\"><span class=\"toc-item-num\">1.5&nbsp;&nbsp;</span><font face=\"gotham\" color=\"purple\"> Conditional Expectation</font></a></span><ul class=\"toc-item\"><li><span><a href=\"#-Conditional-Expectation-as-A-Function\" data-toc-modified-id=\"-Conditional-Expectation-as-A-Function-1.5.1\"><span class=\"toc-item-num\">1.5.1&nbsp;&nbsp;</span><font face=\"gotham\" color=\"purple\"> Conditional Expectation as A Function</font></a></span></li><li><span><a href=\"#-Expectation-for-Independent-Variables\" data-toc-modified-id=\"-Expectation-for-Independent-Variables-1.5.2\"><span class=\"toc-item-num\">1.5.2&nbsp;&nbsp;</span><font face=\"gotham\" color=\"purple\"> Expectation for Independent Variables</font></a></span></li></ul></li></ul></li><li><span><a href=\"#-Continuous-Distributions\" data-toc-modified-id=\"-Continuous-Distributions-2\"><span class=\"toc-item-num\">2&nbsp;&nbsp;</span><font face=\"gotham\" color=\"purple\"> Continuous Distributions</font></a></span><ul class=\"toc-item\"><li><span><a href=\"#-Joint-PDF\" data-toc-modified-id=\"-Joint-PDF-2.1\"><span class=\"toc-item-num\">2.1&nbsp;&nbsp;</span><font face=\"gotham\" color=\"purple\"> Joint PDF</font></a></span><ul class=\"toc-item\"><li><span><a href=\"#-An-Example-of-Joint-PDF-\" data-toc-modified-id=\"-An-Example-of-Joint-PDF--2.1.1\"><span class=\"toc-item-num\">2.1.1&nbsp;&nbsp;</span><font face=\"gotham\" color=\"purple\"> An Example of Joint PDF </font></a></span></li></ul></li><li><span><a href=\"#-Marginal-PDF-\" data-toc-modified-id=\"-Marginal-PDF--2.2\"><span class=\"toc-item-num\">2.2&nbsp;&nbsp;</span><font face=\"gotham\" color=\"purple\"> Marginal PDF </font></a></span></li><li><span><a href=\"#-Joint-CDF-\" data-toc-modified-id=\"-Joint-CDF--2.3\"><span class=\"toc-item-num\">2.3&nbsp;&nbsp;</span><font face=\"gotham\" color=\"purple\"> Joint CDF </font></a></span></li><li><span><a href=\"#-Conditional-PDF-and-CDF-\" data-toc-modified-id=\"-Conditional-PDF-and-CDF--2.4\"><span class=\"toc-item-num\">2.4&nbsp;&nbsp;</span><font face=\"gotham\" color=\"purple\"> Conditional PDF and CDF </font></a></span></li><li><span><a href=\"#-Independence\" data-toc-modified-id=\"-Independence-2.5\"><span class=\"toc-item-num\">2.5&nbsp;&nbsp;</span><font face=\"gotham\" color=\"purple\"> Independence</font></a></span></li></ul></li></ul></div>"
   ]
  },
  {
   "cell_type": "code",
   "execution_count": 2,
   "metadata": {},
   "outputs": [],
   "source": [
    "import matplotlib.pyplot as plt\n",
    "import mpl_toolkits.mplot3d.art3d as art3d\n",
    "import numpy as np"
   ]
  },
  {
   "cell_type": "markdown",
   "metadata": {},
   "source": [
    "In this chapter, we will only be dealing with joint distributions, which are the most important section of the whole course. Joint distributions are used for formulating all kinds of probability model."
   ]
  },
  {
   "cell_type": "markdown",
   "metadata": {},
   "source": [
    "# <font face=\"gotham\" color=\"purple\"> Discrete Distributions</font>"
   ]
  },
  {
   "cell_type": "markdown",
   "metadata": {},
   "source": [
    "## <font face=\"gotham\" color=\"purple\"> Joint PMF</font>"
   ]
  },
  {
   "cell_type": "markdown",
   "metadata": {},
   "source": [
    "The joint probability mass function of two discrete random variable is defined as\n",
    "\n",
    "$$\n",
    "P_{XY}(x, y) = P(X = x, Y=y)\n",
    "$$"
   ]
  },
  {
   "cell_type": "markdown",
   "metadata": {},
   "source": [
    "It is convenient to define a finite range for $X$ and $Y$, $R_X = \\{x_1, x_2, ...\\}$ and $R_Y = \\{y_1, y_2, ...\\}$ and its <font face=\"gotham\" color=\"red\">cartesian product</font>\n",
    "\n",
    "$$\n",
    "R_{XY}\\subset R_X \\times R_Y = \\{(x_i, y_j)|x_i\\in R_X, y_j \\in R_Y\\}\n",
    "$$\n",
    "\n",
    " is the range for joint distribution."
   ]
  },
  {
   "cell_type": "markdown",
   "metadata": {},
   "source": [
    "The most common property for probability distribution is\n",
    "\n",
    "$$\n",
    "\\sum_{(x_i,y_j)\\in R_{XY}}P_{XY}(x_i,y_j)=1\n",
    "$$"
   ]
  },
  {
   "cell_type": "markdown",
   "metadata": {},
   "source": [
    "## <font face=\"gotham\" color=\"purple\"> Marginal PMF</font>"
   ]
  },
  {
   "cell_type": "markdown",
   "metadata": {},
   "source": [
    "Let's consider a probability mass function table."
   ]
  },
  {
   "cell_type": "markdown",
   "metadata": {},
   "source": [
    "\\begin{array}{|c|c|}\n",
    "\\hline & Y = 0 & Y = 1 & Y= 2 \\\\ \\hline\n",
    "  X = 0 & 1/6  & 1/4 & 1/8  \\\\ \\hline\n",
    "  X = 1 & 1/8  & 1/6 & 1/6  \\\\ \\hline\n",
    "\\end{array}"
   ]
  },
  {
   "cell_type": "markdown",
   "metadata": {},
   "source": [
    "1. Find $P(X=0, Y = 1)$. It is easy, just eyeball the table.\n",
    "$$P(X=0, Y = 1) = 1/4$$\n",
    "\n",
    "2. Find $P(X=0| Y = 1)$ and $P(Y = 1| X =0)$\n",
    "$$\n",
    "P(X=0| Y = 1) = \\frac{1/4}{1/4+1/6}=3/5\\\\\n",
    "P(Y = 1| X =0) = \\frac{1/4}{1/6+1/4+1/8}= 6/13\n",
    "$$"
   ]
  },
  {
   "cell_type": "markdown",
   "metadata": {},
   "source": [
    "3. Find marginal PMFs of $X$ and $Y$"
   ]
  },
  {
   "cell_type": "code",
   "execution_count": 36,
   "metadata": {},
   "outputs": [
    {
     "name": "stdout",
     "output_type": "stream",
     "text": [
      "Marginal PMF of pY are 7/24, 5/12, 7/24.\n",
      "Marginal PMF of pX are 13/24, 11/24.\n"
     ]
    }
   ],
   "source": [
    "from fractions import Fraction as frac\n",
    "pY_0 = frac(1,6) + frac(1,8)\n",
    "pY_1 = frac(1,4) + frac(1,6)\n",
    "pY_2 = frac(1,8) + frac(1,6)\n",
    "\n",
    "pX_0 = frac(1,6) + frac(1,4) + frac(1,8)\n",
    "pX_1 = frac(1,8) + frac(1,6) + frac(1,6)\n",
    "\n",
    "print('Marginal PMF of pY are {0}, {1}, {2}.'.format(pY_0,pY_1,pY_2))\n",
    "print('Marginal PMF of pX are {0}, {1}.'.format(pX_0,pX_1))"
   ]
  },
  {
   "cell_type": "markdown",
   "metadata": {},
   "source": [
    "The reason we call them marginal is because they are written at the margin of the table.\n",
    "\n",
    "\\begin{array}{|c|c|}\n",
    "\\hline  & Y = 0 & Y = 1 & Y= 2 & P_X(x)\\\\ \\hline\n",
    "  X = 0 & 1/6  & 1/4 & 1/8 & 13/24 \\\\ \\hline\n",
    "  X = 1 & 1/8  & 1/6 & 1/6 & 11/24\\\\ \\hline\n",
    " P_Y(y) & 7/24  & 5/12 & 7/24  &  \\\\ \\hline\n",
    "\\end{array}"
   ]
  },
  {
   "cell_type": "markdown",
   "metadata": {},
   "source": [
    "4. Are $X$ and $Y$ independent?"
   ]
  },
  {
   "cell_type": "markdown",
   "metadata": {},
   "source": [
    "If independent, a conditional probability should equal to marginal probability, for instance\n",
    "\n",
    "$$\n",
    "P(X=0| Y = 1)= \\frac{1/4}{1/4+1/6} =3/5\\\\\n",
    "P_X(X=0)=13/24\n",
    "$$\n",
    "\n",
    "They are not equal, which means they are not independent."
   ]
  },
  {
   "cell_type": "markdown",
   "metadata": {},
   "source": [
    "The relationship of marginal PMF and conditional PMF is \n",
    "\n",
    "$$\n",
    "P(X|Y) = \\frac{P(X,Y)}{P_Y(Y)}\n",
    "$$\n",
    "\n",
    "i.e. \n",
    "\n",
    "$$\n",
    "\\text{Conditional PMF} = \\frac{\\text{Joint PMF}}{\\text{Marginal PMF}}\n",
    "$$"
   ]
  },
  {
   "cell_type": "markdown",
   "metadata": {},
   "source": [
    "## <font face=\"gotham\" color=\"purple\"> Joint and Marginal CDF </font>"
   ]
  },
  {
   "cell_type": "markdown",
   "metadata": {},
   "source": [
    "The joint CDF of two random variables $X$ and $Y$ is defined as \n",
    "\n",
    "$$\n",
    "F_{XY}(x,y)=P(X\\leq x, Y\\leq y)\n",
    "$$\n",
    "\n",
    "where $0\\leq F_{XY}(x,y) \\leq 1$."
   ]
  },
  {
   "cell_type": "markdown",
   "metadata": {},
   "source": [
    "For instance, the joint CDF of $P(X\\leq 2, Y\\leq 1)$ in range $(-6,\\ 6)$ is the probability of the shaded area."
   ]
  },
  {
   "cell_type": "code",
   "execution_count": 92,
   "metadata": {},
   "outputs": [
    {
     "data": {
      "image/png": "[encoded data removed]",
      "text/plain": [
       "<Figure size 576x576 with 1 Axes>"
      ]
     },
     "metadata": {
      "needs_background": "light"
     },
     "output_type": "display_data"
    }
   ],
   "source": [
    "x = np.linspace(-6, 1)\n",
    "y = 2*np.ones(len(x))\n",
    "fig, ax = plt.subplots(figsize = (8, 8))\n",
    "\n",
    "ax.plot([1, -5], [2, 2], color = 'b')\n",
    "ax.scatter(1, 2, s = 80, zorder = 3, color = 'red')\n",
    "ax.plot([1, 1], [2, -5], color = 'b')\n",
    "ax.axis([-5, 6, -5, 6])\n",
    "ax.scatter(np.random.uniform(low = -5, high = 6, size = 50),\n",
    "           np.random.uniform(low = -5, high = 6, size = 50))\n",
    "ax.fill_between(x, y, -5, color = 'red', alpha =.2)\n",
    "ax.text(1, 2.1, '$(1, 2)$', size = 15)\n",
    "ax.grid()"
   ]
  },
  {
   "cell_type": "markdown",
   "metadata": {},
   "source": [
    "Marginal CDF $F_X(x)$ and $F_Y(y)$ are denoted\n",
    "\n",
    "$$\n",
    "F_X(x) = P(X\\leq x, Y\\leq \\infty)\\\\\n",
    "F_Y(y) = P(X\\leq \\infty, Y\\leq y)\n",
    "$$"
   ]
  },
  {
   "cell_type": "markdown",
   "metadata": {},
   "source": [
    "## <font face=\"gotham\" color=\"purple\"> Conditional PMF and CDF</font>"
   ]
  },
  {
   "cell_type": "markdown",
   "metadata": {},
   "source": [
    "If $A$ is a random event, the conditional PMF of $X$ given $A$ is denoted as\n",
    "\n",
    "$$\n",
    "P_{X|A}(X = x_i) = \\frac{P(X=x_i,A)}{P(A)}\n",
    "$$"
   ]
  },
  {
   "cell_type": "markdown",
   "metadata": {},
   "source": [
    "Consider a PMF as below\n",
    "\n",
    "\\begin{array}{|c|c|}\n",
    "\\hline & X = -2 & X = -1 & X = 0 & X = 1 & X = 2 \\\\ \\hline\n",
    "  Y = 2 & 0  & 0 & 1/13 & 0 & 0  \\\\ \\hline\n",
    "  Y = 1 & 0  & 1/13 & 1/13 & 1/13 & 0  \\\\ \\hline\n",
    "  Y = 0 & 1/13  & 1/13 & 1/13 & 1/13 & 1/13  \\\\ \\hline\n",
    "  Y = -1 & 0  & 1/13 & 1/13 & 1/13 & 0  \\\\ \\hline\n",
    "  Y = -2 & 0  & 0 & 1/13 & 0 & 0  \\\\ \\hline\n",
    "\\end{array}"
   ]
  },
  {
   "cell_type": "markdown",
   "metadata": {},
   "source": [
    "Mathematically, it is defined as $G=\\{(x, y)|x, y \\in \\mathbb{Z},| x|+| y | \\leq 2\\}$."
   ]
  },
  {
   "cell_type": "markdown",
   "metadata": {},
   "source": [
    "1. Find the marginal PMFs of $X$ and $Y$."
   ]
  },
  {
   "cell_type": "code",
   "execution_count": 94,
   "metadata": {},
   "outputs": [
    {
     "name": "stdout",
     "output_type": "stream",
     "text": [
      "Marginal PMF of pY are 1/13, 3/13, 5/13, 3/13, 1/13.\n",
      "Marginal PMF of pX are 1/13, 3/13, 5/13, 3/13, 1/13.\n"
     ]
    }
   ],
   "source": [
    "pY_2 = frac(1,13)\n",
    "pY_1 = frac(1,13)*3\n",
    "pY_0 = frac(1,13)*5\n",
    "pY_m1 = frac(1,13)*3\n",
    "pY_m2 = frac(1,13)\n",
    "\n",
    "pX_2 = frac(1,13)\n",
    "pX_1 = frac(1,13)*3\n",
    "pX_0 = frac(1,13)*5\n",
    "pX_m1 = frac(1,13)*3\n",
    "pX_m2 = frac(1,13)\n",
    "\n",
    "print('Marginal PMF of pY are {0}, {1}, {2}, {3}, {4}.'.format(pY_2,pY_1,pY_0,pY_m1,pY_m2))\n",
    "print('Marginal PMF of pX are {0}, {1}, {2}, {3}, {4}.'.format(pX_2,pX_1,pX_0,pX_m1,pX_m2))"
   ]
  },
  {
   "cell_type": "markdown",
   "metadata": {},
   "source": [
    "We add marginals to the table \n",
    "\n",
    "\\begin{array}{|c|c|}\n",
    "\\hline & X = -2 & X = -1 & X = 0 & X = 1 & X = 2 & P_Y(y) \\\\ \\hline\n",
    "  Y = 2 & 0  & 0 & 1/13 & 0 & 0  & 1/13\\\\ \\hline\n",
    "  Y = 1 & 0  & 1/13 & 1/13 & 1/13 & 0 & 3/13 \\\\ \\hline\n",
    "  Y = 0 & 1/13  & 1/13 & 1/13 & 1/13 & 1/13 & 5/13 \\\\ \\hline\n",
    "  Y = -1 & 0  & 1/13 & 1/13 & 1/13 & 0 & 3/13 \\\\ \\hline\n",
    "  Y = -2 & 0  & 0 & 1/13 & 0 & 0 &  1/13\\\\ \\hline\n",
    "  P_X(x) &1/13 &3/13 & 5/13 & 3/13 & 1/13 \\\\ \\hline\n",
    "\\end{array}"
   ]
  },
  {
   "cell_type": "markdown",
   "metadata": {},
   "source": [
    "2. Find the conditional PMF of $X$ given $Y = 1$, i.e. $P(X|Y=1)$"
   ]
  },
  {
   "cell_type": "markdown",
   "metadata": {},
   "source": [
    "\\begin{array}{|c|c|}\n",
    "\\hline & X = -2 & X = -1 & X = 0 & X = 1 & X = 2\\\\ \\hline\n",
    "  Y = 1 & 0  & 1/3 & 1/3 & 1/3 & 0  \\\\ \\hline\n",
    "\\end{array}\n",
    "\n",
    "It shows that given $Y=1$, $X$ is uniformly distributed over $\\{-1,0,1\\}$."
   ]
  },
  {
   "cell_type": "markdown",
   "metadata": {},
   "source": [
    "3. Are X and Y independent?"
   ]
  },
  {
   "cell_type": "markdown",
   "metadata": {},
   "source": [
    "No, for instance $P(X=0|Y=1) \\neq P_X(X = 0)$"
   ]
  },
  {
   "cell_type": "markdown",
   "metadata": {},
   "source": [
    "If random event $A$ is replaced by a discrete random variable $Y$, the conditional density PMFs are defined as\n",
    "\n",
    "$$\n",
    "\\begin{array}{l}\n",
    "P_{X | Y}\\left(x_{i} | y_{j}\\right)=\\frac{P_{X Y}\\left(x_{i}, y_{j}\\right)}{P_{Y}\\left(y_{j}\\right)} \\\\\n",
    "P_{Y | X}\\left(y_{j} | x_{i}\\right)=\\frac{P_{X Y}\\left(x_{i}, y_{j}\\right)}{P_{X}\\left(x_{i}\\right)}\n",
    "\\end{array}\n",
    "$$\n",
    "\n",
    "where $x_i$ and $y_j$ are realizations of $X$ and $Y$.\n"
   ]
  },
  {
   "cell_type": "markdown",
   "metadata": {},
   "source": [
    "## <font face=\"gotham\" color=\"purple\"> Conditional Expectation</font>"
   ]
  },
  {
   "cell_type": "markdown",
   "metadata": {},
   "source": [
    "The expectation can be conditional on a random event or a realization of random variable. \n",
    "\n",
    "$$\\begin{align}\n",
    "E[X | A]&=\\sum_{x_{i}\\in R_{X}}x_{i} P_{X | A}\\left(x_{i}|A\\right) \\\\\n",
    "E[X | Y=y_{j}]&=\\sum_{x_{i} \\in R_{X}} x_{i} P_{X | Y}\\left(x_{i} | Y=y_{j}\\right)\n",
    "\\end{align}$$"
   ]
  },
  {
   "cell_type": "markdown",
   "metadata": {},
   "source": [
    "Use the PMF example in last section, let's try to answer questions below."
   ]
  },
  {
   "cell_type": "markdown",
   "metadata": {},
   "source": [
    "1. Find $E[X|Y = 1]$."
   ]
  },
  {
   "cell_type": "markdown",
   "metadata": {},
   "source": [
    "To calculate the conditional expectation, we must use conditional probability as weight:"
   ]
  },
  {
   "cell_type": "markdown",
   "metadata": {},
   "source": [
    "$$\n",
    "E[X|Y = 1]= -1 \\left(\\frac{1}{3}\\right)+ 0  \\left(\\frac{1}{3}\\right)+1 \\left(\\frac{1}{3}\\right)=0\n",
    "$$"
   ]
  },
  {
   "cell_type": "markdown",
   "metadata": {},
   "source": [
    "2. Find $E[X|−1 < Y < 2]$."
   ]
  },
  {
   "cell_type": "markdown",
   "metadata": {},
   "source": [
    "First, calculate the conditional PMF\n",
    "\n",
    "$$\n",
    "P_{X|-1<Y<2}(x_i |-1<Y<2) = -2\\frac{1/13}{8/13}-\\frac{2/13}{8/13}+0\\frac{3/13}{8/13}+ \\frac{2/13}{8/13} + 2\\frac{1/13}{8/13}=0\n",
    "$$"
   ]
  },
  {
   "cell_type": "markdown",
   "metadata": {},
   "source": [
    "### <font face=\"gotham\" color=\"purple\"> Conditional Expectation as A Function</font>"
   ]
  },
  {
   "cell_type": "markdown",
   "metadata": {},
   "source": [
    "If you paid attention to the conditional expection expression\n",
    "\n",
    "$$\n",
    "E[X | Y=y_{j}]=\\sum_{x_{i} \\in R_{X}} x_{i} P_{X | Y}\\left(x_{i} | Y=y_{j}\\right)\n",
    "$$\n",
    "\n",
    "you would find that it is actually a function of $Y$."
   ]
  },
  {
   "cell_type": "markdown",
   "metadata": {},
   "source": [
    "Consider a joint PMF below\n",
    "\n",
    "$$\n",
    "\\begin{array}{|c|c|}\n",
    "\\hline       &  X = 0 & X = 1 & P_Y(y) \\\\ \\hline\n",
    "       Y = 0 & 1/5  & 2/5   & 3/5\\\\ \\hline\n",
    "       Y = 1 & 2/5  & 0 & 2/5 \\\\ \\hline\n",
    "       P_X(x) &3/5  & 2/5 \\\\ \\hline\n",
    "\\end{array}\n",
    "$$"
   ]
  },
  {
   "cell_type": "markdown",
   "metadata": {},
   "source": [
    "1. What are the conditional PMF $P_{X|Y}(x|0)$ and $P_{X|Y}(x|1)$?"
   ]
  },
  {
   "cell_type": "markdown",
   "metadata": {},
   "source": [
    "$$\n",
    "P_{X|Y}(X= 0|Y = 0) = \\frac{1/5}{3/5}=1/3\\\\\n",
    "P_{X|Y}(X= 1|Y = 0) = \\frac{2/5}{3/5}=2/3\\\\\n",
    "P_{X|Y}(X= 0|Y = 1) = \\frac{2/5}{2/5}=1\\\\\n",
    "P_{X|Y}(X= 1|Y = 1) = 0\\\\\n",
    "$$"
   ]
  },
  {
   "cell_type": "markdown",
   "metadata": {},
   "source": [
    "2. Let $Z = E[X|Y]$, find PMF of $Z$."
   ]
  },
  {
   "cell_type": "markdown",
   "metadata": {},
   "source": [
    "Remember that $Z$ is a function of $Y$. To calculate conditional expectation, we need to use conditional probability as well.\n",
    "\n",
    "$$\n",
    "E[X|Y = 0] = 0 \\left(\\frac{\\frac{1}{5}}{\\frac{1}{5}+\\frac{2}{5}}\\right)+1\\left(\\frac{\\frac{2}{5}}{\\frac{1}{5}+\\frac{2}{5}}\\right) =\\frac{2}{3}\\\\\n",
    "E[X|Y = 1]  = 0\n",
    "$$\n"
   ]
  },
  {
   "cell_type": "markdown",
   "metadata": {},
   "source": [
    "3. Find $E[Z]$, and check that if $E[Z] = E[X]$."
   ]
  },
  {
   "cell_type": "markdown",
   "metadata": {},
   "source": [
    "Because $E[X|Y]$ itself is a variable, it must have an expectation as well\n",
    "\n",
    "$$\n",
    "E[Z] = E[E[X|Y]] = P_Y(Y = 0)E[X|Y = 0]+ P_Y(Y = 1)E[X|Y = 1] = \\frac{3}{5}\\cdot\\frac{2}{3}+\\frac{2}{5}\\cdot0=\\frac{2}{5}\n",
    "$$"
   ]
  },
  {
   "cell_type": "markdown",
   "metadata": {},
   "source": [
    "Actually, $E[Z] = E[E[X|Y]] = E[X]$ must hold, it is the <font face=\"gotham\" color=\"red\">law of iterated expectation</font>."
   ]
  },
  {
   "cell_type": "markdown",
   "metadata": {},
   "source": [
    "### <font face=\"gotham\" color=\"purple\"> Expectation for Independent Variables</font>"
   ]
  },
  {
   "cell_type": "markdown",
   "metadata": {},
   "source": [
    "All the rules of expectation for independent variables are here, they are fairly straightforward, because conditioning on $Y$ does not provide any extra information"
   ]
  },
  {
   "cell_type": "markdown",
   "metadata": {},
   "source": [
    "\n",
    "1. $E[X | Y]=E[ X]$\n",
    "2. $E[g(X) | Y]=E[g(X)]$\n",
    "3. $E[X Y]=E[ X] E [Y]$\n",
    "4. $E[g(X) h(Y)]=E[g(X)] E[h(Y)]$"
   ]
  },
  {
   "cell_type": "markdown",
   "metadata": {},
   "source": [
    "# <font face=\"gotham\" color=\"purple\"> Continuous Distributions</font>"
   ]
  },
  {
   "cell_type": "markdown",
   "metadata": {},
   "source": [
    "## <font face=\"gotham\" color=\"purple\"> Joint PDF</font>"
   ]
  },
  {
   "cell_type": "markdown",
   "metadata": {},
   "source": [
    "Joint PDF of $X$ and $Y$ is defined as\n",
    "\n",
    "$$\n",
    "P((X, Y) \\in A)=\\iint_{A} f_{X Y}(x, y) d x d y =1\n",
    "$$\n",
    "\n",
    "where $f_{XY}(x, y)$ is a non-negative function, mapping $\\mathbb{R}^2$ to $\\mathbb{R}$."
   ]
  },
  {
   "cell_type": "markdown",
   "metadata": {},
   "source": [
    "However, we are particularly interested in the case that $A$ is a rectangular,\n",
    "\n",
    "$$\n",
    "P(a\\geq X \\geq b, c\\geq Y \\geq d) =\\int_c^d\\int_a^b f_{X Y}(x, y) d x d y\n",
    "$$"
   ]
  },
  {
   "cell_type": "markdown",
   "metadata": {},
   "source": [
    "And within $A$, there are infinite amount of small rectangles\n",
    "\n",
    "$$\n",
    "P(a\\geq X \\geq a+\\delta, c\\geq Y \\geq c+\\delta )\\approx f_{XY}(a,c)\\delta^2\n",
    "$$"
   ]
  },
  {
   "cell_type": "markdown",
   "metadata": {},
   "source": [
    "### <font face=\"gotham\" color=\"purple\"> An Example of Joint PDF </font>"
   ]
  },
  {
   "cell_type": "markdown",
   "metadata": {},
   "source": [
    "Let's consider an example other than normal distribution.\n",
    "\n",
    "$$\n",
    "f_{X Y}(x, y)=\\left\\{\\begin{array}{ll}\n",
    "x+c y^{2} & 0 \\leq x \\leq 1,\\quad 0 \\leq y \\leq 1 \\\\\n",
    "0 & \\text { otherwise }\n",
    "\\end{array}\\right.\n",
    "$$"
   ]
  },
  {
   "cell_type": "markdown",
   "metadata": {},
   "source": [
    "1. Find out constant $c$."
   ]
  },
  {
   "cell_type": "markdown",
   "metadata": {},
   "source": [
    "Use the property $\\iint_{A} f_{X Y}(x, y) d x d y =1$\n",
    "\n",
    "\\begin{align}\n",
    "\\int^1_0\\int^1_0(x+cy^2)dxdy &= 1\\\\\n",
    "\\int^1_0\\left[\\frac{x^2}{2}+cxy^2\\right]^1_0dy &= 1\\\\\n",
    "\\int^1_0\\left[\\frac{1}{2}+cy^2\\right]dy &= 1\\\\\n",
    "\\left[\\frac{y}{2}+c\\frac{y^3}{3}\\right]^1_0&=1\\\\\n",
    "\\frac{1}{2}+\\frac{c}{3}&=1\\\\\n",
    "c&=\\frac{3}{2}\\\\\n",
    "\\end{align}"
   ]
  },
  {
   "cell_type": "markdown",
   "metadata": {},
   "source": [
    "2. Find out $P(0 ≤ X ≤ 1/2,0 ≤ Y ≤ 1/2)$"
   ]
  },
  {
   "cell_type": "markdown",
   "metadata": {},
   "source": [
    "Plug in $c$, perform double integration\n",
    "\n",
    "\\begin{align}\n",
    "\\int^{1/2}_{0}\\int^{1/2}_0\\left(x+\\frac{3}{2}y^2\\right)dxdy &=\n",
    "\\int_0^{1/2}\\left[\\frac{x^2}{2}+\\frac{3}{2}y^2x\\right]_0^{1/2}dy \\\\\n",
    "&=\\int_0^{1/2}\\left[\\frac{1}{8}+\\frac{3}{4}y^2\\right]dy\\\\\n",
    "&=\\left[\\frac{1}{8}+\\frac{y^3}{4}\\right]_0^{1/2}\\\\\n",
    "&=\\frac{3}{32}\n",
    "\\end{align}"
   ]
  },
  {
   "cell_type": "markdown",
   "metadata": {},
   "source": [
    "The joint distribution is depicted as below, the volume between the curved plane and $xy$ plane is $1$."
   ]
  },
  {
   "cell_type": "code",
   "execution_count": 3,
   "metadata": {},
   "outputs": [
    {
     "data": {
      "image/png": "[encoded data removed]",
      "text/plain": [
       "<Figure size 576x576 with 1 Axes>"
      ]
     },
     "metadata": {
      "needs_background": "light"
     },
     "output_type": "display_data"
    }
   ],
   "source": [
    "x, y = np.linspace(0, 1), np.linspace(0, 1)\n",
    "X, Y = np.meshgrid(x, y)\n",
    "Z = X + 3/2*Y**2\n",
    "\n",
    "fig = plt.figure(figsize = (8, 8))\n",
    "ax = fig.gca(projection='3d')\n",
    "ax.plot_surface(X, Y, Z, cmap = 'coolwarm')\n",
    "ax.contourf(X, Y, Z, zdir='z', offset=0, cmap='coolwarm')\n",
    "plt.show()"
   ]
  },
  {
   "cell_type": "markdown",
   "metadata": {},
   "source": [
    "## <font face=\"gotham\" color=\"purple\"> Marginal PDF </font>"
   ]
  },
  {
   "cell_type": "markdown",
   "metadata": {},
   "source": [
    "Maringal PDF of $X$ and $Y$ are\n",
    "\n",
    "\\begin{equation}\n",
    "f_{X}(x)=\\int_{-\\infty}^{\\infty} f_{X Y}(x, y) d y,\\quad \\text { for all } x \\\\\n",
    "f_{Y}(y)=\\int_{-\\infty}^{\\infty} f_{X Y}(x, y) d x,\\quad \\text { for all } y\n",
    "\\end{equation}"
   ]
  },
  {
   "cell_type": "markdown",
   "metadata": {},
   "source": [
    "Let's use the same example as in last section to find out $f_X(x)$ and $f_Y(y)$.\n",
    "\n",
    "$$\n",
    "f_{X}(x)=\\int_{0}^{1}\\left(x+\\frac{3}{2}y^2\\right)  d y =x+\\frac{1}{2}\\\\\n",
    "f_{Y}(y)=\\int_{0}^{1}\\left(x+\\frac{3}{2}y^2\\right)  d x =\\frac{3}{2} y^{2}+\\frac{1}{2}\n",
    "$$"
   ]
  },
  {
   "cell_type": "markdown",
   "metadata": {},
   "source": [
    "## <font face=\"gotham\" color=\"purple\"> Joint CDF </font>"
   ]
  },
  {
   "cell_type": "markdown",
   "metadata": {},
   "source": [
    "Joint CDF and joint PDF has relationship as follows:\n",
    "\n",
    "$$\n",
    "F_{X Y}(x, y)=\\int_{-\\infty}^{y} \\int_{-\\infty}^{x} f_{X Y}(u, v) d u d v \\\\\n",
    "f_{X Y}(x, y)=\\frac{\\partial^{2}}{\\partial x \\partial y} F_{X Y}(x, y)\n",
    "$$"
   ]
  },
  {
   "cell_type": "markdown",
   "metadata": {},
   "source": [
    "The same PDF as above, find the CDF.\n",
    "\n",
    "$$\n",
    "f_{X Y}(x, y)=\\left\\{\\begin{array}{ll}\n",
    "x+\\frac{3}{2} y^{2} & 0 \\leq x \\leq 1,\\quad 0 \\leq y \\leq 1 \\\\\n",
    "0 & \\text { otherwise }\n",
    "\\end{array}\\right.\n",
    "$$"
   ]
  },
  {
   "cell_type": "markdown",
   "metadata": {},
   "source": [
    "\\begin{align}\n",
    "F_{XY}(x,y)=\\int_{0}^{y} \\int_{0}^{x} f_{X Y}(u, v) d u d v&=\\int_{0}^{y} \\int_{0}^{x} \\left(u+\\frac{3}{2}v^2\\right) d u d v\\\\\n",
    "& = \\int_0^y\\left[\\frac{u^2}{2}+\\frac{3}{2}v^2u\\right]^x_0dv\\\\\n",
    "& =  \\int_0^y\\left(\\frac{x^2}{2}+\\frac{3}{2}v^2x\\right)dv\\\\\n",
    "& = \\left[\\frac{x^2}{2}v+\\frac{3}{2}\\frac{v^3}{3}x\\right]^y_0\\\\\n",
    "& =\\frac{x^2y}{2}+\\frac{y^3x}{2}\n",
    "\\end{align}"
   ]
  },
  {
   "cell_type": "markdown",
   "metadata": {},
   "source": [
    "## <font face=\"gotham\" color=\"purple\"> Conditional PDF and CDF </font>"
   ]
  },
  {
   "cell_type": "markdown",
   "metadata": {},
   "source": [
    "Consider the conditional PDF of $X$ given that $X\\in A$\n",
    "\n",
    "\\begin{align}\n",
    "P(x\\leq X \\leq x+\\delta|X \\in A)\\approx f_{X|X\\in A}(x)\\cdot \\delta &= \\frac{P(x\\leq X \\leq x+\\delta,X \\in A)}{P(A)}\\\\\n",
    "&=\\frac{P(x\\leq X \\leq x+\\delta)}{P(A)}\\\\\n",
    "&\\approx\\frac{f_X(x)\\delta}{P(A)}\n",
    "\\end{align}"
   ]
  },
  {
   "cell_type": "markdown",
   "metadata": {},
   "source": [
    "We have shown that \n",
    "\n",
    "$$\n",
    "f_{X|X\\in A}(x) = \\frac{f_X(x)}{P(A)}\n",
    "$$"
   ]
  },
  {
   "cell_type": "markdown",
   "metadata": {},
   "source": [
    "You can imagin $P(A)$ as a scaling factor that normalize the conditional PDF into an area of $1$."
   ]
  },
  {
   "cell_type": "markdown",
   "metadata": {},
   "source": [
    "For two jointly continuous random variables $X$ and $Y$, we can\n",
    "define the following conditional concepts:\n",
    "1. The conditional PDF of $X$ given $Y=y$ :\n",
    "$$\n",
    "f_{X | Y}(x | y)=\\frac{f_{X Y}(x, y)}{f_{Y}(y)}\n",
    "$$\n",
    "2. The conditional probability that $X \\in A$ given $Y=y:$\n",
    "$$\n",
    "P(X \\in A | Y=y)=\\int_{A} f_{X | Y}(x | y) d x\n",
    "$$\n",
    "3. The conditional CDF of $X$ given $Y=y$\n",
    "$$\n",
    "F_{X | Y}(x | y)=P(X \\leq x | Y=y)=\\int_{-\\infty}^{x} f_{X | Y}(x | y) d x\n",
    "$$"
   ]
  },
  {
   "cell_type": "markdown",
   "metadata": {},
   "source": [
    "The intuition of the first expression, i.e. conditional PDF is\n",
    "\n",
    "$$\n",
    "P(x\\leq X \\leq x+\\delta| y\\leq Y\\leq y+\\epsilon)\\approx \\frac{f_{XY}(xy)\\delta\\epsilon}{f_Y(y)\\epsilon}=f_{X|Y}(x|y)\\delta\n",
    "$$"
   ]
  },
  {
   "cell_type": "markdown",
   "metadata": {},
   "source": [
    "Conditional probability must satisfy the basic rule of probability as well, \n",
    "\n",
    "$$\n",
    "\\int_{-\\infty}^\\infty f_{X|Y}(x|y)dx = 1\n",
    "$$\n",
    "\n",
    "because\n",
    "\n",
    "$$\n",
    "\\frac{\\int_{-\\infty}^\\infty f_{XY}(xy)dx}{f_Y(y)} = 1\n",
    "$$"
   ]
  },
  {
   "cell_type": "markdown",
   "metadata": {},
   "source": [
    "Rearrange the conditional PDF, we obtain the multiplication rule\n",
    "\n",
    "$$\n",
    "f_{XY}(xy)=f_{X|Y}(x|y)f_Y(y)\n",
    "$$"
   ]
  },
  {
   "cell_type": "markdown",
   "metadata": {},
   "source": [
    "## <font face=\"gotham\" color=\"purple\"> Independence</font>"
   ]
  },
  {
   "cell_type": "markdown",
   "metadata": {},
   "source": [
    "If continuous variables $X$ and $Y$ are independent, then knowing either of them does not provide information for the other. That is \n",
    "\n",
    "$$\n",
    "f_{X|Y}(x|y) = f_X(x),\\qquad \\text{or} \\qquad f_{Y|X}(y|x) = f_Y(y)\n",
    "$$\n"
   ]
  },
  {
   "cell_type": "markdown",
   "metadata": {},
   "source": [
    "Thus the multiplication rule for independent distribution\n",
    "\n",
    "$$\n",
    "f_{XY}(xy)=f_X(x)f_Y(y)\n",
    "$$\n",
    "\n",
    "Other rules derived from this are \n",
    "\n",
    "\\begin{align}\n",
    "E[XY]&= E[X]E[Y]\\\\\n",
    "\\text{Var}(X+Y)&=\\text{Var}(X)+\\text{Var}(Y)\\\\\n",
    "E[g(X)h(Y)]&=E[g(X)]E[h(Y)]\n",
    "\\end{align}"
   ]
  }
 ],
 "metadata": {
  "kernelspec": {
   "display_name": "Python 3",
   "language": "python",
   "name": "python3"
  },
  "language_info": {
   "codemirror_mode": {
    "name": "ipython",
    "version": 3
   },
   "file_extension": ".py",
   "mimetype": "text/x-python",
   "name": "python",
   "nbconvert_exporter": "python",
   "pygments_lexer": "ipython3",
   "version": "3.7.4"
  },
  "toc": {
   "base_numbering": 1,
   "nav_menu": {},
   "number_sections": true,
   "sideBar": true,
   "skip_h1_title": false,
   "title_cell": "Table of Contents",
   "title_sidebar": "Contents",
   "toc_cell": true,
   "toc_position": {},
   "toc_section_display": true,
   "toc_window_display": false
  }
 },
 "nbformat": 4,
 "nbformat_minor": 2
}
