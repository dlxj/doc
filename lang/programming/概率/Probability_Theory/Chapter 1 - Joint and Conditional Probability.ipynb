{
 "cells": [
  {
   "cell_type": "markdown",
   "metadata": {
    "toc": true
   },
   "source": [
    "<h1>Table of Contents<span class=\"tocSkip\"></span></h1>\n",
    "<div class=\"toc\"><ul class=\"toc-item\"><li><span><a href=\"#-Joint-Probability\" data-toc-modified-id=\"-Joint-Probability-1\"><span class=\"toc-item-num\">1&nbsp;&nbsp;</span><font face=\"gotham\" color=\"purple\"> Joint Probability</font></a></span><ul class=\"toc-item\"><li><span><a href=\"#-Example-1\" data-toc-modified-id=\"-Example-1-1.1\"><span class=\"toc-item-num\">1.1&nbsp;&nbsp;</span><font face=\"gotham\" color=\"purple\"> Example 1</font></a></span></li><li><span><a href=\"#-Example-2\" data-toc-modified-id=\"-Example-2-1.2\"><span class=\"toc-item-num\">1.2&nbsp;&nbsp;</span><font face=\"gotham\" color=\"purple\"> Example 2</font></a></span></li><li><span><a href=\"#-Example-3\" data-toc-modified-id=\"-Example-3-1.3\"><span class=\"toc-item-num\">1.3&nbsp;&nbsp;</span><font face=\"gotham\" color=\"purple\"> Example 3</font></a></span></li></ul></li><li><span><a href=\"#-Conditional-Probability\" data-toc-modified-id=\"-Conditional-Probability-2\"><span class=\"toc-item-num\">2&nbsp;&nbsp;</span><font face=\"gotham\" color=\"purple\"> Conditional Probability</font></a></span><ul class=\"toc-item\"><li><span><a href=\"#-Example-1\" data-toc-modified-id=\"-Example-1-2.1\"><span class=\"toc-item-num\">2.1&nbsp;&nbsp;</span><font face=\"gotham\" color=\"purple\"> Example 1</font></a></span></li><li><span><a href=\"#-Example-2\" data-toc-modified-id=\"-Example-2-2.2\"><span class=\"toc-item-num\">2.2&nbsp;&nbsp;</span><font face=\"gotham\" color=\"purple\"> Example 2</font></a></span></li><li><span><a href=\"#-Example-3\" data-toc-modified-id=\"-Example-3-2.3\"><span class=\"toc-item-num\">2.3&nbsp;&nbsp;</span><font face=\"gotham\" color=\"purple\"> Example 3</font></a></span></li></ul></li><li><span><a href=\"#-Independence\" data-toc-modified-id=\"-Independence-3\"><span class=\"toc-item-num\">3&nbsp;&nbsp;</span><font face=\"gotham\" color=\"purple\"> Independence</font></a></span><ul class=\"toc-item\"><li><span><a href=\"#-Independence-vs-Disjoint\" data-toc-modified-id=\"-Independence-vs-Disjoint-3.1\"><span class=\"toc-item-num\">3.1&nbsp;&nbsp;</span><font face=\"gotham\" color=\"purple\"> Independence vs Disjoint</font></a></span></li></ul></li><li><span><a href=\"#Law-of-Total-Probability\" data-toc-modified-id=\"Law-of-Total-Probability-4\"><span class=\"toc-item-num\">4&nbsp;&nbsp;</span><font face=\"gotham\" color=\"purple\">Law of Total Probability</font></a></span><ul class=\"toc-item\"><li><span><a href=\"#-Example-1\" data-toc-modified-id=\"-Example-1-4.1\"><span class=\"toc-item-num\">4.1&nbsp;&nbsp;</span><font face=\"gotham\" color=\"purple\"> Example 1</font></a></span></li><li><span><a href=\"#-Example-2\" data-toc-modified-id=\"-Example-2-4.2\"><span class=\"toc-item-num\">4.2&nbsp;&nbsp;</span><font face=\"gotham\" color=\"purple\"> Example 2</font></a></span></li><li><span><a href=\"#-Example-3\" data-toc-modified-id=\"-Example-3-4.3\"><span class=\"toc-item-num\">4.3&nbsp;&nbsp;</span><font face=\"gotham\" color=\"purple\"> Example 3</font></a></span></li></ul></li></ul></div>"
   ]
  },
  {
   "cell_type": "code",
   "execution_count": 1,
   "metadata": {},
   "outputs": [],
   "source": [
    "import numpy as np"
   ]
  },
  {
   "cell_type": "markdown",
   "metadata": {},
   "source": [
    "# <font face=\"gotham\" color=\"purple\"> Joint Probability</font>"
   ]
  },
  {
   "cell_type": "markdown",
   "metadata": {},
   "source": [
    "Joint probability and conditional probability are closely connected, however quite elusive for beginners, sometimes even experienced data scientists feel hard to tell the subtlety. We will tackle the joint probability first. "
   ]
  },
  {
   "cell_type": "markdown",
   "metadata": {},
   "source": [
    "The joint probability is defined as\n",
    "\n",
    "$$\n",
    "P(A\\cap B) = P(A)P(B)\n",
    "$$\n",
    "\n",
    "when we talking about joint probability, we implicitly assume that\n",
    "\n",
    "1. $A$ and $B$ are independent events.\n",
    "2. $A$ and $B$ happen in the same time.\n",
    "\n",
    "If $A$ and $B$ are not independent, it is pointless to talk about joint probability, because they are affection each other's results. In other words, if $A$ and $B$ are dependent, when $A$ happens, the probability of $B$ happenning is not $P(B)$ anymore, we can't use $P(AB) = P(A)P(B)$."
   ]
  },
  {
   "cell_type": "markdown",
   "metadata": {},
   "source": [
    "## <font face=\"gotham\" color=\"purple\"> Example 1</font>"
   ]
  },
  {
   "cell_type": "markdown",
   "metadata": {},
   "source": [
    "What is the joint probability of rolling the number 6 twice in a fair six-sided dice?"
   ]
  },
  {
   "cell_type": "markdown",
   "metadata": {},
   "source": [
    "Throwing dice is an independent event, <br>\n",
    "\n",
    "Event $A$ = Getting number $6$.\n",
    "\n",
    "$$\n",
    "P(A\\cap A)=\\frac{1}{6}\\frac{1}{6}= \\frac{1}{36}\n",
    "$$"
   ]
  },
  {
   "cell_type": "markdown",
   "metadata": {},
   "source": [
    "## <font face=\"gotham\" color=\"purple\"> Example 2</font>"
   ]
  },
  {
   "cell_type": "markdown",
   "metadata": {},
   "source": [
    "What is the joint probability of getting 3 times head followed by 3 times tail in a coin toss?"
   ]
  },
  {
   "cell_type": "markdown",
   "metadata": {},
   "source": [
    "Event $A$ = Getting $1$ time of head<br>\n",
    "Event $B$ = Getting $1$ time of tail"
   ]
  },
  {
   "cell_type": "markdown",
   "metadata": {},
   "source": [
    "$$\n",
    "P(BBBAAA)= .5^6\n",
    "$$"
   ]
  },
  {
   "cell_type": "code",
   "execution_count": 2,
   "metadata": {},
   "outputs": [
    {
     "data": {
      "text/plain": [
       "0.015625"
      ]
     },
     "execution_count": 2,
     "metadata": {},
     "output_type": "execute_result"
    }
   ],
   "source": [
    ".5**6"
   ]
  },
  {
   "cell_type": "markdown",
   "metadata": {},
   "source": [
    "## <font face=\"gotham\" color=\"purple\"> Example 3</font>"
   ]
  },
  {
   "cell_type": "markdown",
   "metadata": {},
   "source": [
    "What is the joint probability that you pick up a card which is  <b>larger</b> than 4 and <b>less</b> than $10$ and also a $diamond$?"
   ]
  },
  {
   "cell_type": "markdown",
   "metadata": {},
   "source": [
    "Event $A$ = Getting card larger than $4$ and less than $10$, $(4<x<10)$<br>\n",
    "Event $B$ = Getting a $diamond$."
   ]
  },
  {
   "cell_type": "markdown",
   "metadata": {},
   "source": [
    "$P(A\\cap B) = P(A)P(B) = \\frac{5\\times 4}{52}\\frac{13}{52}$\n",
    "\n",
    "We multiply $4$ onto $\\frac{5}{52}$ is because of $4$ different colors."
   ]
  },
  {
   "cell_type": "code",
   "execution_count": 3,
   "metadata": {},
   "outputs": [
    {
     "data": {
      "text/plain": [
       "0.09615384615384616"
      ]
     },
     "execution_count": 3,
     "metadata": {},
     "output_type": "execute_result"
    }
   ],
   "source": [
    "5*4/52*13/52"
   ]
  },
  {
   "cell_type": "markdown",
   "metadata": {},
   "source": [
    "# <font face=\"gotham\" color=\"purple\"> Conditional Probability</font>"
   ]
  },
  {
   "cell_type": "markdown",
   "metadata": {},
   "source": [
    "Conditional probability is denoted as\n",
    "\n",
    "$$\n",
    "P(B|A)= \\frac{P(A\\cap B)}{P(A)}=\\frac{P(A\\cap B)}{P(A\\cap B)+P(A\\cap B^C)}\n",
    "$$"
   ]
  },
  {
   "cell_type": "markdown",
   "metadata": {},
   "source": [
    "which reads, the probability of $B$ given $A$. Here we treat $A$ as a fact, it either happens or assumed to happen. $B^C$ is the complement event of $A$, that $P(B^C)+P(B) =1 $"
   ]
  },
  {
   "cell_type": "markdown",
   "metadata": {},
   "source": [
    "## <font face=\"gotham\" color=\"purple\"> Example 1</font>"
   ]
  },
  {
   "cell_type": "markdown",
   "metadata": {},
   "source": [
    "What is the probability of drawing a card, given which is a $diamond$, that is also <b>larger</b> than 4 and <b>less</b> than $10$?"
   ]
  },
  {
   "cell_type": "markdown",
   "metadata": {},
   "source": [
    "Note how we rephase the question than Example 3 in last section. When we are talking about conditional probability, we are changing our sample space, here the sample space change from all deck to $diamonds$."
   ]
  },
  {
   "cell_type": "markdown",
   "metadata": {},
   "source": [
    "Event $A$ = Getting card larger than $4$ and less than $10$, $(4<x<10)$<br>\n",
    "Event $B$ = Getting a $diamond$."
   ]
  },
  {
   "cell_type": "markdown",
   "metadata": {},
   "source": [
    "There are only $13$ cards of diamonds, this is the new sample space. And in this new sample space, we count how many numbers there are in $(4,\\ 10)$. There are 5 numbers.Thus"
   ]
  },
  {
   "cell_type": "markdown",
   "metadata": {},
   "source": [
    "$$P(A|B) = \\frac{5}{13}$$"
   ]
  },
  {
   "cell_type": "code",
   "execution_count": 4,
   "metadata": {},
   "outputs": [
    {
     "data": {
      "text/plain": [
       "0.38461538461538464"
      ]
     },
     "execution_count": 4,
     "metadata": {},
     "output_type": "execute_result"
    }
   ],
   "source": [
    "5/13"
   ]
  },
  {
   "cell_type": "markdown",
   "metadata": {},
   "source": [
    "Then what is the joint probability of $P(A\\cap B)$? Using multiplication rule $P(A\\cap B) = P(A|B)P(B)$."
   ]
  },
  {
   "cell_type": "code",
   "execution_count": 5,
   "metadata": {},
   "outputs": [
    {
     "data": {
      "text/plain": [
       "0.09615384615384616"
      ]
     },
     "execution_count": 5,
     "metadata": {},
     "output_type": "execute_result"
    }
   ],
   "source": [
    "5/13*1/4"
   ]
  },
  {
   "cell_type": "markdown",
   "metadata": {},
   "source": [
    "The joint probability only makes sense is because drawing a diamone and drawing in $(4 <x< 10)$ are independent events."
   ]
  },
  {
   "cell_type": "markdown",
   "metadata": {},
   "source": [
    "Note that we reproduced the same number  of the joint probability in Example 3 of last section.Keep that in mind, this is a common way of calculating joint probability"
   ]
  },
  {
   "cell_type": "markdown",
   "metadata": {},
   "source": [
    "## <font face=\"gotham\" color=\"purple\"> Example 2</font>"
   ]
  },
  {
   "cell_type": "markdown",
   "metadata": {},
   "source": [
    "We roll a fair die twice and obtain two numbers $X_1= a$ and $X_2= b$. Given that I know $a+b=7$, what is the probability that $a=4$ or $b=4$?"
   ]
  },
  {
   "cell_type": "markdown",
   "metadata": {},
   "source": [
    "Our goal is to find out $p(a=4|a+b=7)$ and $p(b=4|a+b=7)$."
   ]
  },
  {
   "cell_type": "markdown",
   "metadata": {},
   "source": [
    "Event $A$ : $a = 4$ or $b = 4$<br>\n",
    "Event $B$ : $a+b = 7$"
   ]
  },
  {
   "cell_type": "markdown",
   "metadata": {},
   "source": [
    "There are only two way combinations of getting a $7$ if one of them is $4$, that are $(3, 4)$ and $(4, 3)$. \n",
    "\n",
    "And two dice have $6^2 = 36$ combination, to get $7$ there are $6$ combination: $(1, 6), (2, 5), (3,4), (4,3), (5,2),(6, 1)$. "
   ]
  },
  {
   "cell_type": "markdown",
   "metadata": {},
   "source": [
    "$$\\frac{P(A\\cap B)}{P(B)}= \\frac{2}{36}\\Big/\\frac{6}{36}=\\frac{1}{3}$$"
   ]
  },
  {
   "cell_type": "markdown",
   "metadata": {},
   "source": [
    "## <font face=\"gotham\" color=\"purple\"> Example 3</font>"
   ]
  },
  {
   "cell_type": "markdown",
   "metadata": {},
   "source": [
    "Consider a family that has two children. We are interested in the children's genders. Our sample space is $S=\\{(G,G),(G,B),(B,G),(B,B)\\}$. Also assume that all four possible outcomes are equally likely.\n",
    "\n",
    "1. What is the probability that both children are girls given that the first child is a girl?\n",
    "2. We ask the father: \"Do you have at least one daughter?\" He responds \"Yes!\" Given this extra information, what is the probability that both children are girls? In other words, what is the probability that both children are girls given that we know at least one of them is a girl?\n"
   ]
  },
  {
   "cell_type": "markdown",
   "metadata": {},
   "source": [
    "The first question's sample space is $\\{(G,G),(G,B)\\}$, the answer is $1/2$."
   ]
  },
  {
   "cell_type": "markdown",
   "metadata": {},
   "source": [
    "The second question's sample space is $\\{(G,G),(G,B),(B,G)\\}$, the answer is $1/3$."
   ]
  },
  {
   "cell_type": "markdown",
   "metadata": {},
   "source": [
    "# <font face=\"gotham\" color=\"purple\"> Independence</font>"
   ]
  },
  {
   "cell_type": "markdown",
   "metadata": {},
   "source": [
    "Let me define two events:\n",
    "\n",
    "Event $A$: Raining today<br>\n",
    "Event $B$: Heads up when tossing a coin\n",
    "\n",
    "What is $P(A|B)$?\n",
    "\n"
   ]
  },
  {
   "cell_type": "markdown",
   "metadata": {},
   "source": [
    "Apparently, thay are independent events such that $P(A|B) = P(A)$. Formally it is from\n",
    "\n",
    "$$\n",
    "\\begin{aligned}\n",
    "P(A | B) &=\\frac{P(A \\cap B)}{P(B)} \\\\\n",
    "&=\\frac{P(A) P(B)}{P(B)} \\\\\n",
    "&=P(A)\n",
    "\\end{aligned}\n",
    "$$"
   ]
  },
  {
   "cell_type": "markdown",
   "metadata": {},
   "source": [
    "## <font face=\"gotham\" color=\"purple\"> Independence vs Disjoint</font>"
   ]
  },
  {
   "cell_type": "markdown",
   "metadata": {},
   "source": [
    "Independence and disjoint are totally different concept, disjoint events mean if $A$ happens, then $B$ certainly can't happen, which exactly made sure they are dependent."
   ]
  },
  {
   "cell_type": "markdown",
   "metadata": {},
   "source": [
    "Formally, consider two events $A$ and $B$, with $P(A) \\neq 0$ and $P(B) \\neq 0$. \n",
    "\n",
    "We can show that if $A$ and $B$ are disjoint, we have\n",
    "\n",
    "$$\n",
    "P(A \\cap B)=\\varnothing  \\neq P(A) P(B)\n",
    "$$\n",
    "\n",
    "Thus, $A$ and $B$ are not independent."
   ]
  },
  {
   "cell_type": "markdown",
   "metadata": {},
   "source": [
    "# <font face=\"gotham\" color=\"purple\">Law of Total Probability</font>"
   ]
  },
  {
   "cell_type": "markdown",
   "metadata": {},
   "source": [
    "If $B_{1}, B_{2}, B_{3}, \\cdots B_k$ is a partition of the sample space $S$, then for any event $A$ we have\n",
    "\n",
    "$$\n",
    "P(A)=\\sum_{i=1}^k P\\left(A \\cap B_{i}\\right)=\\sum_{i=1}^k  P\\left(A | B_{i}\\right) P\\left(B_{i}\\right)\n",
    "$$\n",
    "\n",
    "This is called <font face=\"gotham\" color=\"red\"> law of total probability."
   ]
  },
  {
   "cell_type": "markdown",
   "metadata": {},
   "source": [
    "## <font face=\"gotham\" color=\"purple\"> Example 1</font>"
   ]
  },
  {
   "cell_type": "markdown",
   "metadata": {},
   "source": [
    "A person has undertaken a mining job. The probabilities of completion of job on time with and without rain are $0.42$ and $0.90$ respectively. If the probability that it will rain is $0.45$, then determine the probability that the mining job will be completed on time."
   ]
  },
  {
   "cell_type": "markdown",
   "metadata": {},
   "source": [
    "Event $R$: raining<br>\n",
    "Event $C$: complete the job on time"
   ]
  },
  {
   "cell_type": "markdown",
   "metadata": {},
   "source": [
    "$$p(C) = p(C|R)p(R) + p(C|R^c)p(R^c) = .42\\times .45 + .9\\times .55$$"
   ]
  },
  {
   "cell_type": "code",
   "execution_count": 6,
   "metadata": {},
   "outputs": [
    {
     "name": "stdout",
     "output_type": "stream",
     "text": [
      "The probability of completing mining job on time is 68.400%.\n"
     ]
    }
   ],
   "source": [
    "P_C = .42*.45+.9*.55\n",
    "print('The probability of completing mining job on time is %.3f%%.'%(P_C*100))"
   ]
  },
  {
   "cell_type": "markdown",
   "metadata": {},
   "source": [
    "## <font face=\"gotham\" color=\"purple\"> Example 2</font>"
   ]
  },
  {
   "cell_type": "markdown",
   "metadata": {},
   "source": [
    "We draw two cards from a deck of shuffled cards without replacement. Find the probability of getting a queen in the second draw."
   ]
  },
  {
   "cell_type": "markdown",
   "metadata": {},
   "source": [
    "Event $Q1$: Drawing a queen in the first card<br>\n",
    "Event $Q2$: Drawing a queen in the second card"
   ]
  },
  {
   "cell_type": "markdown",
   "metadata": {},
   "source": [
    "$$\n",
    "P(Q2) = P(Q2|Q1)*P(Q1) + P(Q2|Q1^c)P(Q1^c) = \\frac{3}{51}\\frac{4}{52}+\\frac{4}{51}\\frac{48}{52}\n",
    "$$"
   ]
  },
  {
   "cell_type": "code",
   "execution_count": 7,
   "metadata": {},
   "outputs": [
    {
     "name": "stdout",
     "output_type": "stream",
     "text": [
      "The probability of drawing a queen in the second card is 7.692%.\n"
     ]
    }
   ],
   "source": [
    "PQ2 = 3/51*4/52+4/51*48/52\n",
    "print('The probability of drawing a queen in the second card is %.3f%%.'%(PQ2*100))"
   ]
  },
  {
   "cell_type": "markdown",
   "metadata": {},
   "source": [
    "## <font face=\"gotham\" color=\"purple\"> Example 3</font>"
   ]
  },
  {
   "cell_type": "markdown",
   "metadata": {},
   "source": [
    "In a certain county<br>\n",
    "1. $60 \\%$ of registered voters are Republicans \n",
    "2. $30 \\%$ are Democrats\n",
    "3. $10 \\%$ are Independents\n",
    "\n",
    "When those voters were asked about increasing military spending\n",
    "1. $40 \\%$ of Republicans opposed it \n",
    "2. $65 \\%$ of the Democrats opposed it \n",
    "3. $55 \\%$ of the Independents opposed it.\n",
    "\n",
    "What is the probability that a randomly selected voter in this county opposes increasing military spending?"
   ]
  },
  {
   "cell_type": "markdown",
   "metadata": {},
   "source": [
    "Event $A$: opposes increased military spending<br>\n",
    "Event $B$: Being Republican<br>\n",
    "Event $C$: Being Democrats<br>\n",
    "Event $D$: Being Independents"
   ]
  },
  {
   "cell_type": "markdown",
   "metadata": {},
   "source": [
    "$$P(A) = P(A|B)P(B)+P(A|C)P(C)+P(A|D)P(D) = .4\\times.6+ .65\\times.3+ .55\\times.1$$"
   ]
  },
  {
   "cell_type": "code",
   "execution_count": 8,
   "metadata": {},
   "outputs": [
    {
     "name": "stdout",
     "output_type": "stream",
     "text": [
      "The probability that a randomly selected voter in this county opposes increased military spending is 49.000%.\n"
     ]
    }
   ],
   "source": [
    "PA = .4*.6+.65*.3+.55*.1\n",
    "print('The probability that a randomly selected voter in this county opposes increased military spending is %.3f%%.'%(PA*100))"
   ]
  }
 ],
 "metadata": {
  "kernelspec": {
   "display_name": "Python 3",
   "language": "python",
   "name": "python3"
  },
  "language_info": {
   "codemirror_mode": {
    "name": "ipython",
    "version": 3
   },
   "file_extension": ".py",
   "mimetype": "text/x-python",
   "name": "python",
   "nbconvert_exporter": "python",
   "pygments_lexer": "ipython3",
   "version": "3.7.4"
  },
  "toc": {
   "base_numbering": 1,
   "nav_menu": {},
   "number_sections": true,
   "sideBar": true,
   "skip_h1_title": false,
   "title_cell": "Table of Contents",
   "title_sidebar": "Contents",
   "toc_cell": true,
   "toc_position": {},
   "toc_section_display": true,
   "toc_window_display": true
  }
 },
 "nbformat": 4,
 "nbformat_minor": 2
}
