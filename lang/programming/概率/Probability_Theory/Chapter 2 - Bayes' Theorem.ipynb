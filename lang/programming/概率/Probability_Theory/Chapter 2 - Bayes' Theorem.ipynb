{
 "cells": [
  {
   "cell_type": "markdown",
   "metadata": {
    "toc": true
   },
   "source": [
    "<h1>Table of Contents<span class=\"tocSkip\"></span></h1>\n",
    "<div class=\"toc\"><ul class=\"toc-item\"><li><span><a href=\"#-Concept-of-Bayes'-Theorem\" data-toc-modified-id=\"-Concept-of-Bayes'-Theorem-1\"><span class=\"toc-item-num\">1&nbsp;&nbsp;</span><font face=\"gotham\" color=\"purple\"> Concept of Bayes' Theorem</font></a></span><ul class=\"toc-item\"><li><span><a href=\"#-Example-1\" data-toc-modified-id=\"-Example-1-1.1\"><span class=\"toc-item-num\">1.1&nbsp;&nbsp;</span><font face=\"gotham\" color=\"purple\"> Example 1</font></a></span></li><li><span><a href=\"#-Example-2\" data-toc-modified-id=\"-Example-2-1.2\"><span class=\"toc-item-num\">1.2&nbsp;&nbsp;</span><font face=\"gotham\" color=\"purple\"> Example 2</font></a></span></li><li><span><a href=\"#-Example-3\" data-toc-modified-id=\"-Example-3-1.3\"><span class=\"toc-item-num\">1.3&nbsp;&nbsp;</span><font face=\"gotham\" color=\"purple\"> Example 3</font></a></span></li><li><span><a href=\"#-Example-4\" data-toc-modified-id=\"-Example-4-1.4\"><span class=\"toc-item-num\">1.4&nbsp;&nbsp;</span><font face=\"gotham\" color=\"purple\"> Example 4</font></a></span></li><li><span><a href=\"#-Example-5\" data-toc-modified-id=\"-Example-5-1.5\"><span class=\"toc-item-num\">1.5&nbsp;&nbsp;</span><font face=\"gotham\" color=\"purple\"> Example 5</font></a></span></li><li><span><a href=\"#-Example-6\" data-toc-modified-id=\"-Example-6-1.6\"><span class=\"toc-item-num\">1.6&nbsp;&nbsp;</span><font face=\"gotham\" color=\"purple\"> Example 6</font></a></span></li></ul></li></ul></div>"
   ]
  },
  {
   "cell_type": "markdown",
   "metadata": {},
   "source": [
    "# <font face=\"gotham\" color=\"purple\"> Concept of Bayes' Theorem</font>"
   ]
  },
  {
   "cell_type": "markdown",
   "metadata": {},
   "source": [
    "The Bayes' Theorem is occasionally called <font face=\"gotham\" color=\"red\">inverse probability theorem</font>. As the name tells, if we have known $p(A|B)$, then Bayes' Theorem can tell us about $P(B|A)$. "
   ]
  },
  {
   "cell_type": "markdown",
   "metadata": {},
   "source": [
    "To see how Bayes' Theorem is derived, start from conditional probability\n",
    "\n",
    "$$\n",
    "P(A|B)P(B)=P(A\\cap B)\\\\\n",
    "P(B|A)P(A)=P(A\\cap B)\n",
    "$$"
   ]
  },
  {
   "cell_type": "markdown",
   "metadata": {},
   "source": [
    "Equate and arrange, we obtain the famous Bayes' Theorem:\n",
    "\n",
    "$$\n",
    "P(B|A) = \\frac{P(A|B)P(B)}{P(A)}\n",
    "$$"
   ]
  },
  {
   "cell_type": "markdown",
   "metadata": {},
   "source": [
    "If there are $k$ partitions of $B$, $P(A)$ can bee explicitly written in total probability form\n",
    "\n",
    "$$\n",
    "P(B_i|A)=\\frac{P(A|B_i)P(B_i)}{\\sum_{i=0}^k P(A|B_i)P(B_i)}\n",
    "$$"
   ]
  },
  {
   "cell_type": "markdown",
   "metadata": {},
   "source": [
    "Since Bayes' Theorem can be somewhat counterintuitive, it might take some time to grasp the tricky logic lurking behind.We will go through some examples, it is advised to study them thoroughly."
   ]
  },
  {
   "cell_type": "markdown",
   "metadata": {},
   "source": [
    "## <font face=\"gotham\" color=\"purple\"> Example 1</font>"
   ]
  },
  {
   "cell_type": "markdown",
   "metadata": {},
   "source": [
    "A certain disease affects about 1 out of 10,000 people. There is a test to check whether the person has the disease. The test is quite accurate. In particular, we know that\n",
    "\n",
    "1. the probability that the test result is positive (suggesting the person has the disease), given that the person does not have the disease, is only 2 percent;\n",
    "\n",
    "2. the probability that the test result is negative (suggesting the person does not have the disease), given that the person has the disease, is only 1 percent.\n",
    "\n",
    "A random person gets tested for the disease and the result comes back positive. What is the probability that the person has the disease?"
   ]
  },
  {
   "cell_type": "markdown",
   "metadata": {},
   "source": [
    "Event $A$: the test result is positive<br>\n",
    "Event $B$: the person has the disease"
   ]
  },
  {
   "cell_type": "markdown",
   "metadata": {},
   "source": [
    "$$p(B|A) = \\frac{p(A|B)p(B)}{p(A|B)p(B)+p(A|B^c)p(B^c)}= \\frac{(1- .01)\\times.0001}{(1- .01)\\times.0001+.02\\times(1-.0001)}$$"
   ]
  },
  {
   "cell_type": "code",
   "execution_count": 1,
   "metadata": {},
   "outputs": [
    {
     "name": "stdout",
     "output_type": "stream",
     "text": [
      "The probability that a person have positive results and having the disease is 0.493%.\n"
     ]
    }
   ],
   "source": [
    "pB_A =( .99*.0001)/(.99*.0001+.02*.999)\n",
    "print('The probability that a person have positive results and having the disease is %.3f%%.'%(pB_A*100))"
   ]
  },
  {
   "cell_type": "markdown",
   "metadata": {},
   "source": [
    "The result comes with a supprise. But if you dwell on it a while, you will notice an obvious fact that there are much more 'healthy people'(people who do not have this type of disease) i.e.  $9999:1$. Even if you got to guess, you should consider this fact, which we call <font face=\"gotham\" color=\"red\">prior</font>. It means even if a person has a positive result, yet he is extremely likely to be from healthy group."
   ]
  },
  {
   "cell_type": "markdown",
   "metadata": {},
   "source": [
    "You can think this as an algothrim of computing Bayes' Theorem: first we find all people who have positive results, dispite that they have disease or not, then we find all people who truly have disease and with a positive result. The ratio of them is the probability of having the disease given the positive result."
   ]
  },
  {
   "cell_type": "markdown",
   "metadata": {},
   "source": [
    "## <font face=\"gotham\" color=\"purple\"> Example 2</font>"
   ]
  },
  {
   "cell_type": "markdown",
   "metadata": {},
   "source": [
    "Even if $100\\%$ of patients with pancreatic cancer have a certain symptom, when someone has the symptom, it does not mean that this person has a $100\\%$ chance of getting pancreatic cancer. Assume the incidence rate of pancreatic cancer is $1/100000$, while $1/10000$ healthy individuals have the same symptoms worldwide, the probability of having pancreatic cancer given the symptoms is only $9.1\\%$, and the other $90.9\\%$ could be 'false positives'.\n",
    "\n",
    "What is the probability of having pancreatic cancer if the person has corresponding symptoms."
   ]
  },
  {
   "cell_type": "markdown",
   "metadata": {},
   "source": [
    "Event $A$: the person has symptoms <br>\n",
    "Event $B$: the person has the pancreatic cancer"
   ]
  },
  {
   "cell_type": "markdown",
   "metadata": {},
   "source": [
    "$$p(B|A) = \\frac{p(A|B)p(B)}{p(A)} = \\frac{\\frac{1}{100000}\\times 1}{\\frac{1}{100000}\\times 1+\\frac{1}{10000}\\times .091}$$"
   ]
  },
  {
   "cell_type": "code",
   "execution_count": 2,
   "metadata": {},
   "outputs": [
    {
     "name": "stdout",
     "output_type": "stream",
     "text": [
      "The probability that a person who has symptoms truly have pancreatic cancer is 9.901%.\n"
     ]
    }
   ],
   "source": [
    "pB_A = (1/100000)/(1/100000+1/10000*0.91)\n",
    "print('The probability that a person who has symptoms truly have pancreatic cancer is %.3f%%.'%(pB_A*100))"
   ]
  },
  {
   "cell_type": "markdown",
   "metadata": {},
   "source": [
    "## <font face=\"gotham\" color=\"purple\"> Example 3</font>"
   ]
  },
  {
   "cell_type": "markdown",
   "metadata": {},
   "source": [
    "A factory produces an item using three machines—A, B, and C—which account for $20\\%$, $30\\%$, and $50\\%$ of its output, respectively. Of the items produced by machine A, $5\\%$ are defective; similarly, $3\\%$ of machine B's items and $1\\%$ of machine C's are defective. If a randomly selected item is defective, what is the probability it was produced by machine C?"
   ]
  },
  {
   "cell_type": "code",
   "execution_count": 4,
   "metadata": {},
   "outputs": [
    {
     "name": "stdout",
     "output_type": "stream",
     "text": [
      "The probability that a defective product made by machine C is 20.833%.\n"
     ]
    }
   ],
   "source": [
    "pB_A = .5*.01/(.2*.05+.3*.03+.5*.01)\n",
    "print('The probability that a defective product made by machine C is %.3f%%.'%(pB_A*100))"
   ]
  },
  {
   "cell_type": "markdown",
   "metadata": {},
   "source": [
    "## <font face=\"gotham\" color=\"purple\"> Example 4</font>"
   ]
  },
  {
   "cell_type": "markdown",
   "metadata": {},
   "source": [
    "Bag I contains 4 white and 6 black balls while another Bag II contains 4 white and 3 black balls. One ball is drawn at random from one of the bags and it is found to be black. Find the probability that it was drawn from Bag I."
   ]
  },
  {
   "cell_type": "markdown",
   "metadata": {},
   "source": [
    "Event $A$: black ball<br>\n",
    "Event $B$: from bag I"
   ]
  },
  {
   "cell_type": "markdown",
   "metadata": {},
   "source": [
    "$$p(B|A) = \\frac{p(A|B)p(B)}{p(A)}= \\frac{\\frac{6}{10}\\frac{1}{2}}{\\frac{6}{10}\\frac{1}{2}+\\frac{3}{7}\\frac{1}{2}}$$"
   ]
  },
  {
   "cell_type": "code",
   "execution_count": 7,
   "metadata": {},
   "outputs": [
    {
     "name": "stdout",
     "output_type": "stream",
     "text": [
      "The probability that the ball is from Bag I given it is black is 58.333%.\n"
     ]
    }
   ],
   "source": [
    "pB_A = 6/10*.5/(6/10*.5+3/7*.5)\n",
    "print('The probability that the ball is from Bag I given it is black is %.3f%%.'%(pB_A*100))"
   ]
  },
  {
   "cell_type": "markdown",
   "metadata": {},
   "source": [
    "## <font face=\"gotham\" color=\"purple\"> Example 5</font>"
   ]
  },
  {
   "cell_type": "markdown",
   "metadata": {},
   "source": [
    "A man is known to speak truth 2 out of 3 times. He throws a die and reports that number obtained is a four. Find the probability that the number obtained is actually a four.\n",
    "\n",
    "\n",
    "Event $B$: speak truth<br>\n",
    "Event $A$: reports number 4"
   ]
  },
  {
   "cell_type": "markdown",
   "metadata": {},
   "source": [
    "$$p(B|A) = \\frac{p(A|B)p(B)}{p(A)}=\\frac{\\frac{1}{6}\\frac{2}{3}}{\\frac{1}{6}\\frac{2}{3}+\\frac{5}{6}\\frac{1}{3}}$$"
   ]
  },
  {
   "cell_type": "code",
   "execution_count": 11,
   "metadata": {},
   "outputs": [
    {
     "name": "stdout",
     "output_type": "stream",
     "text": [
      "The probability that he obtains 4 given given he speaks the truth is 28.571%.\n"
     ]
    }
   ],
   "source": [
    "pB_A = (1/6*2/3)/(1/6*2/3+5/6*1/3)\n",
    "print('The probability that he obtains 4 given given he speaks the truth is %.3f%%.'%(pB_A*100))"
   ]
  },
  {
   "cell_type": "markdown",
   "metadata": {},
   "source": [
    "## <font face=\"gotham\" color=\"purple\"> Example 6</font>"
   ]
  },
  {
   "cell_type": "markdown",
   "metadata": {},
   "source": [
    "A company audit reveals that $4 \\%$ of department budgets contain errors. A program is developed to analyze budgets and in a test, identifies errors in $98 \\%$ of budgets with errors and $5 \\%$ of those without. If a budget is marked by the program as possibly having an error, what is the probability that the budget DOES have an error?"
   ]
  },
  {
   "cell_type": "markdown",
   "metadata": {},
   "source": [
    "Event A: Program has an error<br>\n",
    "Event B: The budget has an error"
   ]
  },
  {
   "cell_type": "markdown",
   "metadata": {},
   "source": [
    "$$\n",
    "P(B|A)=\\frac{P(A|B)P(B)}{P(A|B)P(B)+P(A|B^c)P(B^c)}=\\frac{.98\\times .04}{.98\\times .04 + .05\\times .96}\n",
    "$$"
   ]
  },
  {
   "cell_type": "code",
   "execution_count": 2,
   "metadata": {},
   "outputs": [
    {
     "name": "stdout",
     "output_type": "stream",
     "text": [
      "The probability that the budget got flagged and does have an error is 44.954%.\n"
     ]
    }
   ],
   "source": [
    "pB_A = .98*.04/(.98*.04+.05*.96)\n",
    "print('The probability that the budget got flagged and does have an error is %.3f%%.'%(pB_A*100))"
   ]
  },
  {
   "cell_type": "code",
   "execution_count": null,
   "metadata": {},
   "outputs": [],
   "source": []
  }
 ],
 "metadata": {
  "kernelspec": {
   "display_name": "Python 3",
   "language": "python",
   "name": "python3"
  },
  "language_info": {
   "codemirror_mode": {
    "name": "ipython",
    "version": 3
   },
   "file_extension": ".py",
   "mimetype": "text/x-python",
   "name": "python",
   "nbconvert_exporter": "python",
   "pygments_lexer": "ipython3",
   "version": "3.7.4"
  },
  "toc": {
   "base_numbering": 1,
   "nav_menu": {},
   "number_sections": true,
   "sideBar": true,
   "skip_h1_title": false,
   "title_cell": "Table of Contents",
   "title_sidebar": "Contents",
   "toc_cell": true,
   "toc_position": {},
   "toc_section_display": true,
   "toc_window_display": false
  }
 },
 "nbformat": 4,
 "nbformat_minor": 2
}
