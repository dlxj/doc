{
 "cells": [
  {
   "cell_type": "code",
   "execution_count": 2,
   "metadata": {},
   "outputs": [],
   "source": [
    "import matplotlib.pyplot as plt\n",
    "import numpy as np\n",
    "import scipy as sp\n",
    "import scipy.linalg\n",
    "import sympy as sy\n",
    "sy.init_printing() "
   ]
  },
  {
   "cell_type": "code",
   "execution_count": 3,
   "metadata": {},
   "outputs": [],
   "source": [
    "np.set_printoptions(precision=3)\n",
    "np.set_printoptions(suppress=True)"
   ]
  },
  {
   "cell_type": "code",
   "execution_count": 4,
   "metadata": {},
   "outputs": [],
   "source": [
    "from IPython.core.interactiveshell import InteractiveShell\n",
    "InteractiveShell.ast_node_interactivity = \"all\""
   ]
  },
  {
   "cell_type": "code",
   "execution_count": 5,
   "metadata": {},
   "outputs": [],
   "source": [
    "def round_expr(expr, num_digits):\n",
    "    return expr.xreplace({n : round(n, num_digits) for n in expr.atoms(sy.Number)})"
   ]
  },
  {
   "cell_type": "markdown",
   "metadata": {},
   "source": [
    "# <font face=\"gotham\" color=\"purple\"> Calculation of Determinant"
   ]
  },
  {
   "cell_type": "markdown",
   "metadata": {},
   "source": [
    "For $2\\times 2$ matrix $\\pmb A$, the algorithm of determinant is\n",
    "$$\n",
    "\\pmb A=\\left[\\begin{matrix} a & b\\cr c & d \\end{matrix}\\right] \\qquad\\text{then}\\qquad \\text{det}\\pmb A=ad-bc\n",
    "$$"
   ]
  },
  {
   "cell_type": "code",
   "execution_count": 6,
   "metadata": {},
   "outputs": [],
   "source": [
    "a, b, c, d, e, f, g, h, i = sy.symbols('a, b, c, d, e, f, g, h, i', real = True)"
   ]
  },
  {
   "cell_type": "markdown",
   "metadata": {},
   "source": [
    "With defined symbols, the algorithms of $2\\times 2$ and $3\\times 3$ determinants are"
   ]
  },
  {
   "cell_type": "code",
   "execution_count": 7,
   "metadata": {},
   "outputs": [
    {
     "data": {
      "image/png": "[encoded data removed]",
      "text/latex": [
       "$\\displaystyle a d - b c$"
      ],
      "text/plain": [
       "a⋅d - b⋅c"
      ]
     },
     "execution_count": 7,
     "metadata": {},
     "output_type": "execute_result"
    }
   ],
   "source": [
    "A = sy.Matrix([[a, b], [c, d]])\n",
    "A.det()"
   ]
  },
  {
   "cell_type": "code",
   "execution_count": 8,
   "metadata": {},
   "outputs": [
    {
     "data": {
      "image/png": "[encoded data removed]",
      "text/latex": [
       "$\\displaystyle a e i - a f h - b d i + b f g + c d h - c e g$"
      ],
      "text/plain": [
       "a⋅e⋅i - a⋅f⋅h - b⋅d⋅i + b⋅f⋅g + c⋅d⋅h - c⋅e⋅g"
      ]
     },
     "execution_count": 8,
     "metadata": {},
     "output_type": "execute_result"
    }
   ],
   "source": [
    "B = sy.Matrix([[a, b, c], [d, e, f], [g, h, i]])\n",
    "B.det()"
   ]
  },
  {
   "cell_type": "markdown",
   "metadata": {},
   "source": [
    "## <font face=\"gotham\" color=\"purple\"> Cofactor Expansion"
   ]
  },
  {
   "cell_type": "markdown",
   "metadata": {},
   "source": [
    " The $(i,j)$-<font face=\"gotham\" color=\"red\">cofactor</font> of $\\pmb A$ is denoted as $C_{ij}$ given by\n",
    " $$C_{i j}=(-1)^{i+j} \\operatorname{det} A_{i j} = (-1)^{i+j} M_{ij}$$\n",
    " where $M_{ij}$ is the <font face=\"gotham\" color=\"red\">minor determinant</font> which excludes $i$th row and $j$th column."
   ]
  },
  {
   "cell_type": "markdown",
   "metadata": {},
   "source": [
    "Consider a matrix $\\pmb A$\n",
    "$$A=\\left[\\begin{array}{rrr}\n",
    "1 & 5 & 0 \\\\\n",
    "2 & 4 & -1 \\\\\n",
    "0 & -2 & 0\n",
    "\\end{array}\\right]$$\n",
    "The cofactor expansion looks like this\n",
    "$$\\begin{aligned}\n",
    "\\operatorname{det} A &=1 \\cdot \\operatorname{det}\\left[\\begin{array}{rr}\n",
    "4 & -1 \\\\\n",
    "-2 & 0\n",
    "\\end{array}\\right]-5 \\cdot \\operatorname{det}\\left[\\begin{array}{cc}\n",
    "2 & -1 \\\\\n",
    "0 & 0\n",
    "\\end{array}\\right]+0 \\cdot \\operatorname{det}\\left[\\begin{array}{rr}\n",
    "2 & 4 \\\\\n",
    "0 & -2\n",
    "\\end{array}\\right] \\\\\n",
    "&=1(0-2)-5(0-0)+0(-4-0)=-2\n",
    "\\end{aligned}$$\n",
    "\n",
    "The scalers in front of each smaller determinant is the first row of $\\pmb A$ and the smaller determinants are the cofactors of $\\pmb A$."
   ]
  },
  {
   "cell_type": "markdown",
   "metadata": {},
   "source": [
    "In general, the expansions across $i$th row or $j$th column are\n",
    "$$\n",
    "\\operatorname{det} A=a_{i 1} C_{i 1}+a_{i 2} C_{i 2}+\\cdots+a_{i n} C_{i n}\n",
    "$$\n",
    "$$\n",
    "\\operatorname{det} A=a_{1 j} C_{1 j}+a_{2 j} C_{2 j}+\\cdots+a_{n j} C_{n j}\n",
    "$$"
   ]
  },
  {
   "cell_type": "markdown",
   "metadata": {},
   "source": [
    "### <font face=\"gotham\" color=\"purple\"> A SymPy Example"
   ]
  },
  {
   "cell_type": "markdown",
   "metadata": {},
   "source": [
    "Consider the matrix below and perform a cofactor expansion"
   ]
  },
  {
   "cell_type": "code",
   "execution_count": 20,
   "metadata": {},
   "outputs": [
    {
     "data": {
      "image/png": "[encoded data removed]",
      "text/latex": [
       "$\\displaystyle \\left[\\begin{matrix}49 & 0 & 61\\\\73 & 22 & 96\\\\2 & 0 & 32\\end{matrix}\\right]$"
      ],
      "text/plain": [
       "⎡49  0   61⎤\n",
       "⎢          ⎥\n",
       "⎢73  22  96⎥\n",
       "⎢          ⎥\n",
       "⎣2   0   32⎦"
      ]
     },
     "execution_count": 20,
     "metadata": {},
     "output_type": "execute_result"
    }
   ],
   "source": [
    "A = sy.Matrix([[49, 0, 61], [73, 22, 96], [2, 0, 32]]);A"
   ]
  },
  {
   "cell_type": "markdown",
   "metadata": {},
   "source": [
    "Cofactor exapansion with the column which has two zero(s): \n",
    "\n",
    "$$\\operatorname{det} A = a_{12}(-1)^{1+2}C_{12}+a_{22}(-1)^{2+2}C_{22}+a_{32}(-1)^{3+2}C_{32}$$"
   ]
  },
  {
   "cell_type": "markdown",
   "metadata": {},
   "source": [
    "We can use SymPy function for calculationg minors: ```sy.matrices.MatrixDeterminant.minor(A, i, 1)```. We can define a function for cofactor row expansion:"
   ]
  },
  {
   "cell_type": "code",
   "execution_count": 53,
   "metadata": {},
   "outputs": [],
   "source": [
    "def cof_exp(matrix, c): # c is the col that we want to expand\n",
    "    detA = 0\n",
    "    for i in range(matrix.shape[1]): # matrix.shape[1] is the number of columns\n",
    "        detA += matrix[i, c]*(-1)**(i+c)*sy.matrices.MatrixDeterminant.minor(matrix, i, c)\n",
    "    return detA"
   ]
  },
  {
   "cell_type": "code",
   "execution_count": 54,
   "metadata": {},
   "outputs": [
    {
     "data": {
      "image/png": "[encoded data removed]",
      "text/latex": [
       "$\\displaystyle 31812$"
      ],
      "text/plain": [
       "31812"
      ]
     },
     "execution_count": 54,
     "metadata": {},
     "output_type": "execute_result"
    }
   ],
   "source": [
    "cof_exp(A,1)"
   ]
  },
  {
   "cell_type": "markdown",
   "metadata": {},
   "source": [
    "Or we can try a random matrix with the user-defined function."
   ]
  },
  {
   "cell_type": "code",
   "execution_count": 64,
   "metadata": {},
   "outputs": [
    {
     "data": {
      "image/png": "[encoded data removed]",
      "text/latex": [
       "$\\displaystyle \\left[\\begin{matrix}0 & 0 & 21 & 0 & 20 & 11 & 0\\\\37 & 36 & 28 & 30 & 35 & 43 & 16\\\\38 & 49 & 0 & 28 & 0 & 33 & 48\\\\19 & 0 & 0 & 44 & 26 & 39 & 31\\\\22 & 43 & 0 & 48 & 0 & 0 & 46\\\\21 & 24 & 45 & 0 & 34 & 36 & 0\\\\16 & 12 & 12 & 40 & 0 & 50 & 33\\end{matrix}\\right]$"
      ],
      "text/plain": [
       "⎡0   0   21  0   20  11  0 ⎤\n",
       "⎢                          ⎥\n",
       "⎢37  36  28  30  35  43  16⎥\n",
       "⎢                          ⎥\n",
       "⎢38  49  0   28  0   33  48⎥\n",
       "⎢                          ⎥\n",
       "⎢19  0   0   44  26  39  31⎥\n",
       "⎢                          ⎥\n",
       "⎢22  43  0   48  0   0   46⎥\n",
       "⎢                          ⎥\n",
       "⎢21  24  45  0   34  36  0 ⎥\n",
       "⎢                          ⎥\n",
       "⎣16  12  12  40  0   50  33⎦"
      ]
     },
     "execution_count": 64,
     "metadata": {},
     "output_type": "execute_result"
    }
   ],
   "source": [
    "B = sy.randMatrix(r = 7, min=10, max=50, percent=70);B"
   ]
  },
  {
   "cell_type": "code",
   "execution_count": 65,
   "metadata": {},
   "outputs": [
    {
     "data": {
      "image/png": "[encoded data removed]",
      "text/latex": [
       "$\\displaystyle 4062684476$"
      ],
      "text/plain": [
       "4062684476"
      ]
     },
     "execution_count": 65,
     "metadata": {},
     "output_type": "execute_result"
    }
   ],
   "source": [
    "cof_exp(B,1)"
   ]
  },
  {
   "cell_type": "markdown",
   "metadata": {},
   "source": [
    "Then verify the result of using determinant method  ```.det()```. We can see indeed cofactor expansion works!"
   ]
  },
  {
   "cell_type": "code",
   "execution_count": 66,
   "metadata": {},
   "outputs": [
    {
     "data": {
      "image/png": "[encoded data removed]",
      "text/latex": [
       "$\\displaystyle 4062684476$"
      ],
      "text/plain": [
       "4062684476"
      ]
     },
     "execution_count": 66,
     "metadata": {},
     "output_type": "execute_result"
    }
   ],
   "source": [
    "B.det()"
   ]
  },
  {
   "cell_type": "markdown",
   "metadata": {},
   "source": [
    "<font face=\"gotham\" color=\"red\">Minor matrices</font> can also be extracted by using code ```sy.matrices.MatrixDeterminant.minor_submatrix()```, for instance, the $M_{23}$ matrix of $\\pmb B$ is"
   ]
  },
  {
   "cell_type": "code",
   "execution_count": 68,
   "metadata": {},
   "outputs": [
    {
     "data": {
      "image/png": "[encoded data removed]",
      "text/latex": [
       "$\\displaystyle \\left[\\begin{matrix}0 & 0 & 21 & 20 & 11 & 0\\\\37 & 36 & 28 & 35 & 43 & 16\\\\19 & 0 & 0 & 26 & 39 & 31\\\\22 & 43 & 0 & 0 & 0 & 46\\\\21 & 24 & 45 & 34 & 36 & 0\\\\16 & 12 & 12 & 0 & 50 & 33\\end{matrix}\\right]$"
      ],
      "text/plain": [
       "⎡0   0   21  20  11  0 ⎤\n",
       "⎢                      ⎥\n",
       "⎢37  36  28  35  43  16⎥\n",
       "⎢                      ⎥\n",
       "⎢19  0   0   26  39  31⎥\n",
       "⎢                      ⎥\n",
       "⎢22  43  0   0   0   46⎥\n",
       "⎢                      ⎥\n",
       "⎢21  24  45  34  36  0 ⎥\n",
       "⎢                      ⎥\n",
       "⎣16  12  12  0   50  33⎦"
      ]
     },
     "execution_count": 68,
     "metadata": {},
     "output_type": "execute_result"
    }
   ],
   "source": [
    "sy.matrices.MatrixDeterminant.minor_submatrix(B, 2, 3)"
   ]
  },
  {
   "cell_type": "markdown",
   "metadata": {},
   "source": [
    "<font face=\"gotham\" color=\"red\">Cofactor matrix</font> is the matrix contain all cofactors of original matrix, and function ```.cofactor_matrix()``` can do the job.\n",
    "\n",
    "$$A=\\left[\\begin{array}{rrr}\n",
    "C_{11} & C_{12} & C_{13} \\\\\n",
    "C_{21} & C_{22} & C_{23} \\\\\n",
    "C_{31} & C_{32} & C_{33}\n",
    "\\end{array}\\right]=\n",
    "\\left[\\begin{array}{rrr}\n",
    "(-1)^{1+1}M_{11} & (-1)^{1+2}M_{12} & (-1)^{1+3}M_{13} \\\\\n",
    "(-1)^{2+1}M_{21} & (-1)^{2+2}M_{22} & (-1)^{2+3}M_{23} \\\\\n",
    "(-1)^{3+1}M_{31} & (-1)^{3+2}M_{32} & (-1)^{3+3}M_{33}\n",
    "\\end{array}\\right]\n",
    "$$\n",
    "\n"
   ]
  },
  {
   "cell_type": "code",
   "execution_count": 70,
   "metadata": {},
   "outputs": [
    {
     "data": {
      "image/png": "[encoded data removed]",
      "text/latex": [
       "$\\displaystyle \\left[\\begin{matrix}704 & -2144 & -44\\\\0 & 1446 & 0\\\\-1342 & -251 & 1078\\end{matrix}\\right]$"
      ],
      "text/plain": [
       "⎡ 704   -2144  -44 ⎤\n",
       "⎢                  ⎥\n",
       "⎢  0    1446    0  ⎥\n",
       "⎢                  ⎥\n",
       "⎣-1342  -251   1078⎦"
      ]
     },
     "execution_count": 70,
     "metadata": {},
     "output_type": "execute_result"
    }
   ],
   "source": [
    "sy.matrices.MatrixDeterminant.cofactor_matrix(A)"
   ]
  },
  {
   "cell_type": "markdown",
   "metadata": {},
   "source": [
    "## <font face=\"gotham\" color=\"purple\"> Triangular Matrix"
   ]
  },
  {
   "cell_type": "markdown",
   "metadata": {},
   "source": [
    "If $\\pmb A$ is triangular matrix, we can use cofactor expansion repetitively, the determinant of the matrix will be the product of the elements on the principal diagonal. \n",
    "\n",
    "$$\n",
    "\\operatorname{det}A_{n\\times n} = \\prod_{i=1}^n A_{ii}\n",
    "$$\n",
    "\n",
    "where $A_{ii}$ is the diagonal element."
   ]
  },
  {
   "cell_type": "markdown",
   "metadata": {},
   "source": [
    "Let's generate a random upper triangluar matrix."
   ]
  },
  {
   "cell_type": "code",
   "execution_count": 75,
   "metadata": {},
   "outputs": [
    {
     "data": {
      "text/plain": [
       "array([[23., 74., 71., 67., 21.],\n",
       "       [ 0., 44., 54., 43., 74.],\n",
       "       [ 0.,  0., 64., 82., 91.],\n",
       "       [ 0.,  0.,  0., 30., 19.],\n",
       "       [ 0.,  0.,  0.,  0., 46.]])"
      ]
     },
     "execution_count": 75,
     "metadata": {},
     "output_type": "execute_result"
    }
   ],
   "source": [
    "A = np.round(np.random.rand(5,5)*100)\n",
    "A_triu = np.triu(A); A_triu"
   ]
  },
  {
   "cell_type": "code",
   "execution_count": 76,
   "metadata": {},
   "outputs": [
    {
     "data": {
      "image/png": "[encoded data removed]",
      "text/latex": [
       "$\\displaystyle 89379839.99999997$"
      ],
      "text/plain": [
       "89379839.99999997"
      ]
     },
     "execution_count": 76,
     "metadata": {},
     "output_type": "execute_result"
    }
   ],
   "source": [
    "np.linalg.det(A_triu)"
   ]
  },
  {
   "cell_type": "markdown",
   "metadata": {},
   "source": [
    "Extract the diagonal by using ```np.diag()```, then calculate the product. It works as well!"
   ]
  },
  {
   "cell_type": "code",
   "execution_count": 77,
   "metadata": {},
   "outputs": [
    {
     "data": {
      "image/png": "[encoded data removed]",
      "text/latex": [
       "$\\displaystyle 89379840.0$"
      ],
      "text/plain": [
       "89379840.0"
      ]
     },
     "execution_count": 77,
     "metadata": {},
     "output_type": "execute_result"
    }
   ],
   "source": [
    "A_diag = np.diag(A_triu)\n",
    "np.prod(A_diag)"
   ]
  },
  {
   "cell_type": "markdown",
   "metadata": {},
   "source": [
    "## <font face=\"gotham\" color=\"purple\"> Properties of Determinants"
   ]
  },
  {
   "cell_type": "markdown",
   "metadata": {},
   "source": [
    "There are many properties of determinants, however they are mostly derived facts from cofactor expansion.\n",
    "<font face=\"gotham\" color=\"red\"> \n",
    "    \n",
    "1. Let $A$ be an $n×n$ square matrix. If one row of $A$ is multiplied by $k$ to produce the matrix $B$, then: $\\text{det} B = k\\, \\text{det} A$.\n",
    "2. Let $A$ be an $n×n$ square matrix. If two rows of $A$ are interchanged to produce a matrix $B$ , then $\\text{det}B=-\\text{det}A$.\n",
    "3. Let $A$ be an $n×n$ square matrix. If a multiple of one row of $A$ is added to another row to produce the matrix $B$, then $\\text{det}A=\\text{det}B$.\n",
    "4. If $A$ is an $n×n$ matrix, then $\\text{det}A^T = \\text{det}A$\n",
    "5. A square matrix $A$ is invertible if and only if $\\text{det}A\\neq 0$\n",
    "6. If $A$ and $B$ are $n×n$ matrices, then $\\text{det}AB = (\\text{det}{A})(\\text{det}{B})$\n",
    "7. If $A$ is an $n×n$ matrix and $k$ is a scalar, then $\\text{det}\\,kA=k^n\\,\\text{det}A$.\n",
    "8. If $A$ is an invertible square matrix, then $\\text{det}A^{-1}=\\frac{1}{\\det A}$.\n",
    "</font>\n",
    "\n",
    "All of them are straightforward, the key is to understand them in terms of cofactor expansion."
   ]
  },
  {
   "cell_type": "markdown",
   "metadata": {},
   "source": [
    "<font face=\"gotham\" color=\"red\">Proof of property 6</font>:\n",
    "$$\\begin{aligned}\n",
    "|A B| &=\\left|E_{p} \\cdots E_{1} B\\right|=\\left|E_{p}\\right|\\left|E_{p-1} \\cdots E_{1} B\\right|=\\cdots \\\\\n",
    "&=\\left|E_{p}\\right| \\cdots\\left|E_{1}\\right||B|=\\cdots=\\left|E_{p} \\cdots E_{1}\\right||B| \\\\\n",
    "&=|A||B|\n",
    "\\end{aligned}$$"
   ]
  },
  {
   "cell_type": "markdown",
   "metadata": {},
   "source": [
    "<font face=\"gotham\" color=\"red\">Proof of property 7</font>:\n",
    "\n",
    "Because $\\text{det} B = k\\, \\text{det} A$, one row of $A$ is multiplied by $k$ to produce $B$.Then multiply all the rows of $A$ by $k$, there will be $n$ $k$'s in front of $\\text{det} A$, which is $k^n \\text{det} A$"
   ]
  },
  {
   "cell_type": "markdown",
   "metadata": {},
   "source": [
    "<font face=\"gotham\" color=\"red\">Proof of property 8</font>:\n",
    "$$\\begin{aligned}\n",
    "&\\begin{aligned}\n",
    "A A^{-1} &=I \\\\\n",
    "\\left|A A^{-1}\\right| &=|I|\n",
    "\\end{aligned}\\\\\n",
    "&|A|\\left|A^{-1}\\right|=1\\\\\n",
    "&\\left|A^{-1}\\right|=\\frac{1}{|A|}\n",
    "\\end{aligned}$$"
   ]
  },
  {
   "cell_type": "markdown",
   "metadata": {},
   "source": [
    "These properties are very useful in analytical derivation of some other theorems, however not useful in numerical sense."
   ]
  },
  {
   "cell_type": "markdown",
   "metadata": {},
   "source": [
    "# <font face=\"gotham\" color=\"purple\"> Cramer's Rule"
   ]
  },
  {
   "cell_type": "markdown",
   "metadata": {},
   "source": [
    "For any $n\\times n$ matrix $A$ and any $b$, denote $A_i(b)$ the matrix obtained from $A$ by replacing column $i$ by the vector $b$."
   ]
  },
  {
   "cell_type": "markdown",
   "metadata": {},
   "source": [
    "$$A_{i}(\\mathbf{b})=\\left[\\begin{array}{lllll}\n",
    "\\mathbf{a}_{1} & \\cdots & \\mathbf{b} & \\cdots & \\mathbf{a}_{n}\n",
    "\\end{array}\\right]$$"
   ]
  },
  {
   "cell_type": "markdown",
   "metadata": {},
   "source": [
    "The <font face=\"gotham\" color=\"red\">Cramer's Rule</font> is \n",
    "$$x_{i}=\\frac{\\operatorname{det} A_{i}(\\mathbf{b})}{\\operatorname{det} A}, \\quad i=1,2, \\ldots, n$$"
   ]
  },
  {
   "cell_type": "markdown",
   "metadata": {},
   "source": [
    "Proof：\n",
    "\n",
    "$$\\begin{aligned}\n",
    "A \\cdot I_{i}(\\mathbf{x}) &=A\\left[\\mathbf{e}_{1} \\quad \\cdots \\quad \\mathbf{x} \\quad \\cdots \\quad \\mathbf{e}_{n}\\right]=\\left[\\begin{array}{llllll}\n",
    "A \\mathbf{e}_{1} & \\cdots & A \\mathbf{x} & \\cdots & A \\mathbf{e}_{n}\n",
    "\\end{array}\\right] \\\\\n",
    "&=\\left[\\begin{array}{llllll}\n",
    "\\mathbf{a}_{1} & \\cdots & \\mathbf{b} & \\cdots & \\mathbf{a}_{n}\n",
    "\\end{array}\\right]=A_{i}(\\mathbf{b})\n",
    "\\end{aligned}$$"
   ]
  },
  {
   "cell_type": "markdown",
   "metadata": {},
   "source": [
    "Use determinant's property,\n",
    "$$(\\operatorname{det} A)\\left(\\operatorname{det} I_{i}(\\mathbf{x})\\right)=\\operatorname{det} A_{i}(\\mathbf{b})$$\n",
    "\n",
    "$\\text{det}I_{i}(\\mathbf{x})$ is $x_i$, by using cofactor expansion.Then we proved the Cramer's Rule."
   ]
  },
  {
   "cell_type": "markdown",
   "metadata": {},
   "source": [
    "## <font face=\"gotham\" color=\"purple\"> A NumPy Example"
   ]
  },
  {
   "cell_type": "markdown",
   "metadata": {},
   "source": [
    "Solve system\n",
    "$$\\begin{aligned}\n",
    "&2 x-y+3 z=-3\\\\\n",
    "&3 x+3 y-z=10\\\\\n",
    "&-x-y+z=-4\n",
    "\\end{aligned}$$"
   ]
  },
  {
   "cell_type": "markdown",
   "metadata": {},
   "source": [
    "Now we have many ways of solving the system, start from Cramer's Rule."
   ]
  },
  {
   "cell_type": "code",
   "execution_count": 61,
   "metadata": {},
   "outputs": [],
   "source": [
    "A = np.array([[2, -1, 3], [3, 3, -1], [-1, -1, 1]])\n",
    "b = np.array([-3, 10, -4])"
   ]
  },
  {
   "cell_type": "code",
   "execution_count": 64,
   "metadata": {},
   "outputs": [],
   "source": [
    "A_1b = np.copy(A)\n",
    "A_1b[:,0]=b\n",
    "\n",
    "A_2b = np.copy(A)\n",
    "A_2b[:,1]=b\n",
    "\n",
    "A_3b = np.copy(A)\n",
    "A_3b[:,2]=b"
   ]
  },
  {
   "cell_type": "code",
   "execution_count": 69,
   "metadata": {},
   "outputs": [
    {
     "data": {
      "image/png": "[encoded data removed]",
      "text/latex": [
       "$\\displaystyle \\left( 1.0000000000000007, \\  1.9999999999999982, \\  -1.0000000000000002\\right)$"
      ],
      "text/plain": [
       "(1.0000000000000007, 1.9999999999999982, -1.0000000000000002)"
      ]
     },
     "execution_count": 69,
     "metadata": {},
     "output_type": "execute_result"
    }
   ],
   "source": [
    "x1 = np.linalg.det(A_1b)/np.linalg.det(A)\n",
    "x2 = np.linalg.det(A_2b)/np.linalg.det(A)\n",
    "x3 = np.linalg.det(A_3b)/np.linalg.det(A)\n",
    "(x1, x2, x3)"
   ]
  },
  {
   "cell_type": "markdown",
   "metadata": {},
   "source": [
    "Next we try built-in ```np.linalg.solve```."
   ]
  },
  {
   "cell_type": "code",
   "execution_count": 70,
   "metadata": {},
   "outputs": [
    {
     "data": {
      "text/plain": [
       "array([ 1.,  2., -1.])"
      ]
     },
     "execution_count": 70,
     "metadata": {},
     "output_type": "execute_result"
    }
   ],
   "source": [
    "np.linalg.solve(A, b)"
   ]
  },
  {
   "cell_type": "markdown",
   "metadata": {},
   "source": [
    "Or we could use $A^{-1}b$"
   ]
  },
  {
   "cell_type": "code",
   "execution_count": 73,
   "metadata": {},
   "outputs": [
    {
     "data": {
      "text/plain": [
       "array([ 1.,  2., -1.])"
      ]
     },
     "execution_count": 73,
     "metadata": {},
     "output_type": "execute_result"
    }
   ],
   "source": [
    "np.linalg.inv(A)@b"
   ]
  },
  {
   "cell_type": "markdown",
   "metadata": {},
   "source": [
    "However, remember that Cramer's rule is rarely carried out in practice when solving system of equation, since computational cost (measured by the number of floating operations, <font face=\"gotham\" color=\"red\"> flops</font>) are much higher than Guassian-Jordon elimination."
   ]
  },
  {
   "cell_type": "markdown",
   "metadata": {},
   "source": [
    "# <font face=\"gotham\" color=\"purple\"> A Formula For $A^{-1}$"
   ]
  },
  {
   "cell_type": "markdown",
   "metadata": {},
   "source": [
    "An alternative algorithm for $A^{-1}$ is\n",
    "$$A^{-1}=\\frac{1}{\\operatorname{det} A}\\left[\\begin{array}{cccc}\n",
    "C_{11} & C_{21} & \\cdots & C_{n 1} \\\\\n",
    "C_{12} & C_{22} & \\cdots & C_{n 2} \\\\\n",
    "\\vdots & \\vdots & & \\vdots \\\\\n",
    "C_{1 n} & C_{2 n} & \\cdots & C_{n n}\n",
    "\\end{array}\\right]$$\n",
    "\n",
    "where the matrix of cofactors on RHS is the <font face=\"gotham\" color=\"red\">adjugate</font> or <font face=\"gotham\" color=\"red\">classical adjoint matrix</font>, SymPy function is ```sy.matrices.MatrixDeterminant.adjugate```. And this is the transpose of the cofactor matrix which we computed using ```sy.matrices.MatrixDeterminant.cofactor_matrix()```"
   ]
  },
  {
   "cell_type": "markdown",
   "metadata": {},
   "source": [
    "## <font face=\"gotham\" color=\"purple\"> A SymPy Example"
   ]
  },
  {
   "cell_type": "code",
   "execution_count": 81,
   "metadata": {},
   "outputs": [
    {
     "data": {
      "image/png": "[encoded data removed]",
      "text/latex": [
       "$\\displaystyle \\left[\\begin{matrix}-5 & 0 & 1 & -3 & -4\\\\0 & 0 & -1 & -5 & -5\\\\3 & -4 & -1 & 0 & 3\\\\0 & -5 & -4 & 0 & -4\\\\0 & 3 & -1 & 0 & 2\\end{matrix}\\right]$"
      ],
      "text/plain": [
       "⎡-5  0   1   -3  -4⎤\n",
       "⎢                  ⎥\n",
       "⎢0   0   -1  -5  -5⎥\n",
       "⎢                  ⎥\n",
       "⎢3   -4  -1  0   3 ⎥\n",
       "⎢                  ⎥\n",
       "⎢0   -5  -4  0   -4⎥\n",
       "⎢                  ⎥\n",
       "⎣0   3   -1  0   2 ⎦"
      ]
     },
     "execution_count": 81,
     "metadata": {},
     "output_type": "execute_result"
    }
   ],
   "source": [
    "A = sy.randMatrix(5, min=-5, max = 5, percent = 80); A"
   ]
  },
  {
   "cell_type": "code",
   "execution_count": 82,
   "metadata": {},
   "outputs": [
    {
     "data": {
      "image/png": "[encoded data removed]",
      "text/latex": [
       "$\\displaystyle \\left[\\begin{matrix}-505 & 303 & -101 & -101 & -303\\\\-180 & 108 & -300 & -58 & 244\\\\-30 & 18 & -50 & -380 & -700\\\\-249 & -295 & -415 & 179 & -255\\\\255 & -153 & 425 & -103 & 395\\end{matrix}\\right]$"
      ],
      "text/plain": [
       "⎡-505  303   -101  -101  -303⎤\n",
       "⎢                            ⎥\n",
       "⎢-180  108   -300  -58   244 ⎥\n",
       "⎢                            ⎥\n",
       "⎢-30    18   -50   -380  -700⎥\n",
       "⎢                            ⎥\n",
       "⎢-249  -295  -415  179   -255⎥\n",
       "⎢                            ⎥\n",
       "⎣255   -153  425   -103  395 ⎦"
      ]
     },
     "execution_count": 82,
     "metadata": {},
     "output_type": "execute_result"
    }
   ],
   "source": [
    "A_adjugate = sy.matrices.MatrixDeterminant.adjugate(A); A_adjugate "
   ]
  },
  {
   "cell_type": "markdown",
   "metadata": {},
   "source": [
    "Let's verify if this is really the adjugate of $A$, we pick element of $(1, 3), (2, 4), (5, 4)$"
   ]
  },
  {
   "cell_type": "code",
   "execution_count": 84,
   "metadata": {},
   "outputs": [
    {
     "data": {
      "image/png": "[encoded data removed]",
      "text/latex": [
       "$\\displaystyle -30$"
      ],
      "text/plain": [
       "-30"
      ]
     },
     "execution_count": 84,
     "metadata": {},
     "output_type": "execute_result"
    },
    {
     "data": {
      "image/png": "[encoded data removed]",
      "text/latex": [
       "$\\displaystyle -58$"
      ],
      "text/plain": [
       "-58"
      ]
     },
     "execution_count": 84,
     "metadata": {},
     "output_type": "execute_result"
    },
    {
     "data": {
      "image/png": "[encoded data removed]",
      "text/latex": [
       "$\\displaystyle -103$"
      ],
      "text/plain": [
       "-103"
      ]
     },
     "execution_count": 84,
     "metadata": {},
     "output_type": "execute_result"
    }
   ],
   "source": [
    "(-1)**(1+3) * sy.matrices.MatrixDeterminant.minor(A, 0, 2) # transpose the index\n",
    "(-1)**(2+4) * sy.matrices.MatrixDeterminant.minor(A, 3, 1)\n",
    "(-1)**(5+4) * sy.matrices.MatrixDeterminant.minor(A, 3, 4)"
   ]
  },
  {
   "cell_type": "markdown",
   "metadata": {},
   "source": [
    "Adjugate is the transpose of cofactor matrix, thus we reverse the row and column index above when referring to the elements in mind."
   ]
  },
  {
   "cell_type": "markdown",
   "metadata": {},
   "source": [
    "The ```sy.N()``` is for converting to float approximation, i.e. we don't want to see fractions."
   ]
  },
  {
   "cell_type": "code",
   "execution_count": 89,
   "metadata": {},
   "outputs": [
    {
     "data": {
      "image/png": "[encoded data removed]",
      "text/latex": [
       "$\\displaystyle \\left[\\begin{matrix}-0.2273 & 0.1364 & -0.0455 & -0.0455 & -0.1364\\\\-0.081 & 0.0486 & -0.135 & -0.0261 & 0.1098\\\\-0.0135 & 0.0081 & -0.0225 & -0.171 & -0.315\\\\-0.1121 & -0.1328 & -0.1868 & 0.0806 & -0.1148\\\\0.1148 & -0.0689 & 0.1913 & -0.0464 & 0.1778\\end{matrix}\\right]$"
      ],
      "text/plain": [
       "⎡-0.2273  0.1364   -0.0455  -0.0455  -0.1364⎤\n",
       "⎢                                           ⎥\n",
       "⎢-0.081   0.0486   -0.135   -0.0261  0.1098 ⎥\n",
       "⎢                                           ⎥\n",
       "⎢-0.0135  0.0081   -0.0225  -0.171   -0.315 ⎥\n",
       "⎢                                           ⎥\n",
       "⎢-0.1121  -0.1328  -0.1868  0.0806   -0.1148⎥\n",
       "⎢                                           ⎥\n",
       "⎣0.1148   -0.0689  0.1913   -0.0464  0.1778 ⎦"
      ]
     },
     "execution_count": 89,
     "metadata": {},
     "output_type": "execute_result"
    }
   ],
   "source": [
    "A_det = A.det()\n",
    "A_inv = (1/A_det)*A_adjugate; round_expr(sy.N(A_inv), 4)"
   ]
  },
  {
   "cell_type": "code",
   "execution_count": 90,
   "metadata": {},
   "outputs": [
    {
     "data": {
      "image/png": "[encoded data removed]",
      "text/latex": [
       "$\\displaystyle \\left[\\begin{matrix}-0.2273 & 0.1364 & -0.0455 & -0.0455 & -0.1364\\\\-0.081 & 0.0486 & -0.135 & -0.0261 & 0.1098\\\\-0.0135 & 0.0081 & -0.0225 & -0.171 & -0.315\\\\-0.1121 & -0.1328 & -0.1868 & 0.0806 & -0.1148\\\\0.1148 & -0.0689 & 0.1913 & -0.0464 & 0.1778\\end{matrix}\\right]$"
      ],
      "text/plain": [
       "⎡-0.2273  0.1364   -0.0455  -0.0455  -0.1364⎤\n",
       "⎢                                           ⎥\n",
       "⎢-0.081   0.0486   -0.135   -0.0261  0.1098 ⎥\n",
       "⎢                                           ⎥\n",
       "⎢-0.0135  0.0081   -0.0225  -0.171   -0.315 ⎥\n",
       "⎢                                           ⎥\n",
       "⎢-0.1121  -0.1328  -0.1868  0.0806   -0.1148⎥\n",
       "⎢                                           ⎥\n",
       "⎣0.1148   -0.0689  0.1913   -0.0464  0.1778 ⎦"
      ]
     },
     "execution_count": 90,
     "metadata": {},
     "output_type": "execute_result"
    }
   ],
   "source": [
    "round_expr(sy.N(A.inv()), 4)"
   ]
  },
  {
   "cell_type": "markdown",
   "metadata": {},
   "source": [
    "We have shown that are the same."
   ]
  },
  {
   "cell_type": "code",
   "execution_count": 91,
   "metadata": {},
   "outputs": [
    {
     "data": {
      "image/png": "[encoded data removed]",
      "text/latex": [
       "$\\displaystyle \\left[\\begin{matrix}0 & 0 & 0 & 0 & 0\\\\0 & 0 & 0 & 0 & 0\\\\0 & 0 & 0 & 0 & 0\\\\0 & 0 & 0 & 0 & 0\\\\0 & 0 & 0 & 0 & 0\\end{matrix}\\right]$"
      ],
      "text/plain": [
       "⎡0  0  0  0  0⎤\n",
       "⎢             ⎥\n",
       "⎢0  0  0  0  0⎥\n",
       "⎢             ⎥\n",
       "⎢0  0  0  0  0⎥\n",
       "⎢             ⎥\n",
       "⎢0  0  0  0  0⎥\n",
       "⎢             ⎥\n",
       "⎣0  0  0  0  0⎦"
      ]
     },
     "execution_count": 91,
     "metadata": {},
     "output_type": "execute_result"
    }
   ],
   "source": [
    "A_inv-A.inv()"
   ]
  },
  {
   "cell_type": "markdown",
   "metadata": {},
   "source": [
    "## <font face=\"gotham\" color=\"purple\"> The Short Proof"
   ]
  },
  {
   "cell_type": "markdown",
   "metadata": {},
   "source": [
    "We define $x$ the $j$th column of $A^{-1}$ which satifies\n",
    "$$\n",
    "Ax= e_j\n",
    "$$\n",
    "\n",
    "and $e_j$ is the $j$th column of identity matrix, and $j$th entry of $x$ is the $(i,j)$-entry of $A^{-1}$.By Cramer's rule,\n",
    "\n",
    "$$\\left\\{(i, j) \\text { -entry of } A^{-1}\\right\\}=x_{i}=\\frac{\\operatorname{det} A_{i}\\left(\\mathbf{e}_{j}\\right)}{\\operatorname{det} A}$$\n",
    "\n",
    "The cofactor expansion down column $i$ of $A_i(e_j)$,\n",
    "$$\\operatorname{det} A_{i}\\left(\\mathbf{e}_{j}\\right)=(-1)^{i+j} \\operatorname{det} A_{j i}=C_{j i}$$"
   ]
  }
 ],
 "metadata": {
  "kernelspec": {
   "display_name": "Python 3",
   "language": "python",
   "name": "python3"
  },
  "language_info": {
   "codemirror_mode": {
    "name": "ipython",
    "version": 3
   },
   "file_extension": ".py",
   "mimetype": "text/x-python",
   "name": "python",
   "nbconvert_exporter": "python",
   "pygments_lexer": "ipython3",
   "version": "3.7.4"
  },
  "toc": {
   "base_numbering": 1,
   "nav_menu": {},
   "number_sections": true,
   "sideBar": true,
   "skip_h1_title": false,
   "title_cell": "Table of Contents",
   "title_sidebar": "Contents",
   "toc_cell": false,
   "toc_position": {},
   "toc_section_display": true,
   "toc_window_display": false
  }
 },
 "nbformat": 4,
 "nbformat_minor": 2
}
