{
  "nbformat": 4,
  "nbformat_minor": 0,
  "metadata": {
    "colab": {
      "name": "ffmpeg_CUDA.ipynb",
      "provenance": [],
      "collapsed_sections": [],
      "machine_shape": "hm"
    },
    "kernelspec": {
      "name": "python3",
      "display_name": "Python 3"
    },
    "language_info": {
      "name": "python"
    },
    "accelerator": "GPU"
  },
  "cells": [
    {
      "cell_type": "markdown",
      "metadata": {
        "id": "cMyhKA_mToAB"
      },
      "source": [
        "\n",
        "[NVIDIA FFmpeg 转码指南](https://developer.nvidia.com/zh-cn/blog/nvidia-ffmpeg-transcoding-guide/)\n",
        "\n"
      ]
    },
    {
      "cell_type": "code",
      "metadata": {
        "id": "V-xrg6TfIe4o"
      },
      "source": [
        "! nvidia-smi dmon"
      ],
      "execution_count": null,
      "outputs": []
    },
    {
      "cell_type": "code",
      "metadata": {
        "id": "DVkFFI-bJXR_"
      },
      "source": [
        "! nvidia-smi -q -d UTILIZATION"
      ],
      "execution_count": null,
      "outputs": []
    },
    {
      "cell_type": "code",
      "metadata": {
        "id": "1s3HE7XpSKcs"
      },
      "source": [
        "from google.colab import drive\n",
        "drive.mount('/content/gdrive')\n",
        "! gdown --id '17pZYDHGYaXrFydop016s6aPlPD5VxHxD' #--output data.zip\n",
        "# ! unzip ./chinese_roberta_wwm_ext_L-12_H-768_A-12.zip -d ./chinese_roberta_wwm_ext_L-12_H-768_A-12"
      ],
      "execution_count": null,
      "outputs": []
    },
    {
      "cell_type": "code",
      "metadata": {
        "id": "XyCg1cFlSTYu"
      },
      "source": [
        "! ffmpeg -i ./t.mkv -y -ss 00:01:12.960 -to 00:01:14.640  -codec:v hevc -acodec mp3 -ar 44100 -ac 2 -b:a 192k t.ts"
      ],
      "execution_count": null,
      "outputs": []
    },
    {
      "cell_type": "code",
      "metadata": {
        "id": "g6BMjK7fUMx2"
      },
      "source": [
        "! ffmpeg -i ./t.mkv -y -ss 00:01:12.960 -to 00:01:14.640  -vsync 0 -codec:v hevc_nvenc   -acodec aac -ar 44100 -ac 2 -b:a 192k t.ts"
      ],
      "execution_count": null,
      "outputs": []
    },
    {
      "cell_type": "code",
      "metadata": {
        "id": "IiHdx0fGq1lz"
      },
      "source": [
        "! ffmpeg -i t.mkv -y -ss 00:01:12.960 -to 00:01:14.640 -codec:v hevc -acodec mp3 -ar 44100 -ac 2 -b:a 192k -c:s mov_text t.ts # 软字慕\n"
      ],
      "execution_count": null,
      "outputs": []
    },
    {
      "cell_type": "code",
      "metadata": {
        "id": "veYNnjFjwBLv"
      },
      "source": [
        "! ffmpeg -i t.mkv -y -ss 00:01:12.960 -to 00:01:14.640 -codec:v hevc_nvenc -acodec aac -ar 44100 -ac 2 -b:a 192k -vf subtitles=t.mkv t.ts # 硬字幕"
      ],
      "execution_count": null,
      "outputs": []
    }
  ]
}