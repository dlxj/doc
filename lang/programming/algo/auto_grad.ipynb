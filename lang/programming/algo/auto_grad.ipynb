{
  "nbformat": 4,
  "nbformat_minor": 0,
  "metadata": {
    "colab": {
      "name": "auto_grad.ipynb",
      "provenance": [],
      "collapsed_sections": []
    },
    "kernelspec": {
      "name": "python3",
      "display_name": "Python 3"
    },
    "language_info": {
      "name": "python"
    }
  },
  "cells": [
    {
      "cell_type": "code",
      "metadata": {
        "colab": {
          "base_uri": "https://localhost:8080/"
        },
        "id": "LUVcOUFXoREz",
        "outputId": "8321f677-d2a7-4097-9b3c-f3f6c3c2206d"
      },
      "source": [
        "delta = 1e-7\n",
        "\n",
        "p =  jnp.array(\n",
        "    [ [1, 0], \n",
        "      [0, 1] ]\n",
        "    )\n",
        "\n",
        "q =  jnp.array(\n",
        "    [ [1, 2], \n",
        "      [3, 4] ]\n",
        "    ) \n",
        "\n",
        "print(jnp.sum(q, axis=1))\n",
        "\n",
        "print(p * q)\n",
        "\n",
        "print(p+delta)\n",
        "\n",
        "print( jnp.log( p ) )"
      ],
      "execution_count": 14,
      "outputs": [
        {
          "output_type": "stream",
          "name": "stdout",
          "text": [
            "[3 7]\n",
            "[[1 0]\n",
            " [0 4]]\n",
            "[[1.0000001e+00 1.0000000e-07]\n",
            " [1.0000000e-07 1.0000001e+00]]\n",
            "[[  0. -inf]\n",
            " [-inf   0.]]\n"
          ]
        }
      ]
    },
    {
      "cell_type": "code",
      "metadata": {
        "id": "cYx9V1iMADwP"
      },
      "source": [
        "# https://jax.readthedocs.io/en/latest/notebooks/autodiff_cookbook.html\n",
        "# https://jax.readthedocs.io/en/latest/jax.html#jax.jacfwd   grad 只能对标量求导，jacfwd 对向量 "
      ],
      "execution_count": null,
      "outputs": []
    },
    {
      "cell_type": "code",
      "metadata": {
        "colab": {
          "base_uri": "https://localhost:8080/"
        },
        "id": "B4a-cg0D_uWg",
        "outputId": "0b44696b-bbd6-4da3-a233-ad41e855bc4d"
      },
      "source": [
        "\n",
        "# import numpy as np\n",
        "# import torch\n",
        "# from torch import tensor\n",
        "\n",
        "# from torch.autograd.functional import jacobian\n",
        "# from torch.functional import Tensor\n",
        "\n",
        "import jax\n",
        "import jax.numpy as jnp\n",
        "from jax import grad, jit, vmap\n",
        "from jax import random\n",
        "\n",
        "key = random.PRNGKey(0)\n",
        "\n",
        "\n",
        "# def exp_reducer(x):\n",
        "#     return x.exp() # .sum(dim=1)\n",
        "\n",
        "# inputs =  Tensor( [ [1, 2], [3, 4] ] ) # torch.rand(2, 2)\n",
        "# outputs = exp_reducer(inputs)\n",
        "\n",
        "# ja = jacobian(exp_reducer, inputs)\n",
        "\n",
        "\n",
        "w = jax.random.uniform(key, shape=(2, 2))   # 2*2 权重\n",
        "\n",
        "x = jnp.array(\n",
        "    [ [0, 0], \n",
        "      [0, 1] ]\n",
        "    ) \n",
        "\n",
        "p =  jnp.array(\n",
        "    [ [1, 0], \n",
        "      [0, 1] ]\n",
        "    ) \n",
        "\n",
        "# print( jnp.log( p ) )\n",
        "\n",
        "b = jax.random.uniform(key, shape=(2, 2))   # 2*2 偏置\n",
        "\n",
        "def forword(w):\n",
        "\n",
        "    # 前向传播 (2,2) . (2,2) = (2,2)\n",
        "\n",
        "    a = x.dot( w ) + b\n",
        "\n",
        "    return a\n",
        "\n",
        "def stable_softmax(X):\n",
        "    exps = jnp.exp(X - jnp.max(X))\n",
        "    return exps / jnp.sum(exps)\n",
        "\n",
        "def crossE(q):\n",
        "    delta = 1e-7\n",
        "    tmp = -1 * p * ( jnp.log( q + delta ) )\n",
        "    e = jnp.sum(tmp, axis=1)\n",
        "    return e\n",
        "\n",
        "# grad_forword = grad(forword) # grad 只能对标量求导\n",
        "\n",
        "grad_forword = jax.jacfwd(forword)  # column-by-column\n",
        "  # jacrev is row-by-row\n",
        "\n",
        "grad_crossE = jax.jacfwd(crossE) \n",
        "\n",
        "jac_w = grad_forword(w)\n",
        "\n",
        "a = forword(w)\n",
        "\n",
        "q = stable_softmax(a)\n",
        "\n",
        "\n",
        "jac_q = grad_crossE(q)\n",
        "\n",
        "e = crossE(q)\n",
        "\n",
        "print( e )\n",
        "\n",
        "#ja = jacobian(forword, w)\n",
        "\n",
        "#print(ja)"
      ],
      "execution_count": 23,
      "outputs": [
        {
          "output_type": "stream",
          "name": "stdout",
          "text": [
            "[1.2575688 1.6301262]\n"
          ]
        }
      ]
    }
  ]
}