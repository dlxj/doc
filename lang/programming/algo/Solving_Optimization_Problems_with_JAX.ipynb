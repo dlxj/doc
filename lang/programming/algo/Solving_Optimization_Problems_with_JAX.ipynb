{
  "nbformat": 4,
  "nbformat_minor": 0,
  "metadata": {
    "colab": {
      "name": "Solving Optimization Problems with JAX.ipynb",
      "provenance": [],
      "collapsed_sections": []
    },
    "kernelspec": {
      "name": "python3",
      "display_name": "Python 3"
    },
    "language_info": {
      "name": "python"
    }
  },
  "cells": [
    {
      "cell_type": "code",
      "metadata": {
        "colab": {
          "base_uri": "https://localhost:8080/"
        },
        "id": "zrxzlczoERtg",
        "outputId": "c87a555c-d6ce-4be8-c391-95d76dcbb886"
      },
      "source": [
        "# https://medium.com/swlh/solving-optimization-problems-with-jax-98376508bd4f\n",
        "\n",
        "import jax.numpy as np\n",
        "from jax import grad, jit, vmap\n",
        "from jax import random\n",
        "from jax import jacfwd, jacrev\n",
        "from jax.numpy import linalg\n",
        "\n",
        "from numpy import nanargmin,nanargmax \n",
        "\n",
        "key = random.PRNGKey(42)\n",
        "\n",
        "\n",
        "def y(x): return ((x * np.sqrt(12*x - 36 )) / (2*(x - 3))) \n",
        "def L(x): return np.sqrt(x**2 + y(x)**2)\n",
        "\n",
        "gradL = grad(L)\n",
        "def minGD(x) : return x - 0.01*gradL(x)\n",
        "\n",
        "domain = np.linspace (3.0 , 5.0 , num=50)\n",
        "\n",
        "vfuncGD = vmap(minGD)\n",
        "for epoch in range (50) :\n",
        "  domain = vfuncGD(domain)\n",
        "  \n",
        "minfunc = vmap(L)\n",
        "minimums = minfunc(domain)\n",
        "\n",
        "\n",
        "arglist = nanargmin(minimums)\n",
        "argmin = domain[ arglist ]\n",
        "minimum = minimums[ arglist ]\n",
        "\n",
        "print(\"The minimum is {} the arg min is {}\".format(minimum,argmin))\n",
        "\n"
      ],
      "execution_count": 6,
      "outputs": [
        {
          "output_type": "stream",
          "name": "stdout",
          "text": [
            "The minimum is 7.794247150421143 the arg min is 4.505731582641602\n"
          ]
        }
      ]
    },
    {
      "cell_type": "code",
      "metadata": {
        "colab": {
          "base_uri": "https://localhost:8080/"
        },
        "id": "XUVA1pizFC_U",
        "outputId": "d60f9251-cfd9-45f8-ad54-f197fce740e7"
      },
      "source": [
        "print(arglist)"
      ],
      "execution_count": 7,
      "outputs": [
        {
          "output_type": "stream",
          "name": "stdout",
          "text": [
            "37\n"
          ]
        }
      ]
    },
    {
      "cell_type": "code",
      "metadata": {
        "colab": {
          "base_uri": "https://localhost:8080/"
        },
        "id": "1J6TWSZZFnbx",
        "outputId": "be8ffb2f-9f9d-4ae2-f1c0-7d1c1fe6dddc"
      },
      "source": [
        "print(domain)"
      ],
      "execution_count": 8,
      "outputs": [
        {
          "output_type": "stream",
          "name": "stdout",
          "text": [
            "[      nan 5.7843103 4.3307214 4.204367  4.182989  4.1773705 4.1757603\n",
            " 4.1756597 4.1763864 4.1777277 4.1796274 4.182075  4.1850877 4.1886835\n",
            " 4.1928926 4.197744  4.203266  4.2094893 4.216439  4.2241454 4.23263\n",
            " 4.241915  4.2520213 4.2629647 4.274755  4.2874093 4.3009276 4.3153176\n",
            " 4.3305783 4.346705  4.3636956 4.3815413 4.4002247 4.41974   4.440065\n",
            " 4.461185  4.483081  4.5057316 4.5291166 4.55321   4.577988  4.6034336\n",
            " 4.629517  4.656216  4.683507  4.7113643 4.7397676 4.76869   4.7981167\n",
            " 4.828019 ]\n"
          ]
        }
      ]
    },
    {
      "cell_type": "code",
      "metadata": {
        "colab": {
          "base_uri": "https://localhost:8080/"
        },
        "id": "t7gwmaG2Fzvy",
        "outputId": "cfba6a4c-9b1f-4379-b148-388bb68d8f38"
      },
      "source": [
        "print(minimums)"
      ],
      "execution_count": 9,
      "outputs": [
        {
          "output_type": "stream",
          "name": "stdout",
          "text": [
            "[      nan 8.337169  7.8126216 7.8554583 7.8657427 7.8686085 7.869442\n",
            " 7.869495  7.8691173 7.8684244 7.867449  7.8662043 7.8646903 7.8629084\n",
            " 7.860858  7.8585405 7.8559637 7.853135  7.8500714 7.8467846 7.843305\n",
            " 7.8396564 7.8358707 7.8319883 7.828048  7.8240952 7.8201776 7.8163476\n",
            " 7.812655  7.809155  7.805899  7.8029428 7.800338  7.7981334 7.7963786\n",
            " 7.795119  7.7943954 7.794247  7.7947097 7.7958136 7.797586  7.800049\n",
            " 7.8032246 7.807126  7.811767  7.8171563 7.8233    7.830199  7.837856\n",
            " 7.846267 ]\n"
          ]
        }
      ]
    }
  ]
}