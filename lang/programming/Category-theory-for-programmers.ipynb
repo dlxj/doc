{
 "cells": [
  {
   "cell_type": "markdown",
   "metadata": {},
   "source": [
    "# Category theory for programmers\n",
    "\n",
    "[Category Theory for Programmers](https://github.com/hmemcpy/milewski-ctfp-pdf)  \n",
    "[category-theory-for-programmers-print](file:///Users/vvw/Documents/GitHub/books/chinese/技术/category-theory-for-programmers-print.pdf)  "
   ]
  },
  {
   "cell_type": "markdown",
   "metadata": {},
   "source": [
    "**范畴包含两种东西：对象和对象之间的箭头**  \n",
    "**箭头又叫态射 morphisms，箭头就是函数**   \n",
    "**箭头有两种：普通箭头和单位箭头**  \n",
    "**数学上函数的组合顺序是从左到右：𝑔 ∘ 𝑓**  \n",
    "Mathematica 是从**左到右**组合：Transpose // MatrixForm  \n",
    "Haskell 是从**右到左**组合：f.g  \n",
    "流行线上传送带的运动方向不同，但是喂料的目的是一样的  \n",
    "\n"
   ]
  },
  {
   "cell_type": "markdown",
   "metadata": {},
   "source": [
    "### Preface\n",
    "---\n",
    "**category theory** that would be targeted at programmers  \n",
    "- category theory 范畴论\n",
    "\n",
    "there is a **huge gap** between **science and engineering**\n",
    "\n",
    "But I’ve always felt a very strong **compulsion** to explain things. I have **tremendous admiration for Richard Feynman** who was the master of simple explanations. \n",
    "\n",
    "which is supposed to **motivate** the reader to learn category theory  \n",
    "- motivate 激励  \n",
    "\n",
    "and whatever objections you might have to learning one of **the most abstract branches of mathematics** in your “copious spare time” are totally unfounded.  \n",
    "- totally unfounded 完全没有根据  \n",
    "\n",
    "My **optimism** is based on several observations. First, **category theory is a treasure trove** of extremely useful programming ideas. \n",
    "- optimism 乐观  \n",
    "\n",
    "You might be **allergic** to calculus or algebra, but it doesn’t mean you won’t enjoy category theory.   \n",
    "- allergic 过敏；极度讨厌  \n",
    "\n",
    "That’s because category theory — rather than dealing with particulars — **deals with structure**.  \n",
    "- **范畴论是关于结构的学问**  \n",
    "\n",
    "Functional programming is not only about composing functions and algebraic data structures — **it makes concurrency composable**  \n",
    "- 函数编程使得**组合并发成为可能**\n",
    "\n",
    "I will butcher math to make it more **palatable** to programmers.\n",
    "- palatable 美味；可口\n",
    "\n",
    "and construct all your proofs **rigorously**. \n",
    "- rigorously 严格地  \n",
    "\n",
    "They stopped laughing when they discovered a completely new branch of calculus called **distribution theory** that formalized Dirac’s in- sights.\n",
    "- distribution theory 分配理论\n",
    "\n",
    "I do have a worn-out copy of Saunders Mac Lane’s Category Theory for the Working Mathematician on my nightstand.\n",
    "- nightstand 床头柜\n",
    "\n",
    "That’s exactly how I got started with Haskell. I found its **terse syntax** and powerful type system a great help in understanding and implementing C++ templates, data structures, and algo-rithms. \n",
    "- **Haskell 简练的语法和强大的类型系统，对理解C++ 的模板、数据结构以及算法有大有帮助**  \n"
   ]
  },
  {
   "cell_type": "markdown",
   "metadata": {},
   "source": [
    "### Category: The Essence of Composition\n",
    "---\n",
    "\n",
    "A category consists of objects and arrows that go between them.\n",
    "- 范畴包含两种东西：**对象和对象之间的箭头**\n",
    "\n",
    "That’s why categories are so easy to represent **pictorially**.\n",
    "- pictorially 绘画  \n",
    "\n",
    "An object can be drawn as a circle or a point, and anarrow... is an arrow. (Just for variety, I will occasionally draw objects as piggies and arrows as fireworks.)\n",
    "- **对象画成圆圈或小猪，箭头画成箭头或烟花**\n",
    "\n",
    "Arrows compose, so if you have an arrow from object 𝐴 to object 𝐵, and another arrow from object 𝐵 to object 𝐶, then there must be an arrow — their composition — that goes from 𝐴 to 𝐶.\n",
    "- A -> B, B -> C => A -> C  \n",
    "- 这还不是完整的范畴，因为还缺了一个**单位态射(identity morphisms)**\n",
    "\n",
    "Let’s talk concretes. Think of **arrows, which are also called morphisms, as functions**. \n",
    "- **箭头又叫态射 morphisms，箭头就是函数**  \n",
    "\n",
    "In math, such composition is denoted by a small circle between functions: 𝑔 ∘ 𝑓 . Notice the right to left order of composition. \n",
    "- 数学上用一个空心小圆圈标记在两个函数之间来表示函数的组合：𝑔 ∘ 𝑓，**注意数学上函数的组合顺序是从左到右**\n",
    "\n",
    "\n",
    "Unix 中两个管道命令的使用就是一种组合，也是从左到右  \n",
    "> lsof | grep Chrome  \n",
    "\n",
    "Haskell 是从右到左组合  \n",
    "> g :: A -> B  \n",
    "f :: B -> C  \n",
    "f.g\n",
    "\n",
    "In fact, **Haskell will let you use Unicode characters** so you can write composition as:  \n",
    "g◦f  \n",
    "You can even use Unicode double colons and arrows:  \n",
    "f∷A→B  \n",
    "\n",
    "\n"
   ]
  },
  {
   "cell_type": "code",
   "execution_count": null,
   "metadata": {},
   "outputs": [],
   "source": []
  },
  {
   "cell_type": "code",
   "execution_count": null,
   "metadata": {},
   "outputs": [],
   "source": []
  }
 ],
 "metadata": {
  "kernelspec": {
   "display_name": "Haskell",
   "language": "haskell",
   "name": "haskell"
  },
  "language_info": {
   "codemirror_mode": "ihaskell",
   "file_extension": ".hs",
   "name": "haskell",
   "pygments_lexer": "Haskell",
   "version": "8.6.5"
  }
 },
 "nbformat": 4,
 "nbformat_minor": 4
}
